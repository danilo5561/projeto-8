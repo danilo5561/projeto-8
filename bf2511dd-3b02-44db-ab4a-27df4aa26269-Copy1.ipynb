{
 "cells": [
  {
   "cell_type": "markdown",
   "metadata": {},
   "source": [
    "## Análise de otimização das despesas com marketing\n",
    "\n",
    "#### Você se saiu muito bem no curso,  e recebeu uma oferta de estágio no departamento analítico da empresa Y.Afisha. Sua primeira tarefa é ajudar a empresa a otimizar suas despesas com marketing."
   ]
  },
  {
   "cell_type": "markdown",
   "metadata": {},
   "source": [
    "#### Passo 1. Carregue os dados e prepare-os para a análise\n",
    "\n",
    "Armazene os dados sobre os acessos, pedidos e despesas em variáveis. Otimize os dados para a análise. Certifique-se de que cada coluna contém o tipo correto de dados."
   ]
  },
  {
   "cell_type": "code",
   "execution_count": 28,
   "metadata": {},
   "outputs": [],
   "source": [
    "# importando as bibliotecas:\n",
    "\n",
    "import pandas as pd\n",
    "from scipy import stats as st\n",
    "import numpy as np\n",
    "from matplotlib import pyplot as plt\n",
    "import seaborn as sns"
   ]
  },
  {
   "cell_type": "code",
   "execution_count": 29,
   "metadata": {},
   "outputs": [],
   "source": [
    "# carregando os arquivos csv com os tipos já ajustados, comentários ao lado de cada variável com o tamanho original:\n",
    "\n",
    "visit_log = pd.read_csv('/datasets/visits_log_us.csv', \n",
    "    parse_dates = ['End Ts', 'Start Ts']) # tamanho original 79.3MB\n",
    "\n",
    "orders_log = pd.read_csv('/datasets/orders_log_us.csv',\n",
    "    parse_dates = ['Buy Ts']) # tamanho original 4.4MB\n",
    "\n",
    "costs_df = pd.read_csv('/datasets/costs_us.csv',\n",
    "    parse_dates = ['dt']) # tamanho original 206.2KB"
   ]
  },
  {
   "cell_type": "code",
   "execution_count": 30,
   "metadata": {},
   "outputs": [
    {
     "name": "stdout",
     "output_type": "stream",
     "text": [
      "<class 'pandas.core.frame.DataFrame'>\n",
      "RangeIndex: 359400 entries, 0 to 359399\n",
      "Data columns (total 5 columns):\n",
      " #   Column     Non-Null Count   Dtype         \n",
      "---  ------     --------------   -----         \n",
      " 0   Device     359400 non-null  object        \n",
      " 1   End Ts     359400 non-null  datetime64[ns]\n",
      " 2   Source Id  359400 non-null  int64         \n",
      " 3   Start Ts   359400 non-null  datetime64[ns]\n",
      " 4   Uid        359400 non-null  uint64        \n",
      "dtypes: datetime64[ns](2), int64(1), object(1), uint64(1)\n",
      "memory usage: 32.7 MB\n"
     ]
    }
   ],
   "source": [
    "# Verificando os arquivos: \n",
    "\n",
    "visit_log.info(memory_usage = 'deep') # reduzido para 32.7MB (79.3MB)"
   ]
  },
  {
   "cell_type": "code",
   "execution_count": 31,
   "metadata": {},
   "outputs": [
    {
     "name": "stdout",
     "output_type": "stream",
     "text": [
      "<class 'pandas.core.frame.DataFrame'>\n",
      "RangeIndex: 50415 entries, 0 to 50414\n",
      "Data columns (total 3 columns):\n",
      " #   Column   Non-Null Count  Dtype         \n",
      "---  ------   --------------  -----         \n",
      " 0   Buy Ts   50415 non-null  datetime64[ns]\n",
      " 1   Revenue  50415 non-null  float64       \n",
      " 2   Uid      50415 non-null  uint64        \n",
      "dtypes: datetime64[ns](1), float64(1), uint64(1)\n",
      "memory usage: 1.2 MB\n"
     ]
    }
   ],
   "source": [
    "orders_log.info(memory_usage = 'deep') # reduziu o tamanho do arquivo para 1.2 MB (4.4MB)"
   ]
  },
  {
   "cell_type": "code",
   "execution_count": 32,
   "metadata": {},
   "outputs": [
    {
     "name": "stdout",
     "output_type": "stream",
     "text": [
      "<class 'pandas.core.frame.DataFrame'>\n",
      "RangeIndex: 2542 entries, 0 to 2541\n",
      "Data columns (total 3 columns):\n",
      " #   Column     Non-Null Count  Dtype         \n",
      "---  ------     --------------  -----         \n",
      " 0   source_id  2542 non-null   int64         \n",
      " 1   dt         2542 non-null   datetime64[ns]\n",
      " 2   costs      2542 non-null   float64       \n",
      "dtypes: datetime64[ns](1), float64(1), int64(1)\n",
      "memory usage: 59.7 KB\n"
     ]
    }
   ],
   "source": [
    "costs_df.info(memory_usage = 'deep') # reduzido para 59.7 KB (206.2 KB)"
   ]
  },
  {
   "cell_type": "code",
   "execution_count": 33,
   "metadata": {},
   "outputs": [
    {
     "name": "stdout",
     "output_type": "stream",
     "text": [
      "    Device              End Ts  Source Id            Start Ts  \\\n",
      "0    touch 2017-12-20 17:38:00          4 2017-12-20 17:20:00   \n",
      "1  desktop 2018-02-19 17:21:00          2 2018-02-19 16:53:00   \n",
      "2    touch 2017-07-01 01:54:00          5 2017-07-01 01:54:00   \n",
      "3  desktop 2018-05-20 11:23:00          9 2018-05-20 10:59:00   \n",
      "4  desktop 2017-12-27 14:06:00          3 2017-12-27 14:06:00   \n",
      "\n",
      "                    Uid  \n",
      "0  16879256277535980062  \n",
      "1    104060357244891740  \n",
      "2   7459035603376831527  \n",
      "3  16174680259334210214  \n",
      "4   9969694820036681168  \n"
     ]
    }
   ],
   "source": [
    "print(visit_log.head())"
   ]
  },
  {
   "cell_type": "code",
   "execution_count": 34,
   "metadata": {},
   "outputs": [
    {
     "name": "stdout",
     "output_type": "stream",
     "text": [
      "               Buy Ts  Revenue                   Uid\n",
      "0 2017-06-01 00:10:00    17.00  10329302124590727494\n",
      "1 2017-06-01 00:25:00     0.55  11627257723692907447\n",
      "2 2017-06-01 00:27:00     0.37  17903680561304213844\n",
      "3 2017-06-01 00:29:00     0.55  16109239769442553005\n",
      "4 2017-06-01 07:58:00     0.37  14200605875248379450\n"
     ]
    }
   ],
   "source": [
    "print(orders_log.head())"
   ]
  },
  {
   "cell_type": "code",
   "execution_count": 35,
   "metadata": {},
   "outputs": [
    {
     "name": "stdout",
     "output_type": "stream",
     "text": [
      "   source_id         dt  costs\n",
      "0          1 2017-06-01  75.20\n",
      "1          1 2017-06-02  62.25\n",
      "2          1 2017-06-03  36.53\n",
      "3          1 2017-06-04  55.00\n",
      "4          1 2017-06-05  57.08\n"
     ]
    }
   ],
   "source": [
    "print(costs_df.head())"
   ]
  },
  {
   "cell_type": "markdown",
   "metadata": {},
   "source": [
    "##### Resposta do Aluno: \n",
    "Arquivos carregados e convertidos. a princípio sem nenhum dado faltante."
   ]
  },
  {
   "cell_type": "markdown",
   "metadata": {},
   "source": [
    "#### Analisar (Macro):\n",
    "\n",
    "Como as pessoas usam o produto, Quando elas começam a comprar, Quanto dinheiro cada cliente traz para a empresa, Quando as despesas serão cobertas"
   ]
  },
  {
   "cell_type": "markdown",
   "metadata": {},
   "source": [
    "##### Produto\n",
    " \n",
    "- Quantas pessoas usam-no cada dia, semana e mês?\n",
    "- Quantas sessões ocorrem por dia? (um usuário pode realizar várias sessões).\n",
    "- Que comprimento tem cada sessão?\n",
    "- Com que frequência os usuários voltam?"
   ]
  },
  {
   "cell_type": "markdown",
   "metadata": {},
   "source": [
    "#### Resposta do Aluno:\n",
    "Para Resolver essas questões, será necessário realizar coortes comportamentais;\n",
    "- 1º) Para descobrir a quantidade de usuários em cada dia, semana e mês, iremos trabalhar com a tabela 'visits' e 'orders'\n"
   ]
  },
  {
   "cell_type": "code",
   "execution_count": 36,
   "metadata": {},
   "outputs": [
    {
     "name": "stdout",
     "output_type": "stream",
     "text": [
      "    Device              End Ts  Source Id            Start Ts  \\\n",
      "0  desktop 2018-05-20 11:23:00          9 2018-05-20 10:59:00   \n",
      "1  desktop 2018-03-09 20:33:00          4 2018-03-09 20:05:00   \n",
      "2  desktop 2017-09-03 21:36:00          5 2017-09-03 21:35:00   \n",
      "3  desktop 2017-09-03 21:36:00          5 2017-09-03 21:35:00   \n",
      "4  desktop 2017-09-03 21:36:00          5 2017-09-03 21:35:00   \n",
      "\n",
      "                    Uid              Buy Ts  Revenue  \n",
      "0  16174680259334210214 2018-03-09 20:25:00     2.33  \n",
      "1  16174680259334210214 2018-03-09 20:25:00     2.33  \n",
      "2  16007536194108375387 2017-09-04 12:46:00     2.44  \n",
      "3  16007536194108375387 2017-10-28 00:01:00     1.53  \n",
      "4  16007536194108375387 2017-10-28 19:16:00     1.53  \n"
     ]
    }
   ],
   "source": [
    "# juntando os dataframes com join:\n",
    "df_visits = visit_log.merge(orders_log, on='Uid')\n",
    "print(df_visits.head())\n"
   ]
  },
  {
   "cell_type": "code",
   "execution_count": 37,
   "metadata": {},
   "outputs": [],
   "source": [
    "# Separando por mês, semana e dia, convertendo e criando colunas respectivas;\n",
    "# Conversão:\n",
    "df_visits['Start Ts'] = pd.to_datetime(df_visits['Start Ts'], format=\"%Y-%M-%d %H:%M\")\n",
    "\n",
    "# Month:\n",
    "df_visits['start_month'] = df_visits['Start Ts'].dt.month\n",
    "\n",
    "# Week:\n",
    "df_visits['start_week'] = df_visits['Start Ts'].dt.week\n",
    "\n",
    "# Date:\n",
    "df_visits['start_date'] = df_visits['Start Ts'].dt.date"
   ]
  },
  {
   "cell_type": "code",
   "execution_count": 38,
   "metadata": {},
   "outputs": [
    {
     "name": "stdout",
     "output_type": "stream",
     "text": [
      "             Uid        \n",
      "           count nunique\n",
      "start_date              \n",
      "2017-06-01  1739     170\n",
      "2017-06-02  1230     177\n",
      "2017-06-03   528     109\n",
      "2017-06-04   767     118\n",
      "2017-06-05  1764     267\n",
      "              Uid        \n",
      "            count nunique\n",
      "start_week               \n",
      "1           14281    1310\n",
      "2           15688    1422\n",
      "3           18730    1453\n",
      "4           18976    1590\n",
      "5           21340    1868\n",
      "                Uid        \n",
      "              count nunique\n",
      "start_month                \n",
      "1             77651    5504\n",
      "2             82787    5687\n",
      "3             75988    5458\n",
      "4             60157    3857\n",
      "5             70114    4328\n",
      "6             25988    2923\n",
      "7             28986    2893\n",
      "8             32564    2282\n",
      "9             60757    3960\n",
      "10            71483    6251\n",
      "11            72420    6471\n",
      "12           102912    6629\n"
     ]
    }
   ],
   "source": [
    "# Descobrindo quantos usuários entram no app por: (DAU, MAU, WAU)\n",
    "\n",
    "#usuários por date:\n",
    "d_total = df_visits.groupby('start_date').agg({'Uid': ['count', 'nunique']})\n",
    "\n",
    "#usuários por week:\n",
    "w_total = df_visits.groupby('start_week').agg({'Uid': ['count', 'nunique']})\n",
    "\n",
    "#usuários por month:\n",
    "m_total = df_visits.groupby('start_month').agg({'Uid': ['count', 'nunique']})\n",
    "\n",
    "print(d_total.head()) # Quantidade de acessos de cada usuário por dia!\n",
    "print(w_total.head()) # Quantidade de acessos de cada usuário por semana!\n",
    "print(m_total) # Quantidade de acessos de cada usuário por mês!"
   ]
  },
  {
   "cell_type": "code",
   "execution_count": 39,
   "metadata": {},
   "outputs": [
    {
     "data": {
      "image/png": "[encoded data removed]",
      "text/plain": [
       "<Figure size 1400x600 with 3 Axes>"
      ]
     },
     "metadata": {},
     "output_type": "display_data"
    }
   ],
   "source": [
    "# Graficos:\n",
    "plt.figure(figsize=(14, 6))\n",
    "\n",
    "# DAU\n",
    "plt.subplot(1, 3, 1)\n",
    "plt.bar(d_total.index, d_total[('Uid', 'count')], alpha=0.6, label='Contagem Total')\n",
    "plt.bar(d_total.index, d_total[('Uid', 'nunique')], alpha=0.6, label='Usuários Únicos')\n",
    "plt.title('Usuários por Dia')\n",
    "plt.xlabel('Data')\n",
    "plt.ylabel('Quantidade de Usuários')\n",
    "plt.xticks(rotation=45)\n",
    "plt.legend()\n",
    "\n",
    "# Gráfico WAU\n",
    "plt.subplot(1, 3, 2)\n",
    "plt.bar(w_total.index, w_total[('Uid', 'count')], alpha=0.6, label='Contagem Total')\n",
    "plt.bar(w_total.index, w_total[('Uid', 'nunique')], alpha=0.6, label='Usuários Únicos')\n",
    "plt.title('Usuários por Semana')\n",
    "plt.xlabel('Semana')\n",
    "plt.ylabel('Quantidade de Usuários')\n",
    "plt.xticks(rotation=45)\n",
    "plt.legend()\n",
    "\n",
    "# Gráfico MAU\n",
    "plt.subplot(1, 3, 3)\n",
    "plt.bar(m_total.index, m_total[('Uid', 'count')], alpha=0.6, label='Contagem Total')\n",
    "plt.bar(m_total.index, m_total[('Uid', 'nunique')], alpha=0.6, label='Usuários Únicos')\n",
    "plt.title('Usuários por Mês')\n",
    "plt.xlabel('Mês')\n",
    "plt.ylabel('Quantidade de Usuários')\n",
    "plt.xticks(rotation=45)\n",
    "plt.legend()\n",
    "plt.tight_layout()\n",
    "plt.show()\n"
   ]
  },
  {
   "cell_type": "markdown",
   "metadata": {},
   "source": [
    "#### Resposta do Aluno:\n",
    "Acima a quantidade de usuários por data, semana e mês"
   ]
  },
  {
   "cell_type": "markdown",
   "metadata": {},
   "source": [
    "#### Resposta do Aluno: Como o número de visitas é muito maior que o número de usúários únicos, deduzimos que o mesmo usuário entra mais de uma vez por dia."
   ]
  },
  {
   "cell_type": "code",
   "execution_count": 40,
   "metadata": {},
   "outputs": [
    {
     "name": "stdout",
     "output_type": "stream",
     "text": [
      "    Device              End Ts  Source Id            Start Ts  \\\n",
      "0  desktop 2018-05-20 11:23:00          9 2018-05-20 10:59:00   \n",
      "1  desktop 2018-03-09 20:33:00          4 2018-03-09 20:05:00   \n",
      "2  desktop 2017-09-03 21:36:00          5 2017-09-03 21:35:00   \n",
      "\n",
      "                    Uid              Buy Ts  Revenue  start_month  start_week  \\\n",
      "0  16174680259334210214 2018-03-09 20:25:00     2.33            5          20   \n",
      "1  16174680259334210214 2018-03-09 20:25:00     2.33            3          10   \n",
      "2  16007536194108375387 2017-09-04 12:46:00     2.44            9          35   \n",
      "\n",
      "   start_date  session_duration_sec  \n",
      "0  2018-05-20                  1440  \n",
      "1  2018-03-09                  1680  \n",
      "2  2017-09-03                    60  \n",
      "\n",
      "1260.1617680068573\n"
     ]
    }
   ],
   "source": [
    "# Descobrindo a duração de cada sessão (por usuário):\n",
    "\n",
    "#Conversão:\n",
    "df_visits['End Ts'] = pd.to_datetime(df_visits['End Ts'], format=\"%Y-%M-%d %H:%M\")\n",
    "\n",
    "df_visits['session_duration_sec'] = (df_visits['End Ts'] - df_visits['Start Ts']).dt.seconds\n",
    "print(df_visits.head(3))\n",
    "print()\n",
    "print(df_visits['session_duration_sec'].mean()) # média de duração por sessão(em segundos)"
   ]
  },
  {
   "cell_type": "code",
   "execution_count": 41,
   "metadata": {},
   "outputs": [
    {
     "name": "stdout",
     "output_type": "stream",
     "text": [
      "                        n_sessions  n_users     user_f\n",
      "start_week start_month                                \n",
      "1          1                 14281     1310  10.901527\n",
      "2          1                 15688     1422  11.032349\n",
      "3          1                 18730     1453  12.890571\n",
      "4          1                 18976     1590  11.934591\n",
      "5          1                  9976      917  10.878953\n",
      "...                            ...      ...        ...\n",
      "48         12                 8810      819  10.757021\n",
      "49         12                23635     2034  11.619961\n",
      "50         12                23936     1941  12.331788\n",
      "51         12                23239     1552  14.973582\n",
      "52         12                23292     1897  12.278334\n",
      "\n",
      "[62 rows x 3 columns]\n"
     ]
    }
   ],
   "source": [
    "# Descobrindo a frequência que os usuários acessam o app (TR):\n",
    "\n",
    "\n",
    "user_f = df_visits.groupby(['start_week', 'start_month']).agg({'Uid':['count', 'nunique']})\n",
    "\n",
    "user_f.columns = ['n_sessions', 'n_users']\n",
    "user_f['user_f'] = (user_f['n_sessions'] / user_f['n_users'])\n",
    "print(user_f)"
   ]
  },
  {
   "cell_type": "markdown",
   "metadata": {},
   "source": [
    "#### Resposta do aluno: Um usuário acessa mais de 10x o app por semana."
   ]
  },
  {
   "cell_type": "markdown",
   "metadata": {},
   "source": [
    "#### Vendas\n",
    " \n",
    "Quando as pessoas começam a comprar? (Na análise de KPIs, nós geralmente estamos interessados em saber o período de tempo entre o registro e a conversão - quando o usuário se torna um cliente. Por exemplo, se o registro e a primeira compra de um usuário ocorrem no mesmo dia, ele pode encaixar na categoria de Conversão 0d. Se a compra é realizada no dia seguinte, isso será a Conversão 1d. Você pode usar qualquer abordagem que permita comparar as conversões de diferentes coortes, para que você possa determinar qual coorte ou canal de marketing tem a maior eficiência)\n",
    "- Quantos pedidos os clientes fazem durante um determinado período de tempo?\n",
    "- Qual é o volume médio de uma compra?\n",
    "- Quanto dinheiro eles trazem para a empresa (LTV)?"
   ]
  },
  {
   "cell_type": "code",
   "execution_count": 42,
   "metadata": {},
   "outputs": [
    {
     "name": "stdout",
     "output_type": "stream",
     "text": [
      "    Device              End Ts  Source Id            Start Ts  \\\n",
      "0  desktop 2018-05-20 11:23:00          9 2018-05-20 10:59:00   \n",
      "1  desktop 2018-03-09 20:33:00          4 2018-03-09 20:05:00   \n",
      "2  desktop 2017-09-03 21:36:00          5 2017-09-03 21:35:00   \n",
      "3  desktop 2017-09-03 21:36:00          5 2017-09-03 21:35:00   \n",
      "4  desktop 2017-09-03 21:36:00          5 2017-09-03 21:35:00   \n",
      "\n",
      "                    Uid              Buy Ts  Revenue  start_month  start_week  \\\n",
      "0  16174680259334210214 2018-03-09 20:25:00     2.33            5          20   \n",
      "1  16174680259334210214 2018-03-09 20:25:00     2.33            3          10   \n",
      "2  16007536194108375387 2017-09-04 12:46:00     2.44            9          35   \n",
      "3  16007536194108375387 2017-10-28 00:01:00     1.53            9          35   \n",
      "4  16007536194108375387 2017-10-28 19:16:00     1.53            9          35   \n",
      "\n",
      "   start_date  session_duration_sec           first_buy        first_access  \n",
      "0  2018-05-20                  1440 2018-03-09 20:25:00 2018-03-09 20:05:00  \n",
      "1  2018-03-09                  1680 2018-03-09 20:25:00 2018-03-09 20:05:00  \n",
      "2  2017-09-03                    60 2017-09-04 12:46:00 2017-09-03 21:35:00  \n",
      "3  2017-09-03                    60 2017-09-04 12:46:00 2017-09-03 21:35:00  \n",
      "4  2017-09-03                    60 2017-09-04 12:46:00 2017-09-03 21:35:00  \n"
     ]
    }
   ],
   "source": [
    "# Verificando o período de tempo em que os clientes começam a comprar:\n",
    "\n",
    "# Conversão:\n",
    "df_visits['Buy Ts'] = pd.to_datetime(df_visits['Buy Ts'], format=\"%Y-%M-%d %H:%M\")\n",
    "df_visits['Start Ts'] = pd.to_datetime(df_visits['Start Ts'], format=\"%Y-%M-%d %H:%M\")\n",
    "\n",
    "# Verificando a data da primeira compra de cada usuário:\n",
    "first_buy = df_visits.groupby(['Uid'])['Buy Ts'].min() # data da primeira compra de cada usuário.\n",
    "first_buy.name = 'first_buy'\n",
    "df_visits = df_visits = df_visits.join(first_buy, on='Uid')\n",
    "\n",
    "first_access = df_visits.groupby(['Uid'])['Start Ts'].min() # data do primeiro acesso.\n",
    "first_access.name = 'first_access'\n",
    "df_visits = df_visits = df_visits.join(first_access, on= 'Uid')\n",
    "\n",
    "print(df_visits.head()) "
   ]
  },
  {
   "cell_type": "code",
   "execution_count": 43,
   "metadata": {},
   "outputs": [
    {
     "name": "stdout",
     "output_type": "stream",
     "text": [
      "    Device              End Ts  Source Id            Start Ts  \\\n",
      "0  desktop 2018-05-20 11:23:00          9 2018-05-20 10:59:00   \n",
      "1  desktop 2018-03-09 20:33:00          4 2018-03-09 20:05:00   \n",
      "2  desktop 2017-09-03 21:36:00          5 2017-09-03 21:35:00   \n",
      "3  desktop 2017-09-03 21:36:00          5 2017-09-03 21:35:00   \n",
      "4  desktop 2017-09-03 21:36:00          5 2017-09-03 21:35:00   \n",
      "\n",
      "                    Uid              Buy Ts  Revenue  start_month  start_week  \\\n",
      "0  16174680259334210214 2018-03-09 20:25:00     2.33            5          20   \n",
      "1  16174680259334210214 2018-03-09 20:25:00     2.33            3          10   \n",
      "2  16007536194108375387 2017-09-04 12:46:00     2.44            9          35   \n",
      "3  16007536194108375387 2017-10-28 00:01:00     1.53            9          35   \n",
      "4  16007536194108375387 2017-10-28 19:16:00     1.53            9          35   \n",
      "\n",
      "   start_date  session_duration_sec           first_buy        first_access  \\\n",
      "0  2018-05-20                  1440 2018-03-09 20:25:00 2018-03-09 20:05:00   \n",
      "1  2018-03-09                  1680 2018-03-09 20:25:00 2018-03-09 20:05:00   \n",
      "2  2017-09-03                    60 2017-09-04 12:46:00 2017-09-03 21:35:00   \n",
      "3  2017-09-03                    60 2017-09-04 12:46:00 2017-09-03 21:35:00   \n",
      "4  2017-09-03                    60 2017-09-04 12:46:00 2017-09-03 21:35:00   \n",
      "\n",
      "    time_to_event  \n",
      "0 0 days 00:20:00  \n",
      "1 0 days 00:20:00  \n",
      "2 0 days 15:11:00  \n",
      "3 0 days 15:11:00  \n",
      "4 0 days 15:11:00  \n"
     ]
    }
   ],
   "source": [
    "df_visits['time_to_event'] = df_visits['first_buy'] - df_visits['first_access'] # coluna 'time_to_event' com o tempo que cada usuário leva para realizar a primeira compra!\n",
    "print(df_visits.head())"
   ]
  },
  {
   "cell_type": "code",
   "execution_count": 44,
   "metadata": {},
   "outputs": [
    {
     "data": {
      "text/plain": [
       "count                        761807\n",
       "mean     17 days 15:37:02.129909544\n",
       "std      42 days 08:51:00.569695410\n",
       "min                 0 days 00:00:00\n",
       "25%                 0 days 00:17:00\n",
       "50%                 1 days 23:49:00\n",
       "75%                 8 days 21:07:00\n",
       "max               363 days 07:04:00\n",
       "Name: time_to_event, dtype: object"
      ]
     },
     "execution_count": 44,
     "metadata": {},
     "output_type": "execute_result"
    }
   ],
   "source": [
    "df_visits['time_to_event'].describe() "
   ]
  },
  {
   "cell_type": "markdown",
   "metadata": {},
   "source": [
    "#### Resposta do aluno:\n",
    "A média de tempo que os clientes levam para realizar a compra a partir do primeiro acesso é 17 dias e 15 horas, 25% dos clientes compram em menos de 17 minutos após o primeiro acesso, 50% levam quase dois dias para realizar a compra, e 75% demoram mais de 8 dias, e existe clientes que demoraram quase  1 ano para comprar..."
   ]
  },
  {
   "cell_type": "code",
   "execution_count": 45,
   "metadata": {},
   "outputs": [
    {
     "data": {
      "text/plain": [
       "<AxesSubplot:title={'center':'Prazo da primeira compra'}, xlabel='Tempo decorrido (em dias e horas)', ylabel='Número de Clientes'>"
      ]
     },
     "execution_count": 45,
     "metadata": {},
     "output_type": "execute_result"
    },
    {
     "data": {
      "image/png": "[encoded data removed]",
      "text/plain": [
       "<Figure size 640x480 with 1 Axes>"
      ]
     },
     "metadata": {},
     "output_type": "display_data"
    }
   ],
   "source": [
    "df_visits.groupby('time_to_event')['Uid'].count().plot(title='Prazo da primeira compra', xlabel= 'Tempo decorrido (em dias e horas)', ylabel='Número de Clientes')"
   ]
  },
  {
   "cell_type": "code",
   "execution_count": 46,
   "metadata": {},
   "outputs": [
    {
     "name": "stdout",
     "output_type": "stream",
     "text": [
      "Uid\n",
      "5539673724080479777     980244.94\n",
      "3263486045884611639     622650.60\n",
      "3644482766749211722     361072.50\n",
      "11920452646463905188    308885.50\n",
      "6853820180456171909     263677.65\n",
      "9737640335185488211     256899.16\n",
      "6268225112727843212     230505.68\n",
      "13888745432979765063    226293.80\n",
      "6731421022966725351     211799.28\n",
      "17999372575896145244    193974.34\n",
      "Name: Revenue, dtype: float64\n",
      "\n",
      "9.139069803769194\n",
      "2633.28\n",
      "0.0\n"
     ]
    }
   ],
   "source": [
    "# Volume médio de compras por usuário:\n",
    "orders = df_visits.groupby('Uid')['Revenue'].sum().sort_values(ascending=False) # Total por Cliente (Ano)\n",
    "print(orders.head(10)) # 10 maiores clientes no ano\n",
    "print()\n",
    "print(df_visits['Revenue'].mean()) # Valor médio por pedido único.\n",
    "print(df_visits['Revenue'].max()) # Valor máximo do pedido único\n",
    "print(df_visits['Revenue'].min())"
   ]
  },
  {
   "cell_type": "code",
   "execution_count": 47,
   "metadata": {},
   "outputs": [
    {
     "data": {
      "text/plain": [
       "<AxesSubplot:title={'center':'Média de valores dos pedidos'}, xlabel='Valor do pedido USD', ylabel='Número de Clientes'>"
      ]
     },
     "execution_count": 47,
     "metadata": {},
     "output_type": "execute_result"
    },
    {
     "data": {
      "image/png": "[encoded data removed]",
      "text/plain": [
       "<Figure size 640x480 with 1 Axes>"
      ]
     },
     "metadata": {},
     "output_type": "display_data"
    }
   ],
   "source": [
    "# Volume médio de pedido unitário:\n",
    "df_visits.groupby('Revenue')['Uid'].count().plot(title= 'Média de valores dos pedidos', xlabel = \"Valor do pedido USD\", ylabel= \"Número de Clientes\")"
   ]
  },
  {
   "cell_type": "code",
   "execution_count": 48,
   "metadata": {},
   "outputs": [
    {
     "data": {
      "text/plain": [
       "Text(0, 0.5, 'Número de Usuários')"
      ]
     },
     "execution_count": 48,
     "metadata": {},
     "output_type": "execute_result"
    },
    {
     "data": {
      "image/png": "[encoded data removed]",
      "text/plain": [
       "<Figure size 640x480 with 1 Axes>"
      ]
     },
     "metadata": {},
     "output_type": "display_data"
    }
   ],
   "source": [
    "# Comparativo acesso x compra mensal :\n",
    "# Month:\n",
    "df_visits['buy_month'] = df_visits['Buy Ts'].dt.month\n",
    "\n",
    "visit_month = df_visits.groupby(['start_month'])['Uid'].count().plot()\n",
    "b_month = df_visits.groupby(['buy_month'])['Uid'].count().plot(color='green')\n",
    "plt.title('Comparativo Mensal de Acessos x Compra')\n",
    "plt.xlabel('Mês')\n",
    "plt.ylabel(\"Número de Usuários\")"
   ]
  },
  {
   "cell_type": "markdown",
   "metadata": {},
   "source": [
    "#### Resposta do Aluno:\n",
    "É possível notar uma sazonalidade, tivemos uma queda nos acessos e conseguentemente nas vendas.. um ponto a ser analisado eventualmente para descobrir o motivo. contudo o consumo voltou a crescer, outro ponto importante a ser analisado, talvez um usuário possa realizar mais de um pedido por acesso, visto que existem alguns pontos onde o número de pedidos, ultrapassa a quantidade de acessos (sendo que deveria ser 'naturalmente' o contrário.) "
   ]
  },
  {
   "cell_type": "code",
   "execution_count": 49,
   "metadata": {},
   "outputs": [],
   "source": [
    "# Descobrindo quanto dinheiro eles trazem para empresa: Verificando o tempo de vida de um cliente (LTV) e tx de retenção\n",
    "\n",
    "# verificando mês da primeira compra;\n",
    "\n",
    "df_visits['Start Ts'] = pd.to_datetime(df_visits['Start Ts'])\n",
    "df_visits['End Ts'] = pd.to_datetime(df_visits['End Ts'])\n",
    "df_visits['Buy Ts'] = pd.to_datetime(df_visits['Buy Ts'])\n",
    "\n",
    "# Cohort 1º mês:\n",
    "df_visits['first_orders_month'] = df_visits.groupby('Uid')['Start Ts'].transform('min').dt.to_period('M')"
   ]
  },
  {
   "cell_type": "code",
   "execution_count": 50,
   "metadata": {},
   "outputs": [],
   "source": [
    "#Verificando a quantidade de clientes para cada mês:\n",
    "\n",
    "df_visits['activity_month'] = df_visits['Start Ts'].dt.to_period('M')\n",
    "df_visits['age'] = (df_visits['activity_month'] - df_visits['first_orders_month']).apply(lambda x: x.n)"
   ]
  },
  {
   "cell_type": "code",
   "execution_count": 51,
   "metadata": {},
   "outputs": [
    {
     "data": {
      "text/html": [
       "<div>\n",
       "<style scoped>\n",
       "    .dataframe tbody tr th:only-of-type {\n",
       "        vertical-align: middle;\n",
       "    }\n",
       "\n",
       "    .dataframe tbody tr th {\n",
       "        vertical-align: top;\n",
       "    }\n",
       "\n",
       "    .dataframe thead th {\n",
       "        text-align: right;\n",
       "    }\n",
       "</style>\n",
       "<table border=\"1\" class=\"dataframe\">\n",
       "  <thead>\n",
       "    <tr style=\"text-align: right;\">\n",
       "      <th></th>\n",
       "      <th>first_orders_month</th>\n",
       "      <th>age</th>\n",
       "      <th>gp</th>\n",
       "      <th>Uid</th>\n",
       "      <th>ltv</th>\n",
       "    </tr>\n",
       "  </thead>\n",
       "  <tbody>\n",
       "    <tr>\n",
       "      <th>0</th>\n",
       "      <td>2017-06</td>\n",
       "      <td>0</td>\n",
       "      <td>253324.55</td>\n",
       "      <td>2923</td>\n",
       "      <td>86.665943</td>\n",
       "    </tr>\n",
       "    <tr>\n",
       "      <th>1</th>\n",
       "      <td>2017-06</td>\n",
       "      <td>1</td>\n",
       "      <td>190867.58</td>\n",
       "      <td>435</td>\n",
       "      <td>438.776046</td>\n",
       "    </tr>\n",
       "    <tr>\n",
       "      <th>2</th>\n",
       "      <td>2017-06</td>\n",
       "      <td>2</td>\n",
       "      <td>184169.16</td>\n",
       "      <td>309</td>\n",
       "      <td>596.016699</td>\n",
       "    </tr>\n",
       "    <tr>\n",
       "      <th>3</th>\n",
       "      <td>2017-06</td>\n",
       "      <td>3</td>\n",
       "      <td>340679.26</td>\n",
       "      <td>366</td>\n",
       "      <td>930.817650</td>\n",
       "    </tr>\n",
       "    <tr>\n",
       "      <th>4</th>\n",
       "      <td>2017-06</td>\n",
       "      <td>4</td>\n",
       "      <td>410873.97</td>\n",
       "      <td>455</td>\n",
       "      <td>903.019714</td>\n",
       "    </tr>\n",
       "    <tr>\n",
       "      <th>...</th>\n",
       "      <td>...</td>\n",
       "      <td>...</td>\n",
       "      <td>...</td>\n",
       "      <td>...</td>\n",
       "      <td>...</td>\n",
       "    </tr>\n",
       "    <tr>\n",
       "      <th>73</th>\n",
       "      <td>2018-03</td>\n",
       "      <td>1</td>\n",
       "      <td>45685.01</td>\n",
       "      <td>279</td>\n",
       "      <td>163.745556</td>\n",
       "    </tr>\n",
       "    <tr>\n",
       "      <th>74</th>\n",
       "      <td>2018-03</td>\n",
       "      <td>2</td>\n",
       "      <td>69189.45</td>\n",
       "      <td>164</td>\n",
       "      <td>421.886890</td>\n",
       "    </tr>\n",
       "    <tr>\n",
       "      <th>75</th>\n",
       "      <td>2018-04</td>\n",
       "      <td>0</td>\n",
       "      <td>41163.35</td>\n",
       "      <td>1890</td>\n",
       "      <td>21.779550</td>\n",
       "    </tr>\n",
       "    <tr>\n",
       "      <th>76</th>\n",
       "      <td>2018-04</td>\n",
       "      <td>1</td>\n",
       "      <td>35703.27</td>\n",
       "      <td>210</td>\n",
       "      <td>170.015571</td>\n",
       "    </tr>\n",
       "    <tr>\n",
       "      <th>77</th>\n",
       "      <td>2018-05</td>\n",
       "      <td>0</td>\n",
       "      <td>16048.81</td>\n",
       "      <td>2316</td>\n",
       "      <td>6.929538</td>\n",
       "    </tr>\n",
       "  </tbody>\n",
       "</table>\n",
       "<p>78 rows × 5 columns</p>\n",
       "</div>"
      ],
      "text/plain": [
       "   first_orders_month  age         gp   Uid         ltv\n",
       "0             2017-06    0  253324.55  2923   86.665943\n",
       "1             2017-06    1  190867.58   435  438.776046\n",
       "2             2017-06    2  184169.16   309  596.016699\n",
       "3             2017-06    3  340679.26   366  930.817650\n",
       "4             2017-06    4  410873.97   455  903.019714\n",
       "..                ...  ...        ...   ...         ...\n",
       "73            2018-03    1   45685.01   279  163.745556\n",
       "74            2018-03    2   69189.45   164  421.886890\n",
       "75            2018-04    0   41163.35  1890   21.779550\n",
       "76            2018-04    1   35703.27   210  170.015571\n",
       "77            2018-05    0   16048.81  2316    6.929538\n",
       "\n",
       "[78 rows x 5 columns]"
      ]
     },
     "execution_count": 51,
     "metadata": {},
     "output_type": "execute_result"
    }
   ],
   "source": [
    "# Calcular o LTV\n",
    "# Agrupar por coorte e idade, calculando as métricas necessárias\n",
    "report = df_visits.groupby(['first_orders_month', 'age']).agg(\n",
    "    gp=('Revenue', 'sum'),   # gross profit\n",
    "    Uid=('Uid', 'nunique')  \n",
    ").reset_index()\n",
    "\n",
    "report['ltv'] = report['gp'] / report['Uid']\n",
    "report"
   ]
  },
  {
   "cell_type": "code",
   "execution_count": 52,
   "metadata": {},
   "outputs": [
    {
     "data": {
      "text/html": [
       "<div>\n",
       "<style scoped>\n",
       "    .dataframe tbody tr th:only-of-type {\n",
       "        vertical-align: middle;\n",
       "    }\n",
       "\n",
       "    .dataframe tbody tr th {\n",
       "        vertical-align: top;\n",
       "    }\n",
       "\n",
       "    .dataframe thead th {\n",
       "        text-align: right;\n",
       "    }\n",
       "</style>\n",
       "<table border=\"1\" class=\"dataframe\">\n",
       "  <thead>\n",
       "    <tr style=\"text-align: right;\">\n",
       "      <th>age</th>\n",
       "      <th>0</th>\n",
       "      <th>1</th>\n",
       "      <th>2</th>\n",
       "      <th>3</th>\n",
       "      <th>4</th>\n",
       "      <th>5</th>\n",
       "      <th>6</th>\n",
       "      <th>7</th>\n",
       "      <th>8</th>\n",
       "      <th>9</th>\n",
       "      <th>10</th>\n",
       "      <th>11</th>\n",
       "    </tr>\n",
       "    <tr>\n",
       "      <th>first_orders_month</th>\n",
       "      <th></th>\n",
       "      <th></th>\n",
       "      <th></th>\n",
       "      <th></th>\n",
       "      <th></th>\n",
       "      <th></th>\n",
       "      <th></th>\n",
       "      <th></th>\n",
       "      <th></th>\n",
       "      <th></th>\n",
       "      <th></th>\n",
       "      <th></th>\n",
       "    </tr>\n",
       "  </thead>\n",
       "  <tbody>\n",
       "    <tr>\n",
       "      <th>2017-06</th>\n",
       "      <td>87.0</td>\n",
       "      <td>439.0</td>\n",
       "      <td>596.0</td>\n",
       "      <td>931.0</td>\n",
       "      <td>903.0</td>\n",
       "      <td>982.0</td>\n",
       "      <td>1316.0</td>\n",
       "      <td>1016.0</td>\n",
       "      <td>980.0</td>\n",
       "      <td>1060.0</td>\n",
       "      <td>1016.0</td>\n",
       "      <td>905.0</td>\n",
       "    </tr>\n",
       "    <tr>\n",
       "      <th>2017-07</th>\n",
       "      <td>13.0</td>\n",
       "      <td>46.0</td>\n",
       "      <td>66.0</td>\n",
       "      <td>60.0</td>\n",
       "      <td>60.0</td>\n",
       "      <td>54.0</td>\n",
       "      <td>40.0</td>\n",
       "      <td>27.0</td>\n",
       "      <td>38.0</td>\n",
       "      <td>112.0</td>\n",
       "      <td>59.0</td>\n",
       "      <td>0.0</td>\n",
       "    </tr>\n",
       "    <tr>\n",
       "      <th>2017-08</th>\n",
       "      <td>19.0</td>\n",
       "      <td>202.0</td>\n",
       "      <td>158.0</td>\n",
       "      <td>294.0</td>\n",
       "      <td>245.0</td>\n",
       "      <td>186.0</td>\n",
       "      <td>195.0</td>\n",
       "      <td>384.0</td>\n",
       "      <td>663.0</td>\n",
       "      <td>834.0</td>\n",
       "      <td>0.0</td>\n",
       "      <td>0.0</td>\n",
       "    </tr>\n",
       "    <tr>\n",
       "      <th>2017-09</th>\n",
       "      <td>90.0</td>\n",
       "      <td>119.0</td>\n",
       "      <td>274.0</td>\n",
       "      <td>1116.0</td>\n",
       "      <td>272.0</td>\n",
       "      <td>664.0</td>\n",
       "      <td>282.0</td>\n",
       "      <td>347.0</td>\n",
       "      <td>64.0</td>\n",
       "      <td>0.0</td>\n",
       "      <td>0.0</td>\n",
       "      <td>0.0</td>\n",
       "    </tr>\n",
       "    <tr>\n",
       "      <th>2017-10</th>\n",
       "      <td>13.0</td>\n",
       "      <td>42.0</td>\n",
       "      <td>25.0</td>\n",
       "      <td>34.0</td>\n",
       "      <td>39.0</td>\n",
       "      <td>28.0</td>\n",
       "      <td>35.0</td>\n",
       "      <td>94.0</td>\n",
       "      <td>0.0</td>\n",
       "      <td>0.0</td>\n",
       "      <td>0.0</td>\n",
       "      <td>0.0</td>\n",
       "    </tr>\n",
       "    <tr>\n",
       "      <th>2017-11</th>\n",
       "      <td>12.0</td>\n",
       "      <td>66.0</td>\n",
       "      <td>90.0</td>\n",
       "      <td>135.0</td>\n",
       "      <td>88.0</td>\n",
       "      <td>41.0</td>\n",
       "      <td>39.0</td>\n",
       "      <td>0.0</td>\n",
       "      <td>0.0</td>\n",
       "      <td>0.0</td>\n",
       "      <td>0.0</td>\n",
       "      <td>0.0</td>\n",
       "    </tr>\n",
       "    <tr>\n",
       "      <th>2017-12</th>\n",
       "      <td>15.0</td>\n",
       "      <td>92.0</td>\n",
       "      <td>75.0</td>\n",
       "      <td>236.0</td>\n",
       "      <td>53.0</td>\n",
       "      <td>51.0</td>\n",
       "      <td>0.0</td>\n",
       "      <td>0.0</td>\n",
       "      <td>0.0</td>\n",
       "      <td>0.0</td>\n",
       "      <td>0.0</td>\n",
       "      <td>0.0</td>\n",
       "    </tr>\n",
       "    <tr>\n",
       "      <th>2018-01</th>\n",
       "      <td>10.0</td>\n",
       "      <td>122.0</td>\n",
       "      <td>92.0</td>\n",
       "      <td>87.0</td>\n",
       "      <td>105.0</td>\n",
       "      <td>0.0</td>\n",
       "      <td>0.0</td>\n",
       "      <td>0.0</td>\n",
       "      <td>0.0</td>\n",
       "      <td>0.0</td>\n",
       "      <td>0.0</td>\n",
       "      <td>0.0</td>\n",
       "    </tr>\n",
       "    <tr>\n",
       "      <th>2018-02</th>\n",
       "      <td>12.0</td>\n",
       "      <td>58.0</td>\n",
       "      <td>47.0</td>\n",
       "      <td>76.0</td>\n",
       "      <td>0.0</td>\n",
       "      <td>0.0</td>\n",
       "      <td>0.0</td>\n",
       "      <td>0.0</td>\n",
       "      <td>0.0</td>\n",
       "      <td>0.0</td>\n",
       "      <td>0.0</td>\n",
       "      <td>0.0</td>\n",
       "    </tr>\n",
       "    <tr>\n",
       "      <th>2018-03</th>\n",
       "      <td>11.0</td>\n",
       "      <td>164.0</td>\n",
       "      <td>422.0</td>\n",
       "      <td>0.0</td>\n",
       "      <td>0.0</td>\n",
       "      <td>0.0</td>\n",
       "      <td>0.0</td>\n",
       "      <td>0.0</td>\n",
       "      <td>0.0</td>\n",
       "      <td>0.0</td>\n",
       "      <td>0.0</td>\n",
       "      <td>0.0</td>\n",
       "    </tr>\n",
       "    <tr>\n",
       "      <th>2018-04</th>\n",
       "      <td>22.0</td>\n",
       "      <td>170.0</td>\n",
       "      <td>0.0</td>\n",
       "      <td>0.0</td>\n",
       "      <td>0.0</td>\n",
       "      <td>0.0</td>\n",
       "      <td>0.0</td>\n",
       "      <td>0.0</td>\n",
       "      <td>0.0</td>\n",
       "      <td>0.0</td>\n",
       "      <td>0.0</td>\n",
       "      <td>0.0</td>\n",
       "    </tr>\n",
       "    <tr>\n",
       "      <th>2018-05</th>\n",
       "      <td>7.0</td>\n",
       "      <td>0.0</td>\n",
       "      <td>0.0</td>\n",
       "      <td>0.0</td>\n",
       "      <td>0.0</td>\n",
       "      <td>0.0</td>\n",
       "      <td>0.0</td>\n",
       "      <td>0.0</td>\n",
       "      <td>0.0</td>\n",
       "      <td>0.0</td>\n",
       "      <td>0.0</td>\n",
       "      <td>0.0</td>\n",
       "    </tr>\n",
       "  </tbody>\n",
       "</table>\n",
       "</div>"
      ],
      "text/plain": [
       "age                   0      1      2       3      4      5       6       7   \\\n",
       "first_orders_month                                                             \n",
       "2017-06             87.0  439.0  596.0   931.0  903.0  982.0  1316.0  1016.0   \n",
       "2017-07             13.0   46.0   66.0    60.0   60.0   54.0    40.0    27.0   \n",
       "2017-08             19.0  202.0  158.0   294.0  245.0  186.0   195.0   384.0   \n",
       "2017-09             90.0  119.0  274.0  1116.0  272.0  664.0   282.0   347.0   \n",
       "2017-10             13.0   42.0   25.0    34.0   39.0   28.0    35.0    94.0   \n",
       "2017-11             12.0   66.0   90.0   135.0   88.0   41.0    39.0     0.0   \n",
       "2017-12             15.0   92.0   75.0   236.0   53.0   51.0     0.0     0.0   \n",
       "2018-01             10.0  122.0   92.0    87.0  105.0    0.0     0.0     0.0   \n",
       "2018-02             12.0   58.0   47.0    76.0    0.0    0.0     0.0     0.0   \n",
       "2018-03             11.0  164.0  422.0     0.0    0.0    0.0     0.0     0.0   \n",
       "2018-04             22.0  170.0    0.0     0.0    0.0    0.0     0.0     0.0   \n",
       "2018-05              7.0    0.0    0.0     0.0    0.0    0.0     0.0     0.0   \n",
       "\n",
       "age                    8       9       10     11  \n",
       "first_orders_month                                \n",
       "2017-06             980.0  1060.0  1016.0  905.0  \n",
       "2017-07              38.0   112.0    59.0    0.0  \n",
       "2017-08             663.0   834.0     0.0    0.0  \n",
       "2017-09              64.0     0.0     0.0    0.0  \n",
       "2017-10               0.0     0.0     0.0    0.0  \n",
       "2017-11               0.0     0.0     0.0    0.0  \n",
       "2017-12               0.0     0.0     0.0    0.0  \n",
       "2018-01               0.0     0.0     0.0    0.0  \n",
       "2018-02               0.0     0.0     0.0    0.0  \n",
       "2018-03               0.0     0.0     0.0    0.0  \n",
       "2018-04               0.0     0.0     0.0    0.0  \n",
       "2018-05               0.0     0.0     0.0    0.0  "
      ]
     },
     "execution_count": 52,
     "metadata": {},
     "output_type": "execute_result"
    }
   ],
   "source": [
    "# Cálculo LtV: e criação de colunas df com lucro bruto e tempo de cliente:\n",
    "output = report.pivot_table(\n",
    "    index='first_orders_month', \n",
    "    columns='age', \n",
    "    values='ltv', \n",
    "    aggfunc='mean'\n",
    ").round()\n",
    "\n",
    "# Substituir NaNs por 0 (se usar  o '' (vazio) deu erro no mapa de calor abaixo)\n",
    "output = output.fillna(0)\n",
    "output"
   ]
  },
  {
   "cell_type": "code",
   "execution_count": 54,
   "metadata": {},
   "outputs": [
    {
     "data": {
      "image/png": "[encoded data removed]",
      "text/plain": [
       "<Figure size 1000x500 with 2 Axes>"
      ]
     },
     "metadata": {},
     "output_type": "display_data"
    }
   ],
   "source": [
    "# Mapa  de Calor:\n",
    "plt.figure(figsize=(10, 5))\n",
    "sns.heatmap(output, annot=True, fmt='.2f', cmap='Reds')\n",
    "plt.title('Mapa de Calor do LTV de Cohort')\n",
    "plt.xlabel('Idade (meses desde o primeiro pedido)')\n",
    "plt.ylabel('Mês do Primeiro Pedido')\n",
    "plt.show()"
   ]
  },
  {
   "cell_type": "code",
   "execution_count": null,
   "metadata": {},
   "outputs": [],
   "source": [
    "# Descobrindo o ltv do primeiro corte:\n",
    "ltv_201706 = output.loc['2017-06'].sum()\n",
    "print(ltv_201706)"
   ]
  },
  {
   "cell_type": "code",
   "execution_count": null,
   "metadata": {},
   "outputs": [],
   "source": [
    "# Grafico de LTV:\n",
    "plt.figure(figsize=(12, 6))\n",
    "sns.boxplot(data=report_, x='age', y='ltv')\n",
    "plt.title('Distribuição do LTV por Age')\n",
    "plt.xlabel('Age')\n",
    "plt.ylabel('LTV')\n",
    "plt.tight_layout()\n",
    "plt.show()"
   ]
  },
  {
   "cell_type": "markdown",
   "metadata": {},
   "source": [
    "#### Resposta do Aluno:\n",
    "Foi calculado o Lifetime Value (valor do tempo de vida) de cada cliente para ter uma ideia de quanto retorno trazem a empresa.\n",
    "O cálculo é feito dividindo o lucro bruto, pelo número de compradores, para obter o LTV por cliente, foi calculado o LTV médio para diferentes coortes ao longo do tempo, foi organizado em uma tabela de coorte, e depois somado o LTV acumulado dentro de um período."
   ]
  },
  {
   "cell_type": "markdown",
   "metadata": {},
   "source": [
    "#### Marketing\n",
    " \n",
    "- Quanto dinheiro foi gasto? No total/por origem/ao longo do tempo\n",
    "- Quanto custou a aquisição de clientes para cada origem?\n",
    "- Os investimentos valeram a pena? (ROI)\n",
    "\n",
    "Construa gráficos para ver como essas métricas diferem para vários dispositivos e diferentes origens de anúncios e como elas mudam com o tempo. \n",
    "\n",
    "Passo 3. Escreva uma conclusão: recomende aos especialistas de marketing quanto dinheiro e onde seria melhor investir.\n",
    "\n",
    "Quais origens/plataformas você recomendaria? Fundamente sua escolha: em quais métricas você se concentrou? Por quê? Que conclusões você tirou ao encontrar os valores das métricas?"
   ]
  },
  {
   "cell_type": "code",
   "execution_count": null,
   "metadata": {},
   "outputs": [],
   "source": [
    "# Descobrindo quanto dinheito foi gasto em Marketing:\n",
    "# Verificando o CAC:\n",
    "\n",
    "cohort_201706 = report[report['first_orders_month'] == '2017-06-01']\n",
    "costs_201706 = costs_df[costs_df['dt'] == '2017-06-01']['costs'].sum()\n",
    "print(cohort_201706)\n",
    "print(report.head())"
   ]
  },
  {
   "cell_type": "code",
   "execution_count": null,
   "metadata": {},
   "outputs": [],
   "source": [
    "# Descobrindo o CAC\n",
    "n_buyers_201706 = report['Uid'][0]\n",
    "cac_201706 = costs_201706 / n_buyers_201706\n",
    "ltv_201706 = output.loc['2017-06'].sum()\n",
    "print('cac:', cac_201706)\n",
    "print('ltv:', ltv_201706)\n"
   ]
  },
  {
   "cell_type": "markdown",
   "metadata": {},
   "source": [
    "#### Resposta do Aluno:\n",
    "Segundo o levantamento dos dados  o custo de cada cliente foi US 0,25, e cada cliente trouxe US 10231 de lucro."
   ]
  },
  {
   "cell_type": "code",
   "execution_count": 56,
   "metadata": {},
   "outputs": [
    {
     "name": "stdout",
     "output_type": "stream",
     "text": [
      "  first_orders_month  age         gp   Uid        ltv  source_id       dt  \\\n",
      "0            2017-06    0  253324.55  2923  86.665943          1  2017-06   \n",
      "1            2017-06    0  253324.55  2923  86.665943          1  2017-06   \n",
      "2            2017-06    0  253324.55  2923  86.665943          1  2017-06   \n",
      "3            2017-06    0  253324.55  2923  86.665943          1  2017-06   \n",
      "4            2017-06    0  253324.55  2923  86.665943          1  2017-06   \n",
      "\n",
      "   costs       cac  \n",
      "0  75.20  0.025727  \n",
      "1  62.25  0.021297  \n",
      "2  36.53  0.012497  \n",
      "3  55.00  0.018816  \n",
      "4  57.08  0.019528  \n"
     ]
    }
   ],
   "source": [
    "# Verificando agora ao longo do tempo:\n",
    "costs_df['dt'] = pd.to_datetime(costs_df['dt']).dt.to_period('M')\n",
    "\n",
    "\n",
    "report_ = pd.merge(report, costs_df, left_on='first_orders_month', right_on='dt')\n",
    "\n",
    "# Calcular o CAC\n",
    "report_['cac'] = report_['costs'] / report_['Uid']\n",
    "\n",
    "print(report_.head())"
   ]
  },
  {
   "cell_type": "code",
   "execution_count": 57,
   "metadata": {},
   "outputs": [],
   "source": [
    "# Descobrindo o ROMI  (return marketing investment) acumulado:\n",
    "\n",
    "report_['romi'] = report_['ltv'] / report_['cac']"
   ]
  },
  {
   "cell_type": "code",
   "execution_count": 58,
   "metadata": {},
   "outputs": [
    {
     "name": "stdout",
     "output_type": "stream",
     "text": [
      "  first_orders_month  age         gp   Uid        ltv  source_id       dt  \\\n",
      "0            2017-06    0  253324.55  2923  86.665943          1  2017-06   \n",
      "1            2017-06    0  253324.55  2923  86.665943          1  2017-06   \n",
      "2            2017-06    0  253324.55  2923  86.665943          1  2017-06   \n",
      "3            2017-06    0  253324.55  2923  86.665943          1  2017-06   \n",
      "4            2017-06    0  253324.55  2923  86.665943          1  2017-06   \n",
      "\n",
      "   costs       cac         romi  \n",
      "0  75.20  0.025727  3368.677527  \n",
      "1  62.25  0.021297  4069.470683  \n",
      "2  36.53  0.012497  6934.698878  \n",
      "3  55.00  0.018816  4605.900909  \n",
      "4  57.08  0.019528  4438.061493  \n"
     ]
    }
   ],
   "source": [
    "print(report_.head())"
   ]
  },
  {
   "cell_type": "code",
   "execution_count": 59,
   "metadata": {},
   "outputs": [
    {
     "data": {
      "image/png": "[encoded data removed]",
      "text/plain": [
       "<Figure size 1200x600 with 1 Axes>"
      ]
     },
     "metadata": {},
     "output_type": "display_data"
    }
   ],
   "source": [
    "# Grafico CAC\n",
    "report_['first_orders_month'] = report_['first_orders_month'].astype(str)\n",
    "\n",
    "plt.figure(figsize=(12, 6))\n",
    "sns.barplot(data=report_, x='first_orders_month', y='cac', hue='source_id', ci=None)\n",
    "\n",
    "plt.title('CAC por Fonte em Função da Primeira Compra')\n",
    "plt.xlabel('Mês da Primeira Compra')\n",
    "plt.ylabel('CAC')\n",
    "plt.xticks(rotation=45)\n",
    "\n",
    "plt.legend(title='Fonte')\n",
    "plt.tight_layout()\n",
    "plt.show()"
   ]
  },
  {
   "cell_type": "code",
   "execution_count": 60,
   "metadata": {},
   "outputs": [
    {
     "data": {
      "text/plain": [
       "age\n",
       "0       2897.915583\n",
       "1       5294.650304\n",
       "2       7803.259454\n",
       "3      12210.450030\n",
       "4      16997.339131\n",
       "5      23225.046949\n",
       "6      31263.825604\n",
       "7      41481.036715\n",
       "8      56339.418775\n",
       "9      70283.388659\n",
       "10     93207.240962\n",
       "11    189985.209092\n",
       "dtype: float64"
      ]
     },
     "execution_count": 60,
     "metadata": {},
     "output_type": "execute_result"
    }
   ],
   "source": [
    "#Série com a média do ROMI acumulado ao longo do tempo para cada período:\n",
    "output = report_.pivot_table(\n",
    "    index= 'first_orders_month',\n",
    "    columns = 'age', \n",
    "    values= 'romi', \n",
    "    aggfunc= 'mean')\n",
    "output.cumsum(axis=1).mean(axis=0)"
   ]
  },
  {
   "cell_type": "code",
   "execution_count": 61,
   "metadata": {},
   "outputs": [
    {
     "data": {
      "image/png": "[encoded data removed]",
      "text/plain": [
       "<Figure size 1200x600 with 1 Axes>"
      ]
     },
     "metadata": {},
     "output_type": "display_data"
    }
   ],
   "source": [
    "report_['first_orders_month'] = report_['first_orders_month'].astype(str)\n",
    "plt.figure(figsize=(12, 6))\n",
    "sns.barplot(data=report_, x='first_orders_month', y='romi', hue='source_id', ci=None)\n",
    "plt.title('ROMI por Fonte em Função da Primeira Compra e Age')\n",
    "plt.xlabel('Mês da Primeira Compra')\n",
    "plt.ylabel('ROMI')\n",
    "plt.xticks(rotation=45)\n",
    "\n",
    "plt.legend(title='Fonte e Idade', bbox_to_anchor=(1.05, 1), loc='upper left')\n",
    "\n",
    "plt.tight_layout()\n",
    "plt.show()"
   ]
  },
  {
   "cell_type": "markdown",
   "metadata": {},
   "source": [
    "#### Resposta do aluno:\n",
    "Foi adicionado a coluna 'cac' com o custo de aquisição para cada período, Sobre o ROMI, segundo os dados existe uma cobertura de custo no segundo mês."
   ]
  },
  {
   "cell_type": "code",
   "execution_count": 62,
   "metadata": {},
   "outputs": [],
   "source": [
    "# Verificando o custo de captação de clientes por cada origem:\n",
    "\n",
    "costs_df.rename(columns={'source_id': 'Source Id'}, inplace=True)"
   ]
  },
  {
   "cell_type": "code",
   "execution_count": 63,
   "metadata": {},
   "outputs": [
    {
     "name": "stdout",
     "output_type": "stream",
     "text": [
      "Source Id\n",
      "3     141321.63\n",
      "4      61073.60\n",
      "5      51757.10\n",
      "2      42806.04\n",
      "1      20833.27\n",
      "10      5822.49\n",
      "9       5517.49\n",
      "Name: costs, dtype: float64\n"
     ]
    }
   ],
   "source": [
    "# Verificando os indicadores de anúncios que tiveram maiores custos:\n",
    "g_source = costs_df.groupby('Source Id')['costs'].sum().sort_values(ascending=False)\n",
    "\n",
    "print(g_source)"
   ]
  },
  {
   "cell_type": "code",
   "execution_count": 64,
   "metadata": {},
   "outputs": [
    {
     "name": "stdout",
     "output_type": "stream",
     "text": [
      "    Source Id   Device       Revenue\n",
      "2           2  desktop  2.473935e+06\n",
      "0           1  desktop  2.095264e+06\n",
      "8           5  desktop  1.155947e+06\n",
      "6           4  desktop  4.107841e+05\n",
      "4           3  desktop  2.707022e+05\n",
      "11          9  desktop  3.044148e+04\n",
      "13         10  desktop  1.081877e+04\n",
      "10          7  desktop  1.220000e+00\n",
      "    Source Id Device    Revenue\n",
      "1           1  touch  202935.76\n",
      "3           2  touch  164254.40\n",
      "7           4  touch   85906.06\n",
      "5           3  touch   25985.74\n",
      "9           5  touch   25530.17\n",
      "12          9  touch    5900.77\n",
      "14         10  touch    3800.46\n"
     ]
    }
   ],
   "source": [
    "#Verificando as campanhas que tiveram maiores retornos(em cada plataforma)\n",
    "grouped_data = df_visits.groupby(['Source Id', 'Device'])['Revenue'].sum().reset_index()\n",
    "\n",
    "# Separando os resultados para 'desktop' e 'touch'\n",
    "desktop = grouped_data[grouped_data['Device'] == 'desktop'].sort_values(by='Revenue', ascending=False)\n",
    "touch = grouped_data[grouped_data['Device'] != 'desktop'].sort_values(by='Revenue', ascending=False)\n",
    "\n",
    "print(desktop)\n",
    "print(touch)"
   ]
  },
  {
   "cell_type": "code",
   "execution_count": 65,
   "metadata": {},
   "outputs": [
    {
     "name": "stdout",
     "output_type": "stream",
     "text": [
      "    Source Id      costs   Device       Revenue\n",
      "0           3  141321.63  desktop  2.707022e+05\n",
      "2           4   61073.60  desktop  4.107841e+05\n",
      "4           5   51757.10  desktop  1.155947e+06\n",
      "6           2   42806.04  desktop  2.473935e+06\n",
      "8           1   20833.27  desktop  2.095264e+06\n",
      "10         10    5822.49  desktop  1.081877e+04\n",
      "12          9    5517.49  desktop  3.044148e+04\n",
      "    Source Id      costs Device    Revenue\n",
      "1           3  141321.63  touch   25985.74\n",
      "3           4   61073.60  touch   85906.06\n",
      "5           5   51757.10  touch   25530.17\n",
      "7           2   42806.04  touch  164254.40\n",
      "9           1   20833.27  touch  202935.76\n",
      "11         10    5822.49  touch    3800.46\n",
      "13          9    5517.49  touch    5900.77\n"
     ]
    }
   ],
   "source": [
    "# Comparativo custo Total do anúncio x receita Total:\n",
    "merged_date = pd.merge(g_source, grouped_data, on='Source Id', how='inner')\n",
    "\n",
    "desktop_cost = merged_date[merged_date['Device'] == 'desktop']\n",
    "touch_cost = merged_date[merged_date['Device'] != 'desktop']\n",
    "print(desktop_cost)\n",
    "print(touch_cost)"
   ]
  },
  {
   "cell_type": "code",
   "execution_count": 66,
   "metadata": {},
   "outputs": [
    {
     "data": {
      "image/png": "[encoded data removed]",
      "text/plain": [
       "<Figure size 500x300 with 1 Axes>"
      ]
     },
     "metadata": {},
     "output_type": "display_data"
    },
    {
     "data": {
      "image/png": "[encoded data removed]",
      "text/plain": [
       "<Figure size 500x300 with 1 Axes>"
      ]
     },
     "metadata": {},
     "output_type": "display_data"
    }
   ],
   "source": [
    "# Comparativo Desktop e Touch (Grafico):\n",
    "plt.figure(figsize=(5,3))\n",
    "plt.bar(desktop_cost['Source Id'], desktop_cost['Revenue'], align='center') # Receita\n",
    "plt.bar(desktop_cost['Source Id'], desktop_cost['costs'], align='center', color='red') #  Investimento\n",
    "plt.title('Investimento e Retorno de cada Source Id (Desktop)')\n",
    "plt.xlabel('Identificador da origem do anúncio (Source Id)')\n",
    "plt.ylabel('Valor Monetário Milhão')\n",
    "\n",
    "plt.figure(figsize=(5,3))\n",
    "plt.bar(touch_cost['Source Id'], touch_cost['Revenue'], align='center') # Receita\n",
    "plt.bar(touch_cost['Source Id'], touch_cost['costs'], align='center', color='red') #  Investimento\n",
    "plt.title('Investimento e Retorno de cada Source Id (Touch)')\n",
    "plt.xlabel('Identificador da origem do anúncio (Source Id)')\n",
    "plt.ylabel('Valor Monetário MIL')\n",
    "\n",
    "plt.tight_layout()\n",
    "plt.show()"
   ]
  },
  {
   "cell_type": "code",
   "execution_count": 67,
   "metadata": {},
   "outputs": [
    {
     "data": {
      "image/png": "[encoded data removed]",
      "text/plain": [
       "<Figure size 1200x600 with 1 Axes>"
      ]
     },
     "metadata": {},
     "output_type": "display_data"
    }
   ],
   "source": [
    "plt.figure(figsize=(12, 6))\n",
    "plt.bar(desktop['Source Id'], desktop['Revenue'], width=0.4, label='Desktop', align='center')\n",
    "\n",
    "plt.bar(touch['Source Id'], touch['Revenue'], width=0.4, label='Touch', align='edge')\n",
    "\n",
    "plt.title('Comparativo de Receita de Id de anúncios para Desktop e Touch')\n",
    "plt.xlabel('Identificador da origem do anúncio (Source Id)')\n",
    "plt.ylabel('Receita (Milhão)')\n",
    "plt.legend()\n",
    "\n",
    "plt.xticks(rotation=45) \n",
    "plt.tight_layout()   \n",
    "plt.show()"
   ]
  },
  {
   "cell_type": "markdown",
   "metadata": {},
   "source": [
    "##### Resposta do Aluno:\n",
    "Segundo os dados, temos muito mais retorno nos anúncios para desktop. temos que verificar se  há algum problema de layout para dispositivo móvel, isso pode  acarretar nos clientes optando realizar as compras via desktop, contudo precisamos dar mais atenção ao público que usa desktop, ou seja podemos realizar um investimento maior nos anúncios para essa plataforma, alguns anúncios performaram mais que outros, como por exemplo o 'Source Id' '1' e '2', onde tivemos mais receita, contudo é necessário estudar tambem os 'Source Ids' 4 e 9. Alguns anuncios para touch são totalmente inviáveis (conforme apresentado no grafico comparativo de investimento x retorno)."
   ]
  },
  {
   "cell_type": "code",
   "execution_count": null,
   "metadata": {},
   "outputs": [],
   "source": []
  }
 ],
 "metadata": {
  "ExecuteTimeLog": [
   {
    "duration": 157,
    "start_time": "2024-10-11T21:46:33.379Z"
   },
   {
    "duration": 2533,
    "start_time": "2024-10-11T21:46:38.721Z"
   },
   {
    "duration": 491,
    "start_time": "2024-10-11T21:46:41.256Z"
   },
   {
    "duration": 40,
    "start_time": "2024-10-11T21:46:41.748Z"
   },
   {
    "duration": 10,
    "start_time": "2024-10-11T22:19:51.264Z"
   },
   {
    "duration": 9,
    "start_time": "2024-10-11T22:27:17.452Z"
   },
   {
    "duration": 99,
    "start_time": "2024-10-11T22:33:21.795Z"
   },
   {
    "duration": 8,
    "start_time": "2024-10-11T22:33:45.896Z"
   },
   {
    "duration": 12,
    "start_time": "2024-10-11T22:34:14.521Z"
   },
   {
    "duration": 8,
    "start_time": "2024-10-11T22:34:19.466Z"
   },
   {
    "duration": 7,
    "start_time": "2024-10-11T22:34:37.746Z"
   },
   {
    "duration": 6,
    "start_time": "2024-10-11T22:47:28.677Z"
   },
   {
    "duration": 5,
    "start_time": "2024-10-11T22:56:40.176Z"
   },
   {
    "duration": 5,
    "start_time": "2024-10-11T22:57:11.330Z"
   },
   {
    "duration": 7,
    "start_time": "2024-10-11T23:05:24.138Z"
   },
   {
    "duration": 1277,
    "start_time": "2024-10-11T23:05:56.077Z"
   },
   {
    "duration": 468,
    "start_time": "2024-10-11T23:06:01.532Z"
   },
   {
    "duration": 5,
    "start_time": "2024-10-11T23:06:38.861Z"
   },
   {
    "duration": 1281,
    "start_time": "2024-10-11T23:08:33.369Z"
   },
   {
    "duration": 42,
    "start_time": "2024-10-11T23:08:43.626Z"
   },
   {
    "duration": 41,
    "start_time": "2024-10-11T23:09:53.319Z"
   },
   {
    "duration": 5,
    "start_time": "2024-10-11T23:10:03.422Z"
   },
   {
    "duration": 4,
    "start_time": "2024-10-11T23:42:18.316Z"
   },
   {
    "duration": 1294,
    "start_time": "2024-10-11T23:42:48.640Z"
   },
   {
    "duration": 1300,
    "start_time": "2024-10-11T23:44:51.707Z"
   },
   {
    "duration": 17,
    "start_time": "2024-10-11T23:44:55.448Z"
   },
   {
    "duration": 1381,
    "start_time": "2024-10-11T23:45:21.157Z"
   },
   {
    "duration": 52,
    "start_time": "2024-10-11T23:45:24.210Z"
   },
   {
    "duration": 48,
    "start_time": "2024-10-11T23:46:20.569Z"
   },
   {
    "duration": 8,
    "start_time": "2024-10-11T23:46:49.142Z"
   },
   {
    "duration": 1371,
    "start_time": "2024-10-11T23:56:58.737Z"
   },
   {
    "duration": 7,
    "start_time": "2024-10-11T23:57:03.583Z"
   },
   {
    "duration": 360,
    "start_time": "2024-10-12T00:55:29.673Z"
   },
   {
    "duration": 349,
    "start_time": "2024-10-12T00:56:15.293Z"
   },
   {
    "duration": 352,
    "start_time": "2024-10-12T00:56:38.115Z"
   },
   {
    "duration": 367,
    "start_time": "2024-10-12T00:56:43.946Z"
   },
   {
    "duration": 273,
    "start_time": "2024-10-12T03:08:33.872Z"
   },
   {
    "duration": 350,
    "start_time": "2024-10-12T03:09:27.291Z"
   },
   {
    "duration": 2514,
    "start_time": "2024-10-12T11:41:06.519Z"
   },
   {
    "duration": 1381,
    "start_time": "2024-10-12T11:41:09.035Z"
   },
   {
    "duration": 473,
    "start_time": "2024-10-12T11:41:10.418Z"
   },
   {
    "duration": 54,
    "start_time": "2024-10-12T11:41:10.892Z"
   },
   {
    "duration": 8,
    "start_time": "2024-10-12T11:41:10.948Z"
   },
   {
    "duration": 6,
    "start_time": "2024-10-12T11:41:10.959Z"
   },
   {
    "duration": 5,
    "start_time": "2024-10-12T11:41:10.966Z"
   },
   {
    "duration": 4,
    "start_time": "2024-10-12T11:41:10.974Z"
   },
   {
    "duration": 333,
    "start_time": "2024-10-12T11:41:10.979Z"
   },
   {
    "duration": 2,
    "start_time": "2024-10-12T11:41:11.314Z"
   },
   {
    "duration": 3,
    "start_time": "2024-10-12T11:41:53.440Z"
   },
   {
    "duration": 1360,
    "start_time": "2024-10-12T11:41:53.447Z"
   },
   {
    "duration": 460,
    "start_time": "2024-10-12T11:41:54.809Z"
   },
   {
    "duration": 46,
    "start_time": "2024-10-12T11:41:55.270Z"
   },
   {
    "duration": 7,
    "start_time": "2024-10-12T11:41:55.319Z"
   },
   {
    "duration": 6,
    "start_time": "2024-10-12T11:41:55.327Z"
   },
   {
    "duration": 4,
    "start_time": "2024-10-12T11:41:55.334Z"
   },
   {
    "duration": 4,
    "start_time": "2024-10-12T11:41:55.340Z"
   },
   {
    "duration": 315,
    "start_time": "2024-10-12T11:41:55.346Z"
   },
   {
    "duration": 4,
    "start_time": "2024-10-12T11:41:55.663Z"
   },
   {
    "duration": 5,
    "start_time": "2024-10-12T12:04:04.355Z"
   },
   {
    "duration": 4,
    "start_time": "2024-10-12T12:04:55.166Z"
   },
   {
    "duration": 187,
    "start_time": "2024-10-12T12:06:38.064Z"
   },
   {
    "duration": 268,
    "start_time": "2024-10-12T12:11:52.739Z"
   },
   {
    "duration": 49,
    "start_time": "2024-10-12T12:47:43.918Z"
   },
   {
    "duration": 3,
    "start_time": "2024-10-12T12:48:17.633Z"
   },
   {
    "duration": 4,
    "start_time": "2024-10-12T12:48:36.417Z"
   },
   {
    "duration": 142,
    "start_time": "2024-10-12T12:51:52.273Z"
   },
   {
    "duration": 28,
    "start_time": "2024-10-12T12:59:58.752Z"
   },
   {
    "duration": 740,
    "start_time": "2024-10-12T13:09:43.490Z"
   },
   {
    "duration": 107,
    "start_time": "2024-10-12T13:10:07.912Z"
   },
   {
    "duration": 37,
    "start_time": "2024-10-12T13:10:39.915Z"
   },
   {
    "duration": 42,
    "start_time": "2024-10-12T13:11:02.400Z"
   },
   {
    "duration": 47,
    "start_time": "2024-10-12T13:11:30.692Z"
   },
   {
    "duration": 14,
    "start_time": "2024-10-12T13:32:35.111Z"
   },
   {
    "duration": 159,
    "start_time": "2024-10-12T13:33:04.973Z"
   },
   {
    "duration": 120,
    "start_time": "2024-10-12T13:49:23.863Z"
   },
   {
    "duration": 128,
    "start_time": "2024-10-12T13:53:54.402Z"
   },
   {
    "duration": 45,
    "start_time": "2024-10-12T14:00:55.231Z"
   },
   {
    "duration": 3,
    "start_time": "2024-10-12T14:01:18.572Z"
   },
   {
    "duration": 40,
    "start_time": "2024-10-12T14:01:26.323Z"
   },
   {
    "duration": 43,
    "start_time": "2024-10-12T14:01:40.988Z"
   },
   {
    "duration": 3,
    "start_time": "2024-10-12T14:17:57.704Z"
   },
   {
    "duration": 13,
    "start_time": "2024-10-12T16:46:58.007Z"
   },
   {
    "duration": 7,
    "start_time": "2024-10-12T16:48:03.917Z"
   },
   {
    "duration": 134,
    "start_time": "2024-10-12T16:50:27.324Z"
   },
   {
    "duration": 11,
    "start_time": "2024-10-12T17:12:33.518Z"
   },
   {
    "duration": 6,
    "start_time": "2024-10-12T17:12:52.229Z"
   },
   {
    "duration": 160,
    "start_time": "2024-10-12T17:18:32.155Z"
   },
   {
    "duration": 47,
    "start_time": "2024-10-12T17:22:37.282Z"
   },
   {
    "duration": 8,
    "start_time": "2024-10-12T17:23:37.939Z"
   },
   {
    "duration": 299,
    "start_time": "2024-10-12T17:23:52.130Z"
   },
   {
    "duration": 44,
    "start_time": "2024-10-12T17:24:26.676Z"
   },
   {
    "duration": 164,
    "start_time": "2024-10-12T17:26:10.304Z"
   },
   {
    "duration": 42,
    "start_time": "2024-10-12T17:39:11.510Z"
   },
   {
    "duration": 415,
    "start_time": "2024-10-12T17:42:33.190Z"
   },
   {
    "duration": 2,
    "start_time": "2024-10-12T17:42:41.900Z"
   },
   {
    "duration": 1320,
    "start_time": "2024-10-12T17:42:41.904Z"
   },
   {
    "duration": 493,
    "start_time": "2024-10-12T17:42:43.226Z"
   },
   {
    "duration": 46,
    "start_time": "2024-10-12T17:42:43.722Z"
   },
   {
    "duration": 7,
    "start_time": "2024-10-12T17:42:43.771Z"
   },
   {
    "duration": 26,
    "start_time": "2024-10-12T17:42:43.780Z"
   },
   {
    "duration": 5,
    "start_time": "2024-10-12T17:42:43.807Z"
   },
   {
    "duration": 6,
    "start_time": "2024-10-12T17:42:43.814Z"
   },
   {
    "duration": 296,
    "start_time": "2024-10-12T17:42:43.822Z"
   },
   {
    "duration": 207,
    "start_time": "2024-10-12T17:42:44.121Z"
   },
   {
    "duration": 284,
    "start_time": "2024-10-12T17:42:44.330Z"
   },
   {
    "duration": 164,
    "start_time": "2024-10-12T17:42:44.616Z"
   },
   {
    "duration": 43,
    "start_time": "2024-10-12T17:42:44.783Z"
   },
   {
    "duration": 131,
    "start_time": "2024-10-12T17:42:44.828Z"
   },
   {
    "duration": 6,
    "start_time": "2024-10-12T17:42:44.960Z"
   },
   {
    "duration": 179,
    "start_time": "2024-10-12T17:42:44.968Z"
   },
   {
    "duration": 42,
    "start_time": "2024-10-12T17:42:45.149Z"
   },
   {
    "duration": 37,
    "start_time": "2024-10-12T17:43:35.919Z"
   },
   {
    "duration": 71,
    "start_time": "2024-10-12T17:44:44.795Z"
   },
   {
    "duration": 2479,
    "start_time": "2024-10-13T17:22:07.074Z"
   },
   {
    "duration": 1413,
    "start_time": "2024-10-13T17:22:09.555Z"
   },
   {
    "duration": 442,
    "start_time": "2024-10-13T17:22:10.969Z"
   },
   {
    "duration": 45,
    "start_time": "2024-10-13T17:22:11.413Z"
   },
   {
    "duration": 7,
    "start_time": "2024-10-13T17:22:11.460Z"
   },
   {
    "duration": 6,
    "start_time": "2024-10-13T17:22:11.469Z"
   },
   {
    "duration": 5,
    "start_time": "2024-10-13T17:22:11.476Z"
   },
   {
    "duration": 5,
    "start_time": "2024-10-13T17:22:11.508Z"
   },
   {
    "duration": 310,
    "start_time": "2024-10-13T17:22:11.514Z"
   },
   {
    "duration": 204,
    "start_time": "2024-10-13T17:22:11.828Z"
   },
   {
    "duration": 308,
    "start_time": "2024-10-13T17:22:12.034Z"
   },
   {
    "duration": 169,
    "start_time": "2024-10-13T17:22:12.344Z"
   },
   {
    "duration": 39,
    "start_time": "2024-10-13T17:22:12.515Z"
   },
   {
    "duration": 141,
    "start_time": "2024-10-13T17:22:12.556Z"
   },
   {
    "duration": 10,
    "start_time": "2024-10-13T17:22:12.699Z"
   },
   {
    "duration": 180,
    "start_time": "2024-10-13T17:22:12.710Z"
   },
   {
    "duration": 2,
    "start_time": "2024-10-13T17:22:12.892Z"
   },
   {
    "duration": 745,
    "start_time": "2024-10-13T18:08:47.095Z"
   },
   {
    "duration": 96,
    "start_time": "2024-10-13T18:12:32.754Z"
   },
   {
    "duration": 98,
    "start_time": "2024-10-13T18:30:06.031Z"
   },
   {
    "duration": 211,
    "start_time": "2024-10-13T18:32:10.423Z"
   },
   {
    "duration": 197,
    "start_time": "2024-10-13T18:32:28.541Z"
   },
   {
    "duration": 112,
    "start_time": "2024-10-13T18:49:51.410Z"
   },
   {
    "duration": 2,
    "start_time": "2024-10-13T18:50:12.634Z"
   },
   {
    "duration": 1195,
    "start_time": "2024-10-13T18:50:12.638Z"
   },
   {
    "duration": 452,
    "start_time": "2024-10-13T18:50:13.835Z"
   },
   {
    "duration": 50,
    "start_time": "2024-10-13T18:50:14.289Z"
   },
   {
    "duration": 6,
    "start_time": "2024-10-13T18:50:14.343Z"
   },
   {
    "duration": 5,
    "start_time": "2024-10-13T18:50:14.351Z"
   },
   {
    "duration": 5,
    "start_time": "2024-10-13T18:50:14.357Z"
   },
   {
    "duration": 5,
    "start_time": "2024-10-13T18:50:14.363Z"
   },
   {
    "duration": 306,
    "start_time": "2024-10-13T18:50:14.370Z"
   },
   {
    "duration": 231,
    "start_time": "2024-10-13T18:50:14.678Z"
   },
   {
    "duration": 308,
    "start_time": "2024-10-13T18:50:14.910Z"
   },
   {
    "duration": 176,
    "start_time": "2024-10-13T18:50:15.220Z"
   },
   {
    "duration": 43,
    "start_time": "2024-10-13T18:50:15.398Z"
   },
   {
    "duration": 140,
    "start_time": "2024-10-13T18:50:15.445Z"
   },
   {
    "duration": 6,
    "start_time": "2024-10-13T18:50:15.587Z"
   },
   {
    "duration": 125,
    "start_time": "2024-10-13T18:50:15.595Z"
   },
   {
    "duration": 103,
    "start_time": "2024-10-13T18:50:27.467Z"
   },
   {
    "duration": 169,
    "start_time": "2024-10-13T18:52:18.925Z"
   },
   {
    "duration": 174,
    "start_time": "2024-10-13T21:00:18.173Z"
   },
   {
    "duration": 242,
    "start_time": "2024-10-13T21:04:26.790Z"
   },
   {
    "duration": 182,
    "start_time": "2024-10-13T21:05:46.030Z"
   },
   {
    "duration": 191,
    "start_time": "2024-10-13T21:05:58.836Z"
   },
   {
    "duration": 180,
    "start_time": "2024-10-13T21:06:25.339Z"
   },
   {
    "duration": 2,
    "start_time": "2024-10-13T21:07:07.391Z"
   },
   {
    "duration": 1205,
    "start_time": "2024-10-13T21:07:07.396Z"
   },
   {
    "duration": 454,
    "start_time": "2024-10-13T21:07:08.603Z"
   },
   {
    "duration": 41,
    "start_time": "2024-10-13T21:07:09.059Z"
   },
   {
    "duration": 6,
    "start_time": "2024-10-13T21:07:09.110Z"
   },
   {
    "duration": 5,
    "start_time": "2024-10-13T21:07:09.118Z"
   },
   {
    "duration": 4,
    "start_time": "2024-10-13T21:07:09.125Z"
   },
   {
    "duration": 4,
    "start_time": "2024-10-13T21:07:09.131Z"
   },
   {
    "duration": 295,
    "start_time": "2024-10-13T21:07:09.137Z"
   },
   {
    "duration": 196,
    "start_time": "2024-10-13T21:07:09.433Z"
   },
   {
    "duration": 268,
    "start_time": "2024-10-13T21:07:09.631Z"
   },
   {
    "duration": 142,
    "start_time": "2024-10-13T21:07:09.901Z"
   },
   {
    "duration": 37,
    "start_time": "2024-10-13T21:07:10.044Z"
   },
   {
    "duration": 128,
    "start_time": "2024-10-13T21:07:10.084Z"
   },
   {
    "duration": 7,
    "start_time": "2024-10-13T21:07:10.214Z"
   },
   {
    "duration": 177,
    "start_time": "2024-10-13T21:07:10.222Z"
   },
   {
    "duration": 288,
    "start_time": "2024-10-13T21:07:21.843Z"
   },
   {
    "duration": 46,
    "start_time": "2024-10-13T21:08:04.539Z"
   },
   {
    "duration": 8,
    "start_time": "2024-10-13T21:08:15.511Z"
   },
   {
    "duration": 12,
    "start_time": "2024-10-13T21:08:34.911Z"
   },
   {
    "duration": 4,
    "start_time": "2024-10-13T21:28:30.332Z"
   },
   {
    "duration": 14,
    "start_time": "2024-10-13T21:28:41.247Z"
   },
   {
    "duration": 182,
    "start_time": "2024-10-13T23:22:33.115Z"
   },
   {
    "duration": 195,
    "start_time": "2024-10-13T23:23:31.231Z"
   },
   {
    "duration": 11,
    "start_time": "2024-10-13T23:23:43.832Z"
   },
   {
    "duration": 3,
    "start_time": "2024-10-13T23:23:50.684Z"
   },
   {
    "duration": 1233,
    "start_time": "2024-10-13T23:23:50.689Z"
   },
   {
    "duration": 445,
    "start_time": "2024-10-13T23:23:51.924Z"
   },
   {
    "duration": 53,
    "start_time": "2024-10-13T23:23:52.371Z"
   },
   {
    "duration": 7,
    "start_time": "2024-10-13T23:23:52.426Z"
   },
   {
    "duration": 6,
    "start_time": "2024-10-13T23:23:52.434Z"
   },
   {
    "duration": 4,
    "start_time": "2024-10-13T23:23:52.442Z"
   },
   {
    "duration": 4,
    "start_time": "2024-10-13T23:23:52.448Z"
   },
   {
    "duration": 286,
    "start_time": "2024-10-13T23:23:52.454Z"
   },
   {
    "duration": 207,
    "start_time": "2024-10-13T23:23:52.742Z"
   },
   {
    "duration": 259,
    "start_time": "2024-10-13T23:23:52.950Z"
   },
   {
    "duration": 142,
    "start_time": "2024-10-13T23:23:53.211Z"
   },
   {
    "duration": 38,
    "start_time": "2024-10-13T23:23:53.356Z"
   },
   {
    "duration": 116,
    "start_time": "2024-10-13T23:23:53.408Z"
   },
   {
    "duration": 307,
    "start_time": "2024-10-13T23:23:53.526Z"
   },
   {
    "duration": 14,
    "start_time": "2024-10-13T23:23:53.835Z"
   },
   {
    "duration": 17,
    "start_time": "2024-10-13T23:23:53.851Z"
   },
   {
    "duration": 13,
    "start_time": "2024-10-13T23:24:47.518Z"
   },
   {
    "duration": 13,
    "start_time": "2024-10-13T23:25:06.960Z"
   },
   {
    "duration": 10,
    "start_time": "2024-10-13T23:25:33.547Z"
   },
   {
    "duration": 10,
    "start_time": "2024-10-13T23:26:01.479Z"
   },
   {
    "duration": 10,
    "start_time": "2024-10-13T23:26:19.042Z"
   },
   {
    "duration": 11,
    "start_time": "2024-10-13T23:34:28.015Z"
   },
   {
    "duration": 4,
    "start_time": "2024-10-13T23:35:10.551Z"
   },
   {
    "duration": 569,
    "start_time": "2024-10-13T23:35:20.443Z"
   },
   {
    "duration": 16,
    "start_time": "2024-10-13T23:35:37.938Z"
   },
   {
    "duration": 807,
    "start_time": "2024-10-13T23:39:04.604Z"
   },
   {
    "duration": 1201,
    "start_time": "2024-10-13T23:39:05.413Z"
   },
   {
    "duration": 439,
    "start_time": "2024-10-13T23:39:06.616Z"
   },
   {
    "duration": 55,
    "start_time": "2024-10-13T23:39:07.057Z"
   },
   {
    "duration": 6,
    "start_time": "2024-10-13T23:39:07.115Z"
   },
   {
    "duration": 6,
    "start_time": "2024-10-13T23:39:07.123Z"
   },
   {
    "duration": 5,
    "start_time": "2024-10-13T23:39:07.130Z"
   },
   {
    "duration": 5,
    "start_time": "2024-10-13T23:39:07.136Z"
   },
   {
    "duration": 336,
    "start_time": "2024-10-13T23:39:07.142Z"
   },
   {
    "duration": 214,
    "start_time": "2024-10-13T23:39:07.480Z"
   },
   {
    "duration": 316,
    "start_time": "2024-10-13T23:39:07.696Z"
   },
   {
    "duration": 171,
    "start_time": "2024-10-13T23:39:08.014Z"
   },
   {
    "duration": 51,
    "start_time": "2024-10-13T23:39:08.187Z"
   },
   {
    "duration": 139,
    "start_time": "2024-10-13T23:39:08.241Z"
   },
   {
    "duration": 374,
    "start_time": "2024-10-13T23:39:08.382Z"
   },
   {
    "duration": 12,
    "start_time": "2024-10-13T23:39:08.758Z"
   },
   {
    "duration": 10,
    "start_time": "2024-10-13T23:39:08.772Z"
   },
   {
    "duration": 325,
    "start_time": "2024-10-13T23:41:47.119Z"
   },
   {
    "duration": 233,
    "start_time": "2024-10-13T23:41:57.031Z"
   },
   {
    "duration": 139,
    "start_time": "2024-10-13T23:42:48.517Z"
   },
   {
    "duration": 126624,
    "start_time": "2024-10-13T23:42:57.125Z"
   },
   {
    "duration": 19,
    "start_time": "2024-10-13T23:45:34.242Z"
   },
   {
    "duration": 259,
    "start_time": "2024-10-14T00:18:53.951Z"
   },
   {
    "duration": 769,
    "start_time": "2024-10-14T00:21:32.999Z"
   },
   {
    "duration": 283,
    "start_time": "2024-10-14T00:22:09.084Z"
   },
   {
    "duration": 145,
    "start_time": "2024-10-14T00:22:46.864Z"
   },
   {
    "duration": 232,
    "start_time": "2024-10-14T00:23:08.807Z"
   },
   {
    "duration": 18,
    "start_time": "2024-10-14T00:32:02.645Z"
   },
   {
    "duration": 140,
    "start_time": "2024-10-14T00:32:10.322Z"
   },
   {
    "duration": 134,
    "start_time": "2024-10-14T00:33:05.234Z"
   },
   {
    "duration": 66,
    "start_time": "2024-10-14T00:33:18.684Z"
   },
   {
    "duration": 136,
    "start_time": "2024-10-14T00:34:55.482Z"
   },
   {
    "duration": 160,
    "start_time": "2024-10-14T00:35:55.854Z"
   },
   {
    "duration": 154,
    "start_time": "2024-10-14T00:39:16.676Z"
   },
   {
    "duration": 56,
    "start_time": "2024-10-14T00:44:09.187Z"
   },
   {
    "duration": 2,
    "start_time": "2024-10-14T00:44:12.544Z"
   },
   {
    "duration": 1220,
    "start_time": "2024-10-14T00:44:12.548Z"
   },
   {
    "duration": 474,
    "start_time": "2024-10-14T00:44:13.770Z"
   },
   {
    "duration": 51,
    "start_time": "2024-10-14T00:44:14.246Z"
   },
   {
    "duration": 8,
    "start_time": "2024-10-14T00:44:14.309Z"
   },
   {
    "duration": 5,
    "start_time": "2024-10-14T00:44:14.319Z"
   },
   {
    "duration": 4,
    "start_time": "2024-10-14T00:44:14.326Z"
   },
   {
    "duration": 5,
    "start_time": "2024-10-14T00:44:14.332Z"
   },
   {
    "duration": 288,
    "start_time": "2024-10-14T00:44:14.339Z"
   },
   {
    "duration": 217,
    "start_time": "2024-10-14T00:44:14.629Z"
   },
   {
    "duration": 267,
    "start_time": "2024-10-14T00:44:14.848Z"
   },
   {
    "duration": 151,
    "start_time": "2024-10-14T00:44:15.117Z"
   },
   {
    "duration": 50,
    "start_time": "2024-10-14T00:44:15.270Z"
   },
   {
    "duration": 122,
    "start_time": "2024-10-14T00:44:15.323Z"
   },
   {
    "duration": 305,
    "start_time": "2024-10-14T00:44:15.448Z"
   },
   {
    "duration": 12,
    "start_time": "2024-10-14T00:44:15.755Z"
   },
   {
    "duration": 18,
    "start_time": "2024-10-14T00:44:15.769Z"
   },
   {
    "duration": 205,
    "start_time": "2024-10-14T00:53:11.673Z"
   },
   {
    "duration": 132,
    "start_time": "2024-10-14T00:54:20.199Z"
   },
   {
    "duration": 231,
    "start_time": "2024-10-14T01:08:16.264Z"
   },
   {
    "duration": 242,
    "start_time": "2024-10-14T01:08:42.988Z"
   },
   {
    "duration": 180,
    "start_time": "2024-10-14T01:10:17.174Z"
   },
   {
    "duration": 12,
    "start_time": "2024-10-14T01:10:50.075Z"
   },
   {
    "duration": 198,
    "start_time": "2024-10-14T01:19:56.913Z"
   },
   {
    "duration": 201,
    "start_time": "2024-10-14T01:21:15.768Z"
   },
   {
    "duration": 369,
    "start_time": "2024-10-14T01:21:51.769Z"
   },
   {
    "duration": 140,
    "start_time": "2024-10-14T01:22:08.958Z"
   },
   {
    "duration": 127,
    "start_time": "2024-10-14T01:23:25.669Z"
   },
   {
    "duration": 14,
    "start_time": "2024-10-14T01:23:42.878Z"
   },
   {
    "duration": 781,
    "start_time": "2024-10-14T01:27:32.965Z"
   },
   {
    "duration": 133,
    "start_time": "2024-10-14T01:27:49.495Z"
   },
   {
    "duration": 171,
    "start_time": "2024-10-14T01:28:17.148Z"
   },
   {
    "duration": 135,
    "start_time": "2024-10-14T01:28:38.261Z"
   },
   {
    "duration": 94,
    "start_time": "2024-10-14T01:30:21.094Z"
   },
   {
    "duration": 7,
    "start_time": "2024-10-14T01:36:27.807Z"
   },
   {
    "duration": 109,
    "start_time": "2024-10-14T01:36:34.761Z"
   },
   {
    "duration": 99,
    "start_time": "2024-10-14T01:37:08.138Z"
   },
   {
    "duration": 106,
    "start_time": "2024-10-14T01:37:45.723Z"
   },
   {
    "duration": 106,
    "start_time": "2024-10-14T01:39:02.068Z"
   },
   {
    "duration": 96,
    "start_time": "2024-10-14T01:39:18.551Z"
   },
   {
    "duration": 141,
    "start_time": "2024-10-14T01:39:31.523Z"
   },
   {
    "duration": 220,
    "start_time": "2024-10-14T01:40:20.662Z"
   },
   {
    "duration": 105,
    "start_time": "2024-10-14T01:41:00.912Z"
   },
   {
    "duration": 101,
    "start_time": "2024-10-14T01:45:23.409Z"
   },
   {
    "duration": 111,
    "start_time": "2024-10-14T01:46:03.127Z"
   },
   {
    "duration": 103,
    "start_time": "2024-10-14T01:46:34.064Z"
   },
   {
    "duration": 94,
    "start_time": "2024-10-14T01:47:01.456Z"
   },
   {
    "duration": 99,
    "start_time": "2024-10-14T01:49:36.931Z"
   },
   {
    "duration": 100,
    "start_time": "2024-10-14T01:50:51.979Z"
   },
   {
    "duration": 140,
    "start_time": "2024-10-14T02:24:21.259Z"
   },
   {
    "duration": 279,
    "start_time": "2024-10-14T02:29:01.419Z"
   },
   {
    "duration": 284,
    "start_time": "2024-10-14T02:31:08.216Z"
   },
   {
    "duration": 381,
    "start_time": "2024-10-14T02:36:36.954Z"
   },
   {
    "duration": 359,
    "start_time": "2024-10-14T02:37:08.357Z"
   },
   {
    "duration": 20087,
    "start_time": "2024-10-14T02:39:44.132Z"
   },
   {
    "duration": 319,
    "start_time": "2024-10-14T02:40:21.402Z"
   },
   {
    "duration": 342,
    "start_time": "2024-10-14T02:40:40.791Z"
   },
   {
    "duration": 321,
    "start_time": "2024-10-14T02:41:16.350Z"
   },
   {
    "duration": 162,
    "start_time": "2024-10-14T02:43:24.300Z"
   },
   {
    "duration": 13,
    "start_time": "2024-10-14T02:46:35.570Z"
   },
   {
    "duration": 112,
    "start_time": "2024-10-14T02:51:47.189Z"
   },
   {
    "duration": 206,
    "start_time": "2024-10-14T02:54:43.019Z"
   },
   {
    "duration": 459,
    "start_time": "2024-10-14T02:55:52.916Z"
   },
   {
    "duration": 340,
    "start_time": "2024-10-14T02:56:26.820Z"
   },
   {
    "duration": 256,
    "start_time": "2024-10-14T02:57:46.723Z"
   },
   {
    "duration": 305,
    "start_time": "2024-10-14T02:57:55.186Z"
   },
   {
    "duration": 135,
    "start_time": "2024-10-14T02:58:15.158Z"
   },
   {
    "duration": 191,
    "start_time": "2024-10-14T02:59:14.324Z"
   },
   {
    "duration": 184,
    "start_time": "2024-10-14T03:04:28.319Z"
   },
   {
    "duration": 6,
    "start_time": "2024-10-14T03:04:54.592Z"
   },
   {
    "duration": 180,
    "start_time": "2024-10-14T03:05:11.366Z"
   },
   {
    "duration": 181,
    "start_time": "2024-10-14T03:05:33.747Z"
   },
   {
    "duration": 267,
    "start_time": "2024-10-14T03:06:24.565Z"
   },
   {
    "duration": 208,
    "start_time": "2024-10-14T03:07:30.368Z"
   },
   {
    "duration": 226,
    "start_time": "2024-10-14T03:08:46.446Z"
   },
   {
    "duration": 327,
    "start_time": "2024-10-14T03:11:14.026Z"
   },
   {
    "duration": 473,
    "start_time": "2024-10-14T03:11:32.986Z"
   },
   {
    "duration": 240,
    "start_time": "2024-10-14T03:12:44.441Z"
   },
   {
    "duration": 416,
    "start_time": "2024-10-14T03:14:51.445Z"
   },
   {
    "duration": 208,
    "start_time": "2024-10-14T03:16:13.005Z"
   },
   {
    "duration": 221,
    "start_time": "2024-10-14T03:16:50.177Z"
   },
   {
    "duration": 205,
    "start_time": "2024-10-14T03:17:22.340Z"
   },
   {
    "duration": 234,
    "start_time": "2024-10-14T03:18:27.072Z"
   },
   {
    "duration": 293,
    "start_time": "2024-10-14T03:19:50.259Z"
   },
   {
    "duration": 215,
    "start_time": "2024-10-14T03:20:03.897Z"
   },
   {
    "duration": 25,
    "start_time": "2024-10-14T03:23:53.543Z"
   },
   {
    "duration": 4,
    "start_time": "2024-10-14T03:39:51.682Z"
   },
   {
    "duration": 92,
    "start_time": "2024-10-14T03:40:05.744Z"
   },
   {
    "duration": 182,
    "start_time": "2024-10-14T03:44:09.058Z"
   },
   {
    "duration": 134,
    "start_time": "2024-10-14T03:45:22.317Z"
   },
   {
    "duration": 21,
    "start_time": "2024-10-14T03:48:44.334Z"
   },
   {
    "duration": 96,
    "start_time": "2024-10-14T03:49:11.135Z"
   },
   {
    "duration": 139,
    "start_time": "2024-10-14T03:49:15.426Z"
   },
   {
    "duration": 164,
    "start_time": "2024-10-14T03:52:13.277Z"
   },
   {
    "duration": 110,
    "start_time": "2024-10-14T03:54:31.819Z"
   },
   {
    "duration": 152,
    "start_time": "2024-10-14T03:54:39.999Z"
   },
   {
    "duration": 20,
    "start_time": "2024-10-14T03:56:08.029Z"
   },
   {
    "duration": 113,
    "start_time": "2024-10-14T03:57:53.738Z"
   },
   {
    "duration": 97,
    "start_time": "2024-10-14T03:58:22.561Z"
   },
   {
    "duration": 101,
    "start_time": "2024-10-14T03:58:32.909Z"
   },
   {
    "duration": 147,
    "start_time": "2024-10-14T03:58:36.590Z"
   },
   {
    "duration": 145,
    "start_time": "2024-10-14T03:58:41.806Z"
   },
   {
    "duration": 105,
    "start_time": "2024-10-14T03:59:07.404Z"
   },
   {
    "duration": 153,
    "start_time": "2024-10-14T03:59:14.909Z"
   },
   {
    "duration": 157,
    "start_time": "2024-10-14T03:59:53.118Z"
   },
   {
    "duration": 125,
    "start_time": "2024-10-14T04:00:37.439Z"
   },
   {
    "duration": 118,
    "start_time": "2024-10-14T04:00:51.455Z"
   },
   {
    "duration": 121,
    "start_time": "2024-10-14T04:01:26.588Z"
   },
   {
    "duration": 3,
    "start_time": "2024-10-14T04:01:37.878Z"
   },
   {
    "duration": 1275,
    "start_time": "2024-10-14T04:01:37.883Z"
   },
   {
    "duration": 476,
    "start_time": "2024-10-14T04:01:39.160Z"
   },
   {
    "duration": 45,
    "start_time": "2024-10-14T04:01:39.640Z"
   },
   {
    "duration": 22,
    "start_time": "2024-10-14T04:01:39.687Z"
   },
   {
    "duration": 6,
    "start_time": "2024-10-14T04:01:39.712Z"
   },
   {
    "duration": 4,
    "start_time": "2024-10-14T04:01:39.721Z"
   },
   {
    "duration": 5,
    "start_time": "2024-10-14T04:01:39.728Z"
   },
   {
    "duration": 301,
    "start_time": "2024-10-14T04:01:39.736Z"
   },
   {
    "duration": 216,
    "start_time": "2024-10-14T04:01:40.039Z"
   },
   {
    "duration": 347,
    "start_time": "2024-10-14T04:01:40.257Z"
   },
   {
    "duration": 38,
    "start_time": "2024-10-14T04:01:40.606Z"
   },
   {
    "duration": 133,
    "start_time": "2024-10-14T04:01:40.646Z"
   },
   {
    "duration": 341,
    "start_time": "2024-10-14T04:01:40.782Z"
   },
   {
    "duration": 12,
    "start_time": "2024-10-14T04:01:41.125Z"
   },
   {
    "duration": 20,
    "start_time": "2024-10-14T04:01:41.139Z"
   },
   {
    "duration": 169,
    "start_time": "2024-10-14T04:01:41.161Z"
   },
   {
    "duration": 99,
    "start_time": "2024-10-14T04:01:41.331Z"
   },
   {
    "duration": 147,
    "start_time": "2024-10-14T04:01:41.432Z"
   },
   {
    "duration": 228,
    "start_time": "2024-10-14T04:01:41.581Z"
   },
   {
    "duration": 119,
    "start_time": "2024-10-14T04:01:41.811Z"
   },
   {
    "duration": 129,
    "start_time": "2024-10-14T04:01:41.931Z"
   },
   {
    "duration": 149,
    "start_time": "2024-10-14T04:02:19.873Z"
   },
   {
    "duration": 5,
    "start_time": "2024-10-14T04:04:28.632Z"
   },
   {
    "duration": 5,
    "start_time": "2024-10-14T04:04:57.252Z"
   },
   {
    "duration": 138,
    "start_time": "2024-10-14T04:05:09.702Z"
   },
   {
    "duration": 3,
    "start_time": "2024-10-14T14:14:47.096Z"
   },
   {
    "duration": 1387,
    "start_time": "2024-10-14T14:14:47.102Z"
   },
   {
    "duration": 487,
    "start_time": "2024-10-14T14:14:48.491Z"
   },
   {
    "duration": 59,
    "start_time": "2024-10-14T14:14:48.980Z"
   },
   {
    "duration": 7,
    "start_time": "2024-10-14T14:14:49.042Z"
   },
   {
    "duration": 6,
    "start_time": "2024-10-14T14:14:49.051Z"
   },
   {
    "duration": 5,
    "start_time": "2024-10-14T14:14:49.059Z"
   },
   {
    "duration": 4,
    "start_time": "2024-10-14T14:14:49.066Z"
   },
   {
    "duration": 307,
    "start_time": "2024-10-14T14:14:49.073Z"
   },
   {
    "duration": 209,
    "start_time": "2024-10-14T14:14:49.382Z"
   },
   {
    "duration": 400,
    "start_time": "2024-10-14T14:14:49.595Z"
   },
   {
    "duration": 43,
    "start_time": "2024-10-14T14:14:49.997Z"
   },
   {
    "duration": 125,
    "start_time": "2024-10-14T14:14:50.042Z"
   },
   {
    "duration": 327,
    "start_time": "2024-10-14T14:14:50.172Z"
   },
   {
    "duration": 17,
    "start_time": "2024-10-14T14:14:50.501Z"
   },
   {
    "duration": 17,
    "start_time": "2024-10-14T14:14:50.521Z"
   },
   {
    "duration": 156,
    "start_time": "2024-10-14T14:14:50.540Z"
   },
   {
    "duration": 115,
    "start_time": "2024-10-14T14:14:50.709Z"
   },
   {
    "duration": 163,
    "start_time": "2024-10-14T14:14:50.826Z"
   },
   {
    "duration": 224,
    "start_time": "2024-10-14T14:14:50.992Z"
   },
   {
    "duration": 5,
    "start_time": "2024-10-14T14:14:51.218Z"
   },
   {
    "duration": 128,
    "start_time": "2024-10-14T14:14:51.225Z"
   },
   {
    "duration": 133,
    "start_time": "2024-10-14T14:14:51.356Z"
   },
   {
    "duration": 200,
    "start_time": "2024-10-14T14:16:11.352Z"
   },
   {
    "duration": 115,
    "start_time": "2024-10-14T14:16:31.558Z"
   },
   {
    "duration": 161,
    "start_time": "2024-10-14T14:16:46.262Z"
   },
   {
    "duration": 20,
    "start_time": "2024-10-14T14:20:27.030Z"
   },
   {
    "duration": 15,
    "start_time": "2024-10-14T14:20:39.574Z"
   },
   {
    "duration": 22,
    "start_time": "2024-10-14T14:33:39.383Z"
   },
   {
    "duration": 3,
    "start_time": "2024-10-14T14:37:34.484Z"
   },
   {
    "duration": 1352,
    "start_time": "2024-10-14T14:37:34.490Z"
   },
   {
    "duration": 447,
    "start_time": "2024-10-14T14:37:35.844Z"
   },
   {
    "duration": 52,
    "start_time": "2024-10-14T14:37:36.294Z"
   },
   {
    "duration": 8,
    "start_time": "2024-10-14T14:37:36.348Z"
   },
   {
    "duration": 5,
    "start_time": "2024-10-14T14:37:36.358Z"
   },
   {
    "duration": 4,
    "start_time": "2024-10-14T14:37:36.366Z"
   },
   {
    "duration": 5,
    "start_time": "2024-10-14T14:37:36.372Z"
   },
   {
    "duration": 289,
    "start_time": "2024-10-14T14:37:36.379Z"
   },
   {
    "duration": 209,
    "start_time": "2024-10-14T14:37:36.671Z"
   },
   {
    "duration": 389,
    "start_time": "2024-10-14T14:37:36.884Z"
   },
   {
    "duration": 48,
    "start_time": "2024-10-14T14:37:37.275Z"
   },
   {
    "duration": 145,
    "start_time": "2024-10-14T14:37:37.325Z"
   },
   {
    "duration": 337,
    "start_time": "2024-10-14T14:37:37.472Z"
   },
   {
    "duration": 21,
    "start_time": "2024-10-14T14:37:37.812Z"
   },
   {
    "duration": 23,
    "start_time": "2024-10-14T14:37:37.835Z"
   },
   {
    "duration": 200,
    "start_time": "2024-10-14T14:37:37.860Z"
   },
   {
    "duration": 99,
    "start_time": "2024-10-14T14:37:38.062Z"
   },
   {
    "duration": 145,
    "start_time": "2024-10-14T14:37:38.164Z"
   },
   {
    "duration": 222,
    "start_time": "2024-10-14T14:37:38.311Z"
   },
   {
    "duration": 5,
    "start_time": "2024-10-14T14:37:38.535Z"
   },
   {
    "duration": 113,
    "start_time": "2024-10-14T14:37:38.542Z"
   },
   {
    "duration": 163,
    "start_time": "2024-10-14T14:37:38.656Z"
   },
   {
    "duration": 15,
    "start_time": "2024-10-14T14:37:38.822Z"
   },
   {
    "duration": 843,
    "start_time": "2024-10-14T14:40:29.826Z"
   },
   {
    "duration": 1417,
    "start_time": "2024-10-14T14:40:30.671Z"
   },
   {
    "duration": 483,
    "start_time": "2024-10-14T14:40:32.091Z"
   },
   {
    "duration": 45,
    "start_time": "2024-10-14T14:40:32.576Z"
   },
   {
    "duration": 8,
    "start_time": "2024-10-14T14:40:32.623Z"
   },
   {
    "duration": 6,
    "start_time": "2024-10-14T14:40:32.632Z"
   },
   {
    "duration": 6,
    "start_time": "2024-10-14T14:40:32.640Z"
   },
   {
    "duration": 4,
    "start_time": "2024-10-14T14:40:32.648Z"
   },
   {
    "duration": 323,
    "start_time": "2024-10-14T14:40:32.654Z"
   },
   {
    "duration": 209,
    "start_time": "2024-10-14T14:40:32.978Z"
   },
   {
    "duration": 414,
    "start_time": "2024-10-14T14:40:33.189Z"
   },
   {
    "duration": 39,
    "start_time": "2024-10-14T14:40:33.609Z"
   },
   {
    "duration": 161,
    "start_time": "2024-10-14T14:40:33.652Z"
   },
   {
    "duration": 402,
    "start_time": "2024-10-14T14:40:33.816Z"
   },
   {
    "duration": 13,
    "start_time": "2024-10-14T14:40:34.220Z"
   },
   {
    "duration": 22,
    "start_time": "2024-10-14T14:40:34.235Z"
   },
   {
    "duration": 178,
    "start_time": "2024-10-14T14:40:34.259Z"
   },
   {
    "duration": 105,
    "start_time": "2024-10-14T14:40:34.439Z"
   },
   {
    "duration": 147,
    "start_time": "2024-10-14T14:40:34.546Z"
   },
   {
    "duration": 236,
    "start_time": "2024-10-14T14:40:34.694Z"
   },
   {
    "duration": 4,
    "start_time": "2024-10-14T14:40:34.932Z"
   },
   {
    "duration": 128,
    "start_time": "2024-10-14T14:40:34.938Z"
   },
   {
    "duration": 191,
    "start_time": "2024-10-14T14:40:35.067Z"
   },
   {
    "duration": 18,
    "start_time": "2024-10-14T14:40:35.260Z"
   },
   {
    "duration": 832,
    "start_time": "2024-10-14T14:41:16.795Z"
   },
   {
    "duration": 1495,
    "start_time": "2024-10-14T14:41:17.630Z"
   },
   {
    "duration": 416,
    "start_time": "2024-10-14T14:41:19.127Z"
   },
   {
    "duration": 44,
    "start_time": "2024-10-14T14:41:19.545Z"
   },
   {
    "duration": 18,
    "start_time": "2024-10-14T14:41:19.591Z"
   },
   {
    "duration": 6,
    "start_time": "2024-10-14T14:41:19.611Z"
   },
   {
    "duration": 4,
    "start_time": "2024-10-14T14:41:19.620Z"
   },
   {
    "duration": 4,
    "start_time": "2024-10-14T14:41:19.626Z"
   },
   {
    "duration": 345,
    "start_time": "2024-10-14T14:41:19.632Z"
   },
   {
    "duration": 216,
    "start_time": "2024-10-14T14:41:19.979Z"
   },
   {
    "duration": 403,
    "start_time": "2024-10-14T14:41:20.198Z"
   },
   {
    "duration": 45,
    "start_time": "2024-10-14T14:41:20.603Z"
   },
   {
    "duration": 147,
    "start_time": "2024-10-14T14:41:20.651Z"
   },
   {
    "duration": 379,
    "start_time": "2024-10-14T14:41:20.802Z"
   },
   {
    "duration": 15,
    "start_time": "2024-10-14T14:41:21.183Z"
   },
   {
    "duration": 32,
    "start_time": "2024-10-14T14:41:21.199Z"
   },
   {
    "duration": 194,
    "start_time": "2024-10-14T14:41:21.233Z"
   },
   {
    "duration": 97,
    "start_time": "2024-10-14T14:41:21.429Z"
   },
   {
    "duration": 148,
    "start_time": "2024-10-14T14:41:21.528Z"
   },
   {
    "duration": 223,
    "start_time": "2024-10-14T14:41:21.679Z"
   },
   {
    "duration": 6,
    "start_time": "2024-10-14T14:41:21.904Z"
   },
   {
    "duration": 142,
    "start_time": "2024-10-14T14:41:21.912Z"
   },
   {
    "duration": 180,
    "start_time": "2024-10-14T14:41:22.056Z"
   },
   {
    "duration": 17,
    "start_time": "2024-10-14T14:41:22.238Z"
   },
   {
    "duration": 172,
    "start_time": "2024-10-14T14:44:09.482Z"
   },
   {
    "duration": 791,
    "start_time": "2024-10-14T14:44:21.893Z"
   },
   {
    "duration": 1382,
    "start_time": "2024-10-14T14:44:22.689Z"
   },
   {
    "duration": 483,
    "start_time": "2024-10-14T14:44:24.072Z"
   },
   {
    "duration": 53,
    "start_time": "2024-10-14T14:44:24.557Z"
   },
   {
    "duration": 7,
    "start_time": "2024-10-14T14:44:24.613Z"
   },
   {
    "duration": 6,
    "start_time": "2024-10-14T14:44:24.622Z"
   },
   {
    "duration": 5,
    "start_time": "2024-10-14T14:44:24.629Z"
   },
   {
    "duration": 4,
    "start_time": "2024-10-14T14:44:24.636Z"
   },
   {
    "duration": 356,
    "start_time": "2024-10-14T14:44:24.641Z"
   },
   {
    "duration": 222,
    "start_time": "2024-10-14T14:44:24.999Z"
   },
   {
    "duration": 427,
    "start_time": "2024-10-14T14:44:25.223Z"
   },
   {
    "duration": 98,
    "start_time": "2024-10-14T14:44:25.652Z"
   },
   {
    "duration": 160,
    "start_time": "2024-10-14T14:44:25.752Z"
   },
   {
    "duration": 346,
    "start_time": "2024-10-14T14:44:25.916Z"
   },
   {
    "duration": 12,
    "start_time": "2024-10-14T14:44:26.266Z"
   },
   {
    "duration": 35,
    "start_time": "2024-10-14T14:44:26.279Z"
   },
   {
    "duration": 167,
    "start_time": "2024-10-14T14:44:26.316Z"
   },
   {
    "duration": 127,
    "start_time": "2024-10-14T14:44:26.485Z"
   },
   {
    "duration": 147,
    "start_time": "2024-10-14T14:44:26.616Z"
   },
   {
    "duration": 244,
    "start_time": "2024-10-14T14:44:26.765Z"
   },
   {
    "duration": 5,
    "start_time": "2024-10-14T14:44:27.010Z"
   },
   {
    "duration": 122,
    "start_time": "2024-10-14T14:44:27.017Z"
   },
   {
    "duration": 226,
    "start_time": "2024-10-14T14:44:27.140Z"
   },
   {
    "duration": 18,
    "start_time": "2024-10-14T14:44:27.368Z"
   },
   {
    "duration": 4,
    "start_time": "2024-10-14T14:45:30.014Z"
   },
   {
    "duration": 778,
    "start_time": "2024-10-14T14:45:42.187Z"
   },
   {
    "duration": 1525,
    "start_time": "2024-10-14T14:45:42.968Z"
   },
   {
    "duration": 516,
    "start_time": "2024-10-14T14:45:44.495Z"
   },
   {
    "duration": 54,
    "start_time": "2024-10-14T14:45:45.012Z"
   },
   {
    "duration": 7,
    "start_time": "2024-10-14T14:45:45.069Z"
   },
   {
    "duration": 7,
    "start_time": "2024-10-14T14:45:45.077Z"
   },
   {
    "duration": 5,
    "start_time": "2024-10-14T14:45:45.108Z"
   },
   {
    "duration": 5,
    "start_time": "2024-10-14T14:45:45.115Z"
   },
   {
    "duration": 362,
    "start_time": "2024-10-14T14:45:45.122Z"
   },
   {
    "duration": 237,
    "start_time": "2024-10-14T14:45:45.485Z"
   },
   {
    "duration": 406,
    "start_time": "2024-10-14T14:45:45.725Z"
   },
   {
    "duration": 42,
    "start_time": "2024-10-14T14:45:46.133Z"
   },
   {
    "duration": 152,
    "start_time": "2024-10-14T14:45:46.177Z"
   },
   {
    "duration": 403,
    "start_time": "2024-10-14T14:45:46.333Z"
   },
   {
    "duration": 12,
    "start_time": "2024-10-14T14:45:46.738Z"
   },
   {
    "duration": 23,
    "start_time": "2024-10-14T14:45:46.752Z"
   },
   {
    "duration": 169,
    "start_time": "2024-10-14T14:45:46.778Z"
   },
   {
    "duration": 100,
    "start_time": "2024-10-14T14:45:46.949Z"
   },
   {
    "duration": 162,
    "start_time": "2024-10-14T14:45:47.051Z"
   },
   {
    "duration": 254,
    "start_time": "2024-10-14T14:45:47.217Z"
   },
   {
    "duration": 5,
    "start_time": "2024-10-14T14:45:47.473Z"
   },
   {
    "duration": 121,
    "start_time": "2024-10-14T14:45:47.480Z"
   },
   {
    "duration": 188,
    "start_time": "2024-10-14T14:45:47.609Z"
   },
   {
    "duration": 23,
    "start_time": "2024-10-14T14:45:47.799Z"
   },
   {
    "duration": 3,
    "start_time": "2024-10-14T14:45:47.824Z"
   },
   {
    "duration": 715,
    "start_time": "2024-10-14T14:55:44.767Z"
   },
   {
    "duration": 14,
    "start_time": "2024-10-14T14:55:57.025Z"
   },
   {
    "duration": 321,
    "start_time": "2024-10-14T15:45:55.754Z"
   },
   {
    "duration": 195,
    "start_time": "2024-10-14T15:46:10.753Z"
   },
   {
    "duration": 16,
    "start_time": "2024-10-14T15:49:09.274Z"
   },
   {
    "duration": 8,
    "start_time": "2024-10-14T15:49:18.753Z"
   },
   {
    "duration": 5,
    "start_time": "2024-10-14T15:49:34.958Z"
   },
   {
    "duration": 205,
    "start_time": "2024-10-14T16:07:02.682Z"
   },
   {
    "duration": 3,
    "start_time": "2024-10-14T16:31:46.334Z"
   },
   {
    "duration": 5,
    "start_time": "2024-10-14T16:31:59.936Z"
   },
   {
    "duration": 6,
    "start_time": "2024-10-14T16:32:03.914Z"
   },
   {
    "duration": 6,
    "start_time": "2024-10-14T16:32:17.821Z"
   },
   {
    "duration": 6,
    "start_time": "2024-10-14T17:01:55.165Z"
   },
   {
    "duration": 17,
    "start_time": "2024-10-14T17:02:21.455Z"
   },
   {
    "duration": 8,
    "start_time": "2024-10-14T17:02:50.290Z"
   },
   {
    "duration": 3,
    "start_time": "2024-10-14T17:07:22.906Z"
   },
   {
    "duration": 187,
    "start_time": "2024-10-14T17:24:19.301Z"
   },
   {
    "duration": 7,
    "start_time": "2024-10-14T17:26:27.952Z"
   },
   {
    "duration": 6,
    "start_time": "2024-10-14T17:27:23.438Z"
   },
   {
    "duration": 9,
    "start_time": "2024-10-14T17:28:08.178Z"
   },
   {
    "duration": 8,
    "start_time": "2024-10-14T17:30:20.361Z"
   },
   {
    "duration": 14,
    "start_time": "2024-10-14T17:30:42.975Z"
   },
   {
    "duration": 212,
    "start_time": "2024-10-14T17:30:52.185Z"
   },
   {
    "duration": 10,
    "start_time": "2024-10-14T17:30:58.078Z"
   },
   {
    "duration": 9,
    "start_time": "2024-10-14T17:31:10.218Z"
   },
   {
    "duration": 5,
    "start_time": "2024-10-14T17:31:34.997Z"
   },
   {
    "duration": 5,
    "start_time": "2024-10-14T17:31:52.654Z"
   },
   {
    "duration": 6,
    "start_time": "2024-10-14T17:32:39.246Z"
   },
   {
    "duration": 7,
    "start_time": "2024-10-14T17:37:05.387Z"
   },
   {
    "duration": 8,
    "start_time": "2024-10-14T17:38:49.009Z"
   },
   {
    "duration": 14,
    "start_time": "2024-10-14T17:45:57.667Z"
   },
   {
    "duration": 14,
    "start_time": "2024-10-14T17:50:54.692Z"
   },
   {
    "duration": 15,
    "start_time": "2024-10-14T17:52:01.990Z"
   },
   {
    "duration": 33,
    "start_time": "2024-10-14T18:02:30.422Z"
   },
   {
    "duration": 15,
    "start_time": "2024-10-14T18:03:56.272Z"
   },
   {
    "duration": 26,
    "start_time": "2024-10-14T18:04:03.591Z"
   },
   {
    "duration": 4,
    "start_time": "2024-10-14T18:05:21.735Z"
   },
   {
    "duration": 3,
    "start_time": "2024-10-14T18:05:27.416Z"
   },
   {
    "duration": 3,
    "start_time": "2024-10-14T18:05:33.022Z"
   },
   {
    "duration": 27,
    "start_time": "2024-10-14T18:06:17.305Z"
   },
   {
    "duration": 3,
    "start_time": "2024-10-14T18:07:37.987Z"
   },
   {
    "duration": 7,
    "start_time": "2024-10-14T18:08:00.526Z"
   },
   {
    "duration": 21,
    "start_time": "2024-10-14T18:08:16.918Z"
   },
   {
    "duration": 14,
    "start_time": "2024-10-14T18:08:31.516Z"
   },
   {
    "duration": 17,
    "start_time": "2024-10-14T18:08:57.493Z"
   },
   {
    "duration": 19,
    "start_time": "2024-10-14T18:09:17.513Z"
   },
   {
    "duration": 12,
    "start_time": "2024-10-14T18:14:14.956Z"
   },
   {
    "duration": 137,
    "start_time": "2024-10-14T18:15:58.215Z"
   },
   {
    "duration": 143,
    "start_time": "2024-10-14T18:16:32.077Z"
   },
   {
    "duration": 12,
    "start_time": "2024-10-14T18:17:31.315Z"
   },
   {
    "duration": 196,
    "start_time": "2024-10-14T18:17:39.652Z"
   },
   {
    "duration": 3,
    "start_time": "2024-10-14T18:17:45.719Z"
   },
   {
    "duration": 1208,
    "start_time": "2024-10-14T18:17:45.726Z"
   },
   {
    "duration": 491,
    "start_time": "2024-10-14T18:17:46.937Z"
   },
   {
    "duration": 39,
    "start_time": "2024-10-14T18:17:47.429Z"
   },
   {
    "duration": 7,
    "start_time": "2024-10-14T18:17:47.470Z"
   },
   {
    "duration": 5,
    "start_time": "2024-10-14T18:17:47.479Z"
   },
   {
    "duration": 26,
    "start_time": "2024-10-14T18:17:47.485Z"
   },
   {
    "duration": 5,
    "start_time": "2024-10-14T18:17:47.513Z"
   },
   {
    "duration": 291,
    "start_time": "2024-10-14T18:17:47.520Z"
   },
   {
    "duration": 215,
    "start_time": "2024-10-14T18:17:47.813Z"
   },
   {
    "duration": 344,
    "start_time": "2024-10-14T18:17:48.030Z"
   },
   {
    "duration": 46,
    "start_time": "2024-10-14T18:17:48.376Z"
   },
   {
    "duration": 117,
    "start_time": "2024-10-14T18:17:48.424Z"
   },
   {
    "duration": 313,
    "start_time": "2024-10-14T18:17:48.543Z"
   },
   {
    "duration": 11,
    "start_time": "2024-10-14T18:17:48.861Z"
   },
   {
    "duration": 35,
    "start_time": "2024-10-14T18:17:48.874Z"
   },
   {
    "duration": 157,
    "start_time": "2024-10-14T18:17:48.912Z"
   },
   {
    "duration": 106,
    "start_time": "2024-10-14T18:17:49.071Z"
   },
   {
    "duration": 151,
    "start_time": "2024-10-14T18:17:49.179Z"
   },
   {
    "duration": 205,
    "start_time": "2024-10-14T18:17:49.334Z"
   },
   {
    "duration": 115,
    "start_time": "2024-10-14T18:17:49.541Z"
   },
   {
    "duration": 164,
    "start_time": "2024-10-14T18:17:49.658Z"
   },
   {
    "duration": 14,
    "start_time": "2024-10-14T18:17:49.824Z"
   },
   {
    "duration": 12,
    "start_time": "2024-10-14T18:17:49.840Z"
   },
   {
    "duration": 235,
    "start_time": "2024-10-14T18:17:49.854Z"
   },
   {
    "duration": 6,
    "start_time": "2024-10-14T18:17:50.090Z"
   },
   {
    "duration": 9,
    "start_time": "2024-10-14T18:17:50.109Z"
   },
   {
    "duration": 6,
    "start_time": "2024-10-14T18:17:50.120Z"
   },
   {
    "duration": 15,
    "start_time": "2024-10-14T18:17:50.128Z"
   },
   {
    "duration": 4,
    "start_time": "2024-10-14T18:17:50.144Z"
   },
   {
    "duration": 8,
    "start_time": "2024-10-14T18:17:50.150Z"
   },
   {
    "duration": 52,
    "start_time": "2024-10-14T18:17:50.160Z"
   },
   {
    "duration": 19,
    "start_time": "2024-10-14T18:24:29.025Z"
   },
   {
    "duration": 108,
    "start_time": "2024-10-14T18:26:47.409Z"
   },
   {
    "duration": 108,
    "start_time": "2024-10-14T18:26:54.743Z"
   },
   {
    "duration": 106,
    "start_time": "2024-10-14T18:27:18.747Z"
   },
   {
    "duration": 109,
    "start_time": "2024-10-14T18:27:25.026Z"
   },
   {
    "duration": 3,
    "start_time": "2024-10-14T18:27:34.407Z"
   },
   {
    "duration": 1310,
    "start_time": "2024-10-14T18:27:34.412Z"
   },
   {
    "duration": 485,
    "start_time": "2024-10-14T18:27:35.724Z"
   },
   {
    "duration": 45,
    "start_time": "2024-10-14T18:27:36.211Z"
   },
   {
    "duration": 7,
    "start_time": "2024-10-14T18:27:36.259Z"
   },
   {
    "duration": 6,
    "start_time": "2024-10-14T18:27:36.267Z"
   },
   {
    "duration": 5,
    "start_time": "2024-10-14T18:27:36.274Z"
   },
   {
    "duration": 31,
    "start_time": "2024-10-14T18:27:36.281Z"
   },
   {
    "duration": 279,
    "start_time": "2024-10-14T18:27:36.313Z"
   },
   {
    "duration": 202,
    "start_time": "2024-10-14T18:27:36.594Z"
   },
   {
    "duration": 347,
    "start_time": "2024-10-14T18:27:36.798Z"
   },
   {
    "duration": 164,
    "start_time": "2024-10-14T18:27:37.147Z"
   },
   {
    "duration": 129,
    "start_time": "2024-10-14T18:27:37.313Z"
   },
   {
    "duration": 326,
    "start_time": "2024-10-14T18:27:37.446Z"
   },
   {
    "duration": 13,
    "start_time": "2024-10-14T18:27:37.773Z"
   },
   {
    "duration": 35,
    "start_time": "2024-10-14T18:27:37.788Z"
   },
   {
    "duration": 155,
    "start_time": "2024-10-14T18:27:37.825Z"
   },
   {
    "duration": 110,
    "start_time": "2024-10-14T18:27:37.982Z"
   },
   {
    "duration": 150,
    "start_time": "2024-10-14T18:27:38.093Z"
   },
   {
    "duration": 202,
    "start_time": "2024-10-14T18:27:38.245Z"
   },
   {
    "duration": 109,
    "start_time": "2024-10-14T18:27:38.449Z"
   },
   {
    "duration": 152,
    "start_time": "2024-10-14T18:27:38.560Z"
   },
   {
    "duration": 14,
    "start_time": "2024-10-14T18:27:38.713Z"
   },
   {
    "duration": 10,
    "start_time": "2024-10-14T18:27:38.729Z"
   },
   {
    "duration": 176,
    "start_time": "2024-10-14T18:27:38.741Z"
   },
   {
    "duration": 8,
    "start_time": "2024-10-14T18:27:38.919Z"
   },
   {
    "duration": 9,
    "start_time": "2024-10-14T18:27:38.929Z"
   },
   {
    "duration": 6,
    "start_time": "2024-10-14T18:27:38.939Z"
   },
   {
    "duration": 15,
    "start_time": "2024-10-14T18:27:38.947Z"
   },
   {
    "duration": 4,
    "start_time": "2024-10-14T18:27:38.964Z"
   },
   {
    "duration": 40,
    "start_time": "2024-10-14T18:27:38.970Z"
   },
   {
    "duration": 16,
    "start_time": "2024-10-14T18:27:39.013Z"
   },
   {
    "duration": 102,
    "start_time": "2024-10-14T18:28:11.716Z"
   },
   {
    "duration": 108,
    "start_time": "2024-10-14T18:29:06.649Z"
   },
   {
    "duration": 111,
    "start_time": "2024-10-14T18:30:11.886Z"
   },
   {
    "duration": 194,
    "start_time": "2024-10-14T18:30:25.861Z"
   },
   {
    "duration": 162,
    "start_time": "2024-10-14T18:30:31.492Z"
   },
   {
    "duration": 15,
    "start_time": "2024-10-14T18:30:43.039Z"
   },
   {
    "duration": 105,
    "start_time": "2024-10-14T18:30:53.730Z"
   },
   {
    "duration": 33,
    "start_time": "2024-10-14T18:31:19.253Z"
   },
   {
    "duration": 12,
    "start_time": "2024-10-14T18:32:16.758Z"
   },
   {
    "duration": 7,
    "start_time": "2024-10-14T18:33:10.476Z"
   },
   {
    "duration": 8,
    "start_time": "2024-10-14T18:33:58.630Z"
   },
   {
    "duration": 173,
    "start_time": "2024-10-14T18:34:30.148Z"
   },
   {
    "duration": 36,
    "start_time": "2024-10-14T18:35:00.975Z"
   },
   {
    "duration": 175,
    "start_time": "2024-10-14T18:35:13.870Z"
   },
   {
    "duration": 162,
    "start_time": "2024-10-14T18:35:25.966Z"
   },
   {
    "duration": 8,
    "start_time": "2024-10-14T18:35:31.664Z"
   },
   {
    "duration": 3,
    "start_time": "2024-10-14T18:35:46.227Z"
   },
   {
    "duration": 1312,
    "start_time": "2024-10-14T18:35:46.232Z"
   },
   {
    "duration": 491,
    "start_time": "2024-10-14T18:35:47.545Z"
   },
   {
    "duration": 40,
    "start_time": "2024-10-14T18:35:48.038Z"
   },
   {
    "duration": 7,
    "start_time": "2024-10-14T18:35:48.081Z"
   },
   {
    "duration": 22,
    "start_time": "2024-10-14T18:35:48.089Z"
   },
   {
    "duration": 5,
    "start_time": "2024-10-14T18:35:48.113Z"
   },
   {
    "duration": 4,
    "start_time": "2024-10-14T18:35:48.120Z"
   },
   {
    "duration": 281,
    "start_time": "2024-10-14T18:35:48.126Z"
   },
   {
    "duration": 194,
    "start_time": "2024-10-14T18:35:48.408Z"
   },
   {
    "duration": 345,
    "start_time": "2024-10-14T18:35:48.603Z"
   },
   {
    "duration": 39,
    "start_time": "2024-10-14T18:35:48.949Z"
   },
   {
    "duration": 124,
    "start_time": "2024-10-14T18:35:48.991Z"
   },
   {
    "duration": 323,
    "start_time": "2024-10-14T18:35:49.118Z"
   },
   {
    "duration": 14,
    "start_time": "2024-10-14T18:35:49.443Z"
   },
   {
    "duration": 16,
    "start_time": "2024-10-14T18:35:49.460Z"
   },
   {
    "duration": 161,
    "start_time": "2024-10-14T18:35:49.478Z"
   },
   {
    "duration": 106,
    "start_time": "2024-10-14T18:35:49.640Z"
   },
   {
    "duration": 173,
    "start_time": "2024-10-14T18:35:49.747Z"
   },
   {
    "duration": 208,
    "start_time": "2024-10-14T18:35:49.922Z"
   },
   {
    "duration": 119,
    "start_time": "2024-10-14T18:35:50.133Z"
   },
   {
    "duration": 160,
    "start_time": "2024-10-14T18:35:50.254Z"
   },
   {
    "duration": 14,
    "start_time": "2024-10-14T18:35:50.415Z"
   },
   {
    "duration": 8,
    "start_time": "2024-10-14T18:35:50.431Z"
   },
   {
    "duration": 176,
    "start_time": "2024-10-14T18:35:50.441Z"
   },
   {
    "duration": 7,
    "start_time": "2024-10-14T18:35:50.619Z"
   },
   {
    "duration": 7,
    "start_time": "2024-10-14T18:35:50.627Z"
   },
   {
    "duration": 5,
    "start_time": "2024-10-14T18:35:50.636Z"
   },
   {
    "duration": 13,
    "start_time": "2024-10-14T18:35:50.643Z"
   },
   {
    "duration": 3,
    "start_time": "2024-10-14T18:35:50.658Z"
   },
   {
    "duration": 45,
    "start_time": "2024-10-14T18:35:50.664Z"
   },
   {
    "duration": 17,
    "start_time": "2024-10-14T18:35:50.711Z"
   },
   {
    "duration": 15,
    "start_time": "2024-10-14T18:54:19.055Z"
   },
   {
    "duration": 16,
    "start_time": "2024-10-14T18:59:06.442Z"
   },
   {
    "duration": 15,
    "start_time": "2024-10-14T18:59:51.182Z"
   },
   {
    "duration": 179,
    "start_time": "2024-10-14T19:06:25.799Z"
   },
   {
    "duration": 877,
    "start_time": "2024-10-14T19:06:31.937Z"
   },
   {
    "duration": 1519,
    "start_time": "2024-10-14T19:06:32.818Z"
   },
   {
    "duration": 489,
    "start_time": "2024-10-14T19:06:34.339Z"
   },
   {
    "duration": 45,
    "start_time": "2024-10-14T19:06:34.830Z"
   },
   {
    "duration": 7,
    "start_time": "2024-10-14T19:06:34.877Z"
   },
   {
    "duration": 6,
    "start_time": "2024-10-14T19:06:34.885Z"
   },
   {
    "duration": 5,
    "start_time": "2024-10-14T19:06:34.909Z"
   },
   {
    "duration": 5,
    "start_time": "2024-10-14T19:06:34.915Z"
   },
   {
    "duration": 320,
    "start_time": "2024-10-14T19:06:34.921Z"
   },
   {
    "duration": 212,
    "start_time": "2024-10-14T19:06:35.243Z"
   },
   {
    "duration": 413,
    "start_time": "2024-10-14T19:06:35.457Z"
   },
   {
    "duration": 107,
    "start_time": "2024-10-14T19:06:35.872Z"
   },
   {
    "duration": 142,
    "start_time": "2024-10-14T19:06:35.981Z"
   },
   {
    "duration": 346,
    "start_time": "2024-10-14T19:06:36.128Z"
   },
   {
    "duration": 12,
    "start_time": "2024-10-14T19:06:36.476Z"
   },
   {
    "duration": 30,
    "start_time": "2024-10-14T19:06:36.490Z"
   },
   {
    "duration": 161,
    "start_time": "2024-10-14T19:06:36.522Z"
   },
   {
    "duration": 97,
    "start_time": "2024-10-14T19:06:36.685Z"
   },
   {
    "duration": 146,
    "start_time": "2024-10-14T19:06:36.783Z"
   },
   {
    "duration": 201,
    "start_time": "2024-10-14T19:06:36.931Z"
   },
   {
    "duration": 130,
    "start_time": "2024-10-14T19:06:37.135Z"
   },
   {
    "duration": 187,
    "start_time": "2024-10-14T19:06:37.267Z"
   },
   {
    "duration": 13,
    "start_time": "2024-10-14T19:06:37.456Z"
   },
   {
    "duration": 9,
    "start_time": "2024-10-14T19:06:37.470Z"
   },
   {
    "duration": 220,
    "start_time": "2024-10-14T19:06:37.480Z"
   },
   {
    "duration": 15,
    "start_time": "2024-10-14T19:06:37.701Z"
   },
   {
    "duration": 11,
    "start_time": "2024-10-14T19:06:37.717Z"
   },
   {
    "duration": 7,
    "start_time": "2024-10-14T19:06:37.730Z"
   },
   {
    "duration": 15,
    "start_time": "2024-10-14T19:06:37.739Z"
   },
   {
    "duration": 3,
    "start_time": "2024-10-14T19:06:37.755Z"
   },
   {
    "duration": 6,
    "start_time": "2024-10-14T19:06:37.760Z"
   },
   {
    "duration": 45,
    "start_time": "2024-10-14T19:06:37.768Z"
   },
   {
    "duration": 2,
    "start_time": "2024-10-14T19:06:37.815Z"
   },
   {
    "duration": 814,
    "start_time": "2024-10-14T19:08:34.714Z"
   },
   {
    "duration": 1447,
    "start_time": "2024-10-14T19:08:35.530Z"
   },
   {
    "duration": 511,
    "start_time": "2024-10-14T19:08:36.979Z"
   },
   {
    "duration": 52,
    "start_time": "2024-10-14T19:08:37.491Z"
   },
   {
    "duration": 7,
    "start_time": "2024-10-14T19:08:37.546Z"
   },
   {
    "duration": 6,
    "start_time": "2024-10-14T19:08:37.554Z"
   },
   {
    "duration": 7,
    "start_time": "2024-10-14T19:08:37.562Z"
   },
   {
    "duration": 5,
    "start_time": "2024-10-14T19:08:37.571Z"
   },
   {
    "duration": 337,
    "start_time": "2024-10-14T19:08:37.578Z"
   },
   {
    "duration": 210,
    "start_time": "2024-10-14T19:08:37.917Z"
   },
   {
    "duration": 391,
    "start_time": "2024-10-14T19:08:38.129Z"
   },
   {
    "duration": 39,
    "start_time": "2024-10-14T19:08:38.521Z"
   },
   {
    "duration": 147,
    "start_time": "2024-10-14T19:08:38.562Z"
   },
   {
    "duration": 397,
    "start_time": "2024-10-14T19:08:38.712Z"
   },
   {
    "duration": 12,
    "start_time": "2024-10-14T19:08:39.111Z"
   },
   {
    "duration": 23,
    "start_time": "2024-10-14T19:08:39.125Z"
   },
   {
    "duration": 174,
    "start_time": "2024-10-14T19:08:39.150Z"
   },
   {
    "duration": 96,
    "start_time": "2024-10-14T19:08:39.326Z"
   },
   {
    "duration": 146,
    "start_time": "2024-10-14T19:08:39.424Z"
   },
   {
    "duration": 214,
    "start_time": "2024-10-14T19:08:39.572Z"
   },
   {
    "duration": 109,
    "start_time": "2024-10-14T19:08:39.788Z"
   },
   {
    "duration": 180,
    "start_time": "2024-10-14T19:08:39.900Z"
   },
   {
    "duration": 14,
    "start_time": "2024-10-14T19:08:40.082Z"
   },
   {
    "duration": 8,
    "start_time": "2024-10-14T19:08:40.109Z"
   },
   {
    "duration": 211,
    "start_time": "2024-10-14T19:08:40.119Z"
   },
   {
    "duration": 7,
    "start_time": "2024-10-14T19:08:40.331Z"
   },
   {
    "duration": 8,
    "start_time": "2024-10-14T19:08:40.340Z"
   },
   {
    "duration": 6,
    "start_time": "2024-10-14T19:08:40.350Z"
   },
   {
    "duration": 13,
    "start_time": "2024-10-14T19:08:40.358Z"
   },
   {
    "duration": 4,
    "start_time": "2024-10-14T19:08:40.372Z"
   },
   {
    "duration": 7,
    "start_time": "2024-10-14T19:08:40.410Z"
   },
   {
    "duration": 12,
    "start_time": "2024-10-14T19:08:40.419Z"
   },
   {
    "duration": 2,
    "start_time": "2024-10-14T19:08:40.433Z"
   },
   {
    "duration": 3,
    "start_time": "2024-10-14T19:08:40.437Z"
   },
   {
    "duration": 3,
    "start_time": "2024-10-14T19:28:46.553Z"
   },
   {
    "duration": 1483,
    "start_time": "2024-10-14T19:28:46.559Z"
   },
   {
    "duration": 535,
    "start_time": "2024-10-14T19:28:48.044Z"
   },
   {
    "duration": 90,
    "start_time": "2024-10-14T19:28:48.581Z"
   },
   {
    "duration": 11,
    "start_time": "2024-10-14T19:28:48.678Z"
   },
   {
    "duration": 7,
    "start_time": "2024-10-14T19:28:48.692Z"
   },
   {
    "duration": 11,
    "start_time": "2024-10-14T19:28:48.712Z"
   },
   {
    "duration": 10,
    "start_time": "2024-10-14T19:28:48.727Z"
   },
   {
    "duration": 383,
    "start_time": "2024-10-14T19:28:48.741Z"
   },
   {
    "duration": 229,
    "start_time": "2024-10-14T19:28:49.126Z"
   },
   {
    "duration": 360,
    "start_time": "2024-10-14T19:28:49.360Z"
   },
   {
    "duration": 53,
    "start_time": "2024-10-14T19:28:49.723Z"
   },
   {
    "duration": 154,
    "start_time": "2024-10-14T19:28:49.778Z"
   },
   {
    "duration": 359,
    "start_time": "2024-10-14T19:28:49.934Z"
   },
   {
    "duration": 22,
    "start_time": "2024-10-14T19:28:50.295Z"
   },
   {
    "duration": 19,
    "start_time": "2024-10-14T19:28:50.319Z"
   },
   {
    "duration": 168,
    "start_time": "2024-10-14T19:28:50.341Z"
   },
   {
    "duration": 117,
    "start_time": "2024-10-14T19:28:50.511Z"
   },
   {
    "duration": 152,
    "start_time": "2024-10-14T19:28:50.630Z"
   },
   {
    "duration": 265,
    "start_time": "2024-10-14T19:28:50.784Z"
   },
   {
    "duration": 114,
    "start_time": "2024-10-14T19:28:51.051Z"
   },
   {
    "duration": 158,
    "start_time": "2024-10-14T19:28:51.167Z"
   },
   {
    "duration": 14,
    "start_time": "2024-10-14T19:28:51.327Z"
   },
   {
    "duration": 8,
    "start_time": "2024-10-14T19:28:51.343Z"
   },
   {
    "duration": 237,
    "start_time": "2024-10-14T19:28:51.352Z"
   },
   {
    "duration": 6,
    "start_time": "2024-10-14T19:28:51.591Z"
   },
   {
    "duration": 8,
    "start_time": "2024-10-14T19:28:51.610Z"
   },
   {
    "duration": 5,
    "start_time": "2024-10-14T19:28:51.620Z"
   },
   {
    "duration": 14,
    "start_time": "2024-10-14T19:28:51.629Z"
   },
   {
    "duration": 3,
    "start_time": "2024-10-14T19:28:51.646Z"
   },
   {
    "duration": 8,
    "start_time": "2024-10-14T19:28:51.651Z"
   },
   {
    "duration": 14,
    "start_time": "2024-10-14T19:28:51.660Z"
   },
   {
    "duration": 3,
    "start_time": "2024-10-14T19:28:51.709Z"
   },
   {
    "duration": 5,
    "start_time": "2024-10-14T19:28:51.714Z"
   },
   {
    "duration": 60,
    "start_time": "2024-10-14T19:29:24.434Z"
   },
   {
    "duration": 59,
    "start_time": "2024-10-14T19:31:21.849Z"
   },
   {
    "duration": 61,
    "start_time": "2024-10-14T19:31:32.211Z"
   },
   {
    "duration": 217,
    "start_time": "2024-10-14T19:36:53.523Z"
   },
   {
    "duration": 116,
    "start_time": "2024-10-14T19:38:14.190Z"
   },
   {
    "duration": 10,
    "start_time": "2024-10-14T19:39:30.783Z"
   },
   {
    "duration": 10,
    "start_time": "2024-10-14T19:39:42.177Z"
   },
   {
    "duration": 4,
    "start_time": "2024-10-14T19:39:54.249Z"
   },
   {
    "duration": 3,
    "start_time": "2024-10-14T19:40:21.803Z"
   },
   {
    "duration": 1255,
    "start_time": "2024-10-14T19:40:21.809Z"
   },
   {
    "duration": 464,
    "start_time": "2024-10-14T19:40:23.066Z"
   },
   {
    "duration": 41,
    "start_time": "2024-10-14T19:40:23.532Z"
   },
   {
    "duration": 7,
    "start_time": "2024-10-14T19:40:23.575Z"
   },
   {
    "duration": 6,
    "start_time": "2024-10-14T19:40:23.583Z"
   },
   {
    "duration": 23,
    "start_time": "2024-10-14T19:40:23.590Z"
   },
   {
    "duration": 5,
    "start_time": "2024-10-14T19:40:23.615Z"
   },
   {
    "duration": 291,
    "start_time": "2024-10-14T19:40:23.622Z"
   },
   {
    "duration": 201,
    "start_time": "2024-10-14T19:40:23.915Z"
   },
   {
    "duration": 347,
    "start_time": "2024-10-14T19:40:24.118Z"
   },
   {
    "duration": 46,
    "start_time": "2024-10-14T19:40:24.467Z"
   },
   {
    "duration": 121,
    "start_time": "2024-10-14T19:40:24.514Z"
   },
   {
    "duration": 351,
    "start_time": "2024-10-14T19:40:24.639Z"
   },
   {
    "duration": 17,
    "start_time": "2024-10-14T19:40:24.992Z"
   },
   {
    "duration": 17,
    "start_time": "2024-10-14T19:40:25.011Z"
   },
   {
    "duration": 156,
    "start_time": "2024-10-14T19:40:25.030Z"
   },
   {
    "duration": 108,
    "start_time": "2024-10-14T19:40:25.188Z"
   },
   {
    "duration": 152,
    "start_time": "2024-10-14T19:40:25.298Z"
   },
   {
    "duration": 203,
    "start_time": "2024-10-14T19:40:25.453Z"
   },
   {
    "duration": 115,
    "start_time": "2024-10-14T19:40:25.658Z"
   },
   {
    "duration": 153,
    "start_time": "2024-10-14T19:40:25.775Z"
   },
   {
    "duration": 14,
    "start_time": "2024-10-14T19:40:25.930Z"
   },
   {
    "duration": 8,
    "start_time": "2024-10-14T19:40:25.946Z"
   },
   {
    "duration": 252,
    "start_time": "2024-10-14T19:40:25.957Z"
   },
   {
    "duration": 6,
    "start_time": "2024-10-14T19:40:26.211Z"
   },
   {
    "duration": 8,
    "start_time": "2024-10-14T19:40:26.220Z"
   },
   {
    "duration": 5,
    "start_time": "2024-10-14T19:40:26.230Z"
   },
   {
    "duration": 14,
    "start_time": "2024-10-14T19:40:26.237Z"
   },
   {
    "duration": 3,
    "start_time": "2024-10-14T19:40:26.253Z"
   },
   {
    "duration": 7,
    "start_time": "2024-10-14T19:40:26.258Z"
   },
   {
    "duration": 52,
    "start_time": "2024-10-14T19:40:26.266Z"
   },
   {
    "duration": 3,
    "start_time": "2024-10-14T19:40:26.319Z"
   },
   {
    "duration": 126,
    "start_time": "2024-10-14T19:40:26.324Z"
   },
   {
    "duration": 14,
    "start_time": "2024-10-14T19:43:37.336Z"
   },
   {
    "duration": 6,
    "start_time": "2024-10-14T19:44:16.407Z"
   },
   {
    "duration": 249,
    "start_time": "2024-10-14T19:45:11.067Z"
   },
   {
    "duration": 188,
    "start_time": "2024-10-14T19:45:20.018Z"
   },
   {
    "duration": 38,
    "start_time": "2024-10-14T19:45:28.511Z"
   },
   {
    "duration": 330,
    "start_time": "2024-10-14T19:45:44.792Z"
   },
   {
    "duration": 10,
    "start_time": "2024-10-14T19:46:05.578Z"
   },
   {
    "duration": 119,
    "start_time": "2024-10-14T19:47:30.882Z"
   },
   {
    "duration": 6,
    "start_time": "2024-10-14T19:48:08.408Z"
   },
   {
    "duration": 6,
    "start_time": "2024-10-14T19:48:20.982Z"
   },
   {
    "duration": 8,
    "start_time": "2024-10-14T19:49:17.398Z"
   },
   {
    "duration": 7,
    "start_time": "2024-10-14T19:49:25.591Z"
   },
   {
    "duration": 3,
    "start_time": "2024-10-14T19:49:46.273Z"
   },
   {
    "duration": 21,
    "start_time": "2024-10-14T19:51:39.741Z"
   },
   {
    "duration": 3,
    "start_time": "2024-10-14T19:51:39.946Z"
   },
   {
    "duration": 3,
    "start_time": "2024-10-14T19:54:16.473Z"
   },
   {
    "duration": 1317,
    "start_time": "2024-10-14T19:54:16.479Z"
   },
   {
    "duration": 449,
    "start_time": "2024-10-14T19:54:17.798Z"
   },
   {
    "duration": 38,
    "start_time": "2024-10-14T19:54:18.249Z"
   },
   {
    "duration": 20,
    "start_time": "2024-10-14T19:54:18.291Z"
   },
   {
    "duration": 6,
    "start_time": "2024-10-14T19:54:18.312Z"
   },
   {
    "duration": 6,
    "start_time": "2024-10-14T19:54:18.319Z"
   },
   {
    "duration": 5,
    "start_time": "2024-10-14T19:54:18.326Z"
   },
   {
    "duration": 276,
    "start_time": "2024-10-14T19:54:18.333Z"
   },
   {
    "duration": 195,
    "start_time": "2024-10-14T19:54:18.611Z"
   },
   {
    "duration": 345,
    "start_time": "2024-10-14T19:54:18.808Z"
   },
   {
    "duration": 38,
    "start_time": "2024-10-14T19:54:19.155Z"
   },
   {
    "duration": 128,
    "start_time": "2024-10-14T19:54:19.195Z"
   },
   {
    "duration": 322,
    "start_time": "2024-10-14T19:54:19.327Z"
   },
   {
    "duration": 13,
    "start_time": "2024-10-14T19:54:19.650Z"
   },
   {
    "duration": 19,
    "start_time": "2024-10-14T19:54:19.664Z"
   },
   {
    "duration": 169,
    "start_time": "2024-10-14T19:54:19.684Z"
   },
   {
    "duration": 102,
    "start_time": "2024-10-14T19:54:19.855Z"
   },
   {
    "duration": 153,
    "start_time": "2024-10-14T19:54:19.959Z"
   },
   {
    "duration": 269,
    "start_time": "2024-10-14T19:54:20.114Z"
   },
   {
    "duration": 110,
    "start_time": "2024-10-14T19:54:20.385Z"
   },
   {
    "duration": 159,
    "start_time": "2024-10-14T19:54:20.498Z"
   },
   {
    "duration": 16,
    "start_time": "2024-10-14T19:54:20.660Z"
   },
   {
    "duration": 10,
    "start_time": "2024-10-14T19:54:20.678Z"
   },
   {
    "duration": 186,
    "start_time": "2024-10-14T19:54:20.689Z"
   },
   {
    "duration": 7,
    "start_time": "2024-10-14T19:54:20.877Z"
   },
   {
    "duration": 8,
    "start_time": "2024-10-14T19:54:20.885Z"
   },
   {
    "duration": 16,
    "start_time": "2024-10-14T19:54:20.895Z"
   },
   {
    "duration": 13,
    "start_time": "2024-10-14T19:54:20.913Z"
   },
   {
    "duration": 3,
    "start_time": "2024-10-14T19:54:20.927Z"
   },
   {
    "duration": 6,
    "start_time": "2024-10-14T19:54:20.932Z"
   },
   {
    "duration": 13,
    "start_time": "2024-10-14T19:54:20.939Z"
   },
   {
    "duration": 2,
    "start_time": "2024-10-14T19:54:20.954Z"
   },
   {
    "duration": 6,
    "start_time": "2024-10-14T19:54:20.958Z"
   },
   {
    "duration": 20,
    "start_time": "2024-10-14T20:08:38.388Z"
   },
   {
    "duration": 9,
    "start_time": "2024-10-14T20:09:00.603Z"
   },
   {
    "duration": 4,
    "start_time": "2024-10-14T20:09:15.208Z"
   },
   {
    "duration": 1355,
    "start_time": "2024-10-14T20:09:15.214Z"
   },
   {
    "duration": 417,
    "start_time": "2024-10-14T20:09:16.571Z"
   },
   {
    "duration": 54,
    "start_time": "2024-10-14T20:09:16.991Z"
   },
   {
    "duration": 8,
    "start_time": "2024-10-14T20:09:17.047Z"
   },
   {
    "duration": 6,
    "start_time": "2024-10-14T20:09:17.056Z"
   },
   {
    "duration": 5,
    "start_time": "2024-10-14T20:09:17.064Z"
   },
   {
    "duration": 6,
    "start_time": "2024-10-14T20:09:17.070Z"
   },
   {
    "duration": 339,
    "start_time": "2024-10-14T20:09:17.079Z"
   },
   {
    "duration": 207,
    "start_time": "2024-10-14T20:09:17.420Z"
   },
   {
    "duration": 351,
    "start_time": "2024-10-14T20:09:17.629Z"
   },
   {
    "duration": 46,
    "start_time": "2024-10-14T20:09:17.982Z"
   },
   {
    "duration": 124,
    "start_time": "2024-10-14T20:09:18.030Z"
   },
   {
    "duration": 311,
    "start_time": "2024-10-14T20:09:18.156Z"
   },
   {
    "duration": 13,
    "start_time": "2024-10-14T20:09:18.468Z"
   },
   {
    "duration": 35,
    "start_time": "2024-10-14T20:09:18.482Z"
   },
   {
    "duration": 159,
    "start_time": "2024-10-14T20:09:18.518Z"
   },
   {
    "duration": 99,
    "start_time": "2024-10-14T20:09:18.679Z"
   },
   {
    "duration": 149,
    "start_time": "2024-10-14T20:09:18.779Z"
   },
   {
    "duration": 207,
    "start_time": "2024-10-14T20:09:18.930Z"
   },
   {
    "duration": 115,
    "start_time": "2024-10-14T20:09:19.139Z"
   },
   {
    "duration": 157,
    "start_time": "2024-10-14T20:09:19.256Z"
   },
   {
    "duration": 13,
    "start_time": "2024-10-14T20:09:19.415Z"
   },
   {
    "duration": 8,
    "start_time": "2024-10-14T20:09:19.431Z"
   },
   {
    "duration": 180,
    "start_time": "2024-10-14T20:09:19.441Z"
   },
   {
    "duration": 7,
    "start_time": "2024-10-14T20:09:19.623Z"
   },
   {
    "duration": 8,
    "start_time": "2024-10-14T20:09:19.632Z"
   },
   {
    "duration": 6,
    "start_time": "2024-10-14T20:09:19.641Z"
   },
   {
    "duration": 13,
    "start_time": "2024-10-14T20:09:19.648Z"
   },
   {
    "duration": 3,
    "start_time": "2024-10-14T20:09:19.663Z"
   },
   {
    "duration": 44,
    "start_time": "2024-10-14T20:09:19.667Z"
   },
   {
    "duration": 15,
    "start_time": "2024-10-14T20:09:19.714Z"
   },
   {
    "duration": 2,
    "start_time": "2024-10-14T20:09:19.731Z"
   },
   {
    "duration": 6,
    "start_time": "2024-10-14T20:09:19.735Z"
   },
   {
    "duration": 6,
    "start_time": "2024-10-14T20:10:05.986Z"
   },
   {
    "duration": 1673,
    "start_time": "2024-10-14T20:10:05.995Z"
   },
   {
    "duration": 481,
    "start_time": "2024-10-14T20:10:07.670Z"
   },
   {
    "duration": 77,
    "start_time": "2024-10-14T20:10:08.153Z"
   },
   {
    "duration": 8,
    "start_time": "2024-10-14T20:10:08.233Z"
   },
   {
    "duration": 4,
    "start_time": "2024-10-14T20:10:08.243Z"
   },
   {
    "duration": 4,
    "start_time": "2024-10-14T20:10:08.249Z"
   },
   {
    "duration": 5,
    "start_time": "2024-10-14T20:10:08.255Z"
   },
   {
    "duration": 385,
    "start_time": "2024-10-14T20:10:08.262Z"
   },
   {
    "duration": 196,
    "start_time": "2024-10-14T20:10:08.650Z"
   },
   {
    "duration": 350,
    "start_time": "2024-10-14T20:10:08.848Z"
   },
   {
    "duration": 42,
    "start_time": "2024-10-14T20:10:09.199Z"
   },
   {
    "duration": 130,
    "start_time": "2024-10-14T20:10:09.243Z"
   },
   {
    "duration": 407,
    "start_time": "2024-10-14T20:10:09.377Z"
   },
   {
    "duration": 22,
    "start_time": "2024-10-14T20:10:09.786Z"
   },
   {
    "duration": 18,
    "start_time": "2024-10-14T20:10:09.809Z"
   },
   {
    "duration": 151,
    "start_time": "2024-10-14T20:10:09.829Z"
   },
   {
    "duration": 104,
    "start_time": "2024-10-14T20:10:09.982Z"
   },
   {
    "duration": 149,
    "start_time": "2024-10-14T20:10:10.088Z"
   },
   {
    "duration": 212,
    "start_time": "2024-10-14T20:10:10.238Z"
   },
   {
    "duration": 125,
    "start_time": "2024-10-14T20:10:10.452Z"
   },
   {
    "duration": 157,
    "start_time": "2024-10-14T20:10:10.578Z"
   },
   {
    "duration": 14,
    "start_time": "2024-10-14T20:10:10.737Z"
   },
   {
    "duration": 10,
    "start_time": "2024-10-14T20:10:10.752Z"
   },
   {
    "duration": 185,
    "start_time": "2024-10-14T20:10:10.763Z"
   },
   {
    "duration": 6,
    "start_time": "2024-10-14T20:10:10.950Z"
   },
   {
    "duration": 8,
    "start_time": "2024-10-14T20:10:10.958Z"
   },
   {
    "duration": 6,
    "start_time": "2024-10-14T20:10:10.968Z"
   },
   {
    "duration": 43,
    "start_time": "2024-10-14T20:10:10.976Z"
   },
   {
    "duration": 4,
    "start_time": "2024-10-14T20:10:11.021Z"
   },
   {
    "duration": 8,
    "start_time": "2024-10-14T20:10:11.028Z"
   },
   {
    "duration": 13,
    "start_time": "2024-10-14T20:10:11.038Z"
   },
   {
    "duration": 2,
    "start_time": "2024-10-14T20:10:11.053Z"
   },
   {
    "duration": 5,
    "start_time": "2024-10-14T20:10:11.057Z"
   },
   {
    "duration": 3,
    "start_time": "2024-10-14T20:10:48.889Z"
   },
   {
    "duration": 1254,
    "start_time": "2024-10-14T20:10:49.667Z"
   },
   {
    "duration": 467,
    "start_time": "2024-10-14T20:10:51.331Z"
   },
   {
    "duration": 46,
    "start_time": "2024-10-14T20:10:59.827Z"
   },
   {
    "duration": 8,
    "start_time": "2024-10-14T20:11:00.557Z"
   },
   {
    "duration": 6,
    "start_time": "2024-10-14T20:11:04.137Z"
   },
   {
    "duration": 5,
    "start_time": "2024-10-14T20:11:07.163Z"
   },
   {
    "duration": 6,
    "start_time": "2024-10-14T20:11:08.617Z"
   },
   {
    "duration": 290,
    "start_time": "2024-10-14T20:11:15.200Z"
   },
   {
    "duration": 238,
    "start_time": "2024-10-14T20:11:20.772Z"
   },
   {
    "duration": 339,
    "start_time": "2024-10-14T20:11:31.216Z"
   },
   {
    "duration": 45,
    "start_time": "2024-10-14T20:12:05.687Z"
   },
   {
    "duration": 115,
    "start_time": "2024-10-14T20:12:21.649Z"
   },
   {
    "duration": 342,
    "start_time": "2024-10-14T20:12:29.842Z"
   },
   {
    "duration": 14,
    "start_time": "2024-10-14T20:12:37.546Z"
   },
   {
    "duration": 18,
    "start_time": "2024-10-14T20:12:50.571Z"
   },
   {
    "duration": 125,
    "start_time": "2024-10-14T20:13:01.078Z"
   },
   {
    "duration": 197,
    "start_time": "2024-10-14T20:13:22.598Z"
   },
   {
    "duration": 171,
    "start_time": "2024-10-14T20:13:33.706Z"
   },
   {
    "duration": 121,
    "start_time": "2024-10-14T20:16:07.564Z"
   },
   {
    "duration": 112,
    "start_time": "2024-10-14T20:16:15.768Z"
   },
   {
    "duration": 96,
    "start_time": "2024-10-14T20:16:43.148Z"
   },
   {
    "duration": 35,
    "start_time": "2024-10-14T20:16:53.357Z"
   },
   {
    "duration": 156,
    "start_time": "2024-10-14T20:17:36.086Z"
   },
   {
    "duration": 185,
    "start_time": "2024-10-14T20:17:57.588Z"
   },
   {
    "duration": 212,
    "start_time": "2024-10-14T20:18:32.265Z"
   },
   {
    "duration": 532,
    "start_time": "2024-10-14T20:18:42.605Z"
   },
   {
    "duration": 157,
    "start_time": "2024-10-14T20:19:17.504Z"
   },
   {
    "duration": 13,
    "start_time": "2024-10-14T20:19:44.694Z"
   },
   {
    "duration": 16,
    "start_time": "2024-10-14T20:20:05.873Z"
   },
   {
    "duration": 11,
    "start_time": "2024-10-14T20:20:46.161Z"
   },
   {
    "duration": 160,
    "start_time": "2024-10-14T20:20:56.073Z"
   },
   {
    "duration": 7,
    "start_time": "2024-10-14T20:21:09.732Z"
   },
   {
    "duration": 15,
    "start_time": "2024-10-14T20:21:58.887Z"
   },
   {
    "duration": 24,
    "start_time": "2024-10-14T20:22:57.458Z"
   },
   {
    "duration": 21,
    "start_time": "2024-10-14T20:23:09.892Z"
   },
   {
    "duration": 6,
    "start_time": "2024-10-14T20:23:24.232Z"
   },
   {
    "duration": 122,
    "start_time": "2024-10-14T20:23:35.418Z"
   },
   {
    "duration": 4,
    "start_time": "2024-10-14T20:25:01.700Z"
   },
   {
    "duration": 5,
    "start_time": "2024-10-14T20:26:41.222Z"
   },
   {
    "duration": 23,
    "start_time": "2024-10-14T20:28:36.749Z"
   },
   {
    "duration": 19,
    "start_time": "2024-10-14T20:28:51.983Z"
   },
   {
    "duration": 13,
    "start_time": "2024-10-14T20:28:59.083Z"
   },
   {
    "duration": 4,
    "start_time": "2024-10-14T20:29:11.647Z"
   },
   {
    "duration": 17,
    "start_time": "2024-10-14T20:51:46.843Z"
   },
   {
    "duration": 16,
    "start_time": "2024-10-14T20:52:06.743Z"
   },
   {
    "duration": 3,
    "start_time": "2024-10-14T20:54:04.471Z"
   },
   {
    "duration": 2,
    "start_time": "2024-10-14T20:54:07.475Z"
   },
   {
    "duration": 1387,
    "start_time": "2024-10-14T20:54:07.480Z"
   },
   {
    "duration": 489,
    "start_time": "2024-10-14T20:54:08.869Z"
   },
   {
    "duration": 76,
    "start_time": "2024-10-14T20:54:09.359Z"
   },
   {
    "duration": 10,
    "start_time": "2024-10-14T20:54:09.438Z"
   },
   {
    "duration": 6,
    "start_time": "2024-10-14T20:54:09.449Z"
   },
   {
    "duration": 5,
    "start_time": "2024-10-14T20:54:09.458Z"
   },
   {
    "duration": 8,
    "start_time": "2024-10-14T20:54:09.466Z"
   },
   {
    "duration": 367,
    "start_time": "2024-10-14T20:54:09.476Z"
   },
   {
    "duration": 200,
    "start_time": "2024-10-14T20:54:09.845Z"
   },
   {
    "duration": 396,
    "start_time": "2024-10-14T20:54:10.047Z"
   },
   {
    "duration": 38,
    "start_time": "2024-10-14T20:54:10.445Z"
   },
   {
    "duration": 136,
    "start_time": "2024-10-14T20:54:10.486Z"
   },
   {
    "duration": 435,
    "start_time": "2024-10-14T20:54:10.626Z"
   },
   {
    "duration": 13,
    "start_time": "2024-10-14T20:54:11.063Z"
   },
   {
    "duration": 35,
    "start_time": "2024-10-14T20:54:11.077Z"
   },
   {
    "duration": 164,
    "start_time": "2024-10-14T20:54:11.114Z"
   },
   {
    "duration": 96,
    "start_time": "2024-10-14T20:54:11.280Z"
   },
   {
    "duration": 147,
    "start_time": "2024-10-14T20:54:11.378Z"
   },
   {
    "duration": 210,
    "start_time": "2024-10-14T20:54:11.527Z"
   },
   {
    "duration": 132,
    "start_time": "2024-10-14T20:54:11.739Z"
   },
   {
    "duration": 39,
    "start_time": "2024-10-14T20:54:11.873Z"
   },
   {
    "duration": 210,
    "start_time": "2024-10-14T20:54:11.914Z"
   },
   {
    "duration": 14,
    "start_time": "2024-10-14T20:54:12.126Z"
   },
   {
    "duration": 9,
    "start_time": "2024-10-14T20:54:12.141Z"
   },
   {
    "duration": 289,
    "start_time": "2024-10-14T20:54:12.151Z"
   },
   {
    "duration": 7,
    "start_time": "2024-10-14T20:54:12.442Z"
   },
   {
    "duration": 10,
    "start_time": "2024-10-14T20:54:12.451Z"
   },
   {
    "duration": 5,
    "start_time": "2024-10-14T20:54:12.463Z"
   },
   {
    "duration": 39,
    "start_time": "2024-10-14T20:54:12.470Z"
   },
   {
    "duration": 5,
    "start_time": "2024-10-14T20:54:12.511Z"
   },
   {
    "duration": 6,
    "start_time": "2024-10-14T20:54:12.518Z"
   },
   {
    "duration": 15,
    "start_time": "2024-10-14T20:54:12.526Z"
   },
   {
    "duration": 3,
    "start_time": "2024-10-14T20:54:12.543Z"
   },
   {
    "duration": 6,
    "start_time": "2024-10-14T20:54:12.548Z"
   },
   {
    "duration": 14,
    "start_time": "2024-10-14T20:54:12.556Z"
   },
   {
    "duration": 40,
    "start_time": "2024-10-14T20:54:12.572Z"
   },
   {
    "duration": 11,
    "start_time": "2024-10-14T20:54:12.614Z"
   },
   {
    "duration": 137,
    "start_time": "2024-10-14T20:54:28.096Z"
   },
   {
    "duration": 3,
    "start_time": "2024-10-14T20:57:03.012Z"
   },
   {
    "duration": 4,
    "start_time": "2024-10-14T20:57:23.549Z"
   },
   {
    "duration": 1463,
    "start_time": "2024-10-14T20:57:23.556Z"
   },
   {
    "duration": 510,
    "start_time": "2024-10-14T20:57:25.021Z"
   },
   {
    "duration": 76,
    "start_time": "2024-10-14T20:57:25.533Z"
   },
   {
    "duration": 9,
    "start_time": "2024-10-14T20:57:25.611Z"
   },
   {
    "duration": 7,
    "start_time": "2024-10-14T20:57:25.621Z"
   },
   {
    "duration": 8,
    "start_time": "2024-10-14T20:57:25.632Z"
   },
   {
    "duration": 6,
    "start_time": "2024-10-14T20:57:25.642Z"
   },
   {
    "duration": 360,
    "start_time": "2024-10-14T20:57:25.649Z"
   },
   {
    "duration": 220,
    "start_time": "2024-10-14T20:57:26.011Z"
   },
   {
    "duration": 354,
    "start_time": "2024-10-14T20:57:26.234Z"
   },
   {
    "duration": 46,
    "start_time": "2024-10-14T20:57:26.590Z"
   },
   {
    "duration": 124,
    "start_time": "2024-10-14T20:57:26.638Z"
   },
   {
    "duration": 349,
    "start_time": "2024-10-14T20:57:26.767Z"
   },
   {
    "duration": 13,
    "start_time": "2024-10-14T20:57:27.118Z"
   },
   {
    "duration": 19,
    "start_time": "2024-10-14T20:57:27.133Z"
   },
   {
    "duration": 187,
    "start_time": "2024-10-14T20:57:27.154Z"
   },
   {
    "duration": 109,
    "start_time": "2024-10-14T20:57:27.343Z"
   },
   {
    "duration": 154,
    "start_time": "2024-10-14T20:57:27.455Z"
   },
   {
    "duration": 237,
    "start_time": "2024-10-14T20:57:27.611Z"
   },
   {
    "duration": 106,
    "start_time": "2024-10-14T20:57:27.850Z"
   },
   {
    "duration": 34,
    "start_time": "2024-10-14T20:57:27.958Z"
   },
   {
    "duration": 178,
    "start_time": "2024-10-14T20:57:27.995Z"
   },
   {
    "duration": 19,
    "start_time": "2024-10-14T20:57:28.175Z"
   },
   {
    "duration": 19,
    "start_time": "2024-10-14T20:57:28.196Z"
   },
   {
    "duration": 217,
    "start_time": "2024-10-14T20:57:28.217Z"
   },
   {
    "duration": 8,
    "start_time": "2024-10-14T20:57:28.436Z"
   },
   {
    "duration": 9,
    "start_time": "2024-10-14T20:57:28.446Z"
   },
   {
    "duration": 6,
    "start_time": "2024-10-14T20:57:28.456Z"
   },
   {
    "duration": 17,
    "start_time": "2024-10-14T20:57:28.463Z"
   },
   {
    "duration": 3,
    "start_time": "2024-10-14T20:57:28.509Z"
   },
   {
    "duration": 8,
    "start_time": "2024-10-14T20:57:28.514Z"
   },
   {
    "duration": 16,
    "start_time": "2024-10-14T20:57:28.524Z"
   },
   {
    "duration": 3,
    "start_time": "2024-10-14T20:57:28.541Z"
   },
   {
    "duration": 6,
    "start_time": "2024-10-14T20:57:28.546Z"
   },
   {
    "duration": 5,
    "start_time": "2024-10-14T20:57:28.554Z"
   },
   {
    "duration": 10,
    "start_time": "2024-10-14T20:58:00.551Z"
   },
   {
    "duration": 10,
    "start_time": "2024-10-14T20:58:24.413Z"
   },
   {
    "duration": 15,
    "start_time": "2024-10-14T20:58:45.900Z"
   },
   {
    "duration": 8,
    "start_time": "2024-10-14T20:59:08.797Z"
   },
   {
    "duration": 198,
    "start_time": "2024-10-14T21:01:57.484Z"
   },
   {
    "duration": 152,
    "start_time": "2024-10-14T21:02:21.226Z"
   },
   {
    "duration": 195,
    "start_time": "2024-10-14T21:03:55.221Z"
   },
   {
    "duration": 2,
    "start_time": "2024-10-14T21:15:41.058Z"
   },
   {
    "duration": 6,
    "start_time": "2024-10-14T21:23:36.668Z"
   },
   {
    "duration": 10,
    "start_time": "2024-10-14T21:25:18.182Z"
   },
   {
    "duration": 7,
    "start_time": "2024-10-14T21:25:32.804Z"
   },
   {
    "duration": 180,
    "start_time": "2024-10-14T21:26:37.959Z"
   },
   {
    "duration": 161,
    "start_time": "2024-10-14T21:33:16.662Z"
   },
   {
    "duration": 6,
    "start_time": "2024-10-14T21:33:23.808Z"
   },
   {
    "duration": 5,
    "start_time": "2024-10-14T21:33:31.625Z"
   },
   {
    "duration": 4,
    "start_time": "2024-10-14T21:34:22.537Z"
   },
   {
    "duration": 7,
    "start_time": "2024-10-14T21:34:30.477Z"
   },
   {
    "duration": 60,
    "start_time": "2024-10-14T21:37:28.352Z"
   },
   {
    "duration": 57,
    "start_time": "2024-10-14T21:37:42.457Z"
   },
   {
    "duration": 5,
    "start_time": "2024-10-14T21:37:48.888Z"
   },
   {
    "duration": 73,
    "start_time": "2024-10-14T21:38:06.850Z"
   },
   {
    "duration": 57,
    "start_time": "2024-10-14T21:38:27.735Z"
   },
   {
    "duration": 3,
    "start_time": "2024-10-14T21:38:43.117Z"
   },
   {
    "duration": 1317,
    "start_time": "2024-10-14T21:38:43.122Z"
   },
   {
    "duration": 512,
    "start_time": "2024-10-14T21:38:44.441Z"
   },
   {
    "duration": 44,
    "start_time": "2024-10-14T21:38:44.955Z"
   },
   {
    "duration": 8,
    "start_time": "2024-10-14T21:38:45.008Z"
   },
   {
    "duration": 6,
    "start_time": "2024-10-14T21:38:45.017Z"
   },
   {
    "duration": 5,
    "start_time": "2024-10-14T21:38:45.025Z"
   },
   {
    "duration": 5,
    "start_time": "2024-10-14T21:38:45.032Z"
   },
   {
    "duration": 331,
    "start_time": "2024-10-14T21:38:45.038Z"
   },
   {
    "duration": 231,
    "start_time": "2024-10-14T21:38:45.371Z"
   },
   {
    "duration": 341,
    "start_time": "2024-10-14T21:38:45.604Z"
   },
   {
    "duration": 37,
    "start_time": "2024-10-14T21:38:45.947Z"
   },
   {
    "duration": 128,
    "start_time": "2024-10-14T21:38:45.986Z"
   },
   {
    "duration": 322,
    "start_time": "2024-10-14T21:38:46.117Z"
   },
   {
    "duration": 12,
    "start_time": "2024-10-14T21:38:46.441Z"
   },
   {
    "duration": 17,
    "start_time": "2024-10-14T21:38:46.455Z"
   },
   {
    "duration": 166,
    "start_time": "2024-10-14T21:38:46.474Z"
   },
   {
    "duration": 101,
    "start_time": "2024-10-14T21:38:46.642Z"
   },
   {
    "duration": 145,
    "start_time": "2024-10-14T21:38:46.745Z"
   },
   {
    "duration": 209,
    "start_time": "2024-10-14T21:38:46.892Z"
   },
   {
    "duration": 114,
    "start_time": "2024-10-14T21:38:47.104Z"
   },
   {
    "duration": 38,
    "start_time": "2024-10-14T21:38:47.223Z"
   },
   {
    "duration": 160,
    "start_time": "2024-10-14T21:38:47.265Z"
   },
   {
    "duration": 14,
    "start_time": "2024-10-14T21:38:47.427Z"
   },
   {
    "duration": 9,
    "start_time": "2024-10-14T21:38:47.444Z"
   },
   {
    "duration": 227,
    "start_time": "2024-10-14T21:38:47.455Z"
   },
   {
    "duration": 6,
    "start_time": "2024-10-14T21:38:47.684Z"
   },
   {
    "duration": 22,
    "start_time": "2024-10-14T21:38:47.691Z"
   },
   {
    "duration": 6,
    "start_time": "2024-10-14T21:38:47.715Z"
   },
   {
    "duration": 17,
    "start_time": "2024-10-14T21:38:47.723Z"
   },
   {
    "duration": 4,
    "start_time": "2024-10-14T21:38:47.742Z"
   },
   {
    "duration": 6,
    "start_time": "2024-10-14T21:38:47.748Z"
   },
   {
    "duration": 15,
    "start_time": "2024-10-14T21:38:47.755Z"
   },
   {
    "duration": 37,
    "start_time": "2024-10-14T21:38:47.772Z"
   },
   {
    "duration": 10,
    "start_time": "2024-10-14T21:38:47.812Z"
   },
   {
    "duration": 13,
    "start_time": "2024-10-14T21:38:47.824Z"
   },
   {
    "duration": 70,
    "start_time": "2024-10-14T21:38:47.839Z"
   },
   {
    "duration": 6,
    "start_time": "2024-10-14T21:38:47.911Z"
   },
   {
    "duration": 5,
    "start_time": "2024-10-14T21:44:13.873Z"
   },
   {
    "duration": 4,
    "start_time": "2024-10-14T21:54:15.315Z"
   },
   {
    "duration": 1363,
    "start_time": "2024-10-14T21:54:15.322Z"
   },
   {
    "duration": 482,
    "start_time": "2024-10-14T21:54:16.686Z"
   },
   {
    "duration": 91,
    "start_time": "2024-10-14T21:54:17.170Z"
   },
   {
    "duration": 9,
    "start_time": "2024-10-14T21:54:17.264Z"
   },
   {
    "duration": 6,
    "start_time": "2024-10-14T21:54:17.275Z"
   },
   {
    "duration": 6,
    "start_time": "2024-10-14T21:54:17.283Z"
   },
   {
    "duration": 23,
    "start_time": "2024-10-14T21:54:17.291Z"
   },
   {
    "duration": 327,
    "start_time": "2024-10-14T21:54:17.316Z"
   },
   {
    "duration": 319,
    "start_time": "2024-10-14T21:54:17.645Z"
   },
   {
    "duration": 349,
    "start_time": "2024-10-14T21:54:17.966Z"
   },
   {
    "duration": 37,
    "start_time": "2024-10-14T21:54:18.317Z"
   },
   {
    "duration": 125,
    "start_time": "2024-10-14T21:54:18.356Z"
   },
   {
    "duration": 313,
    "start_time": "2024-10-14T21:54:18.484Z"
   },
   {
    "duration": 17,
    "start_time": "2024-10-14T21:54:18.799Z"
   },
   {
    "duration": 18,
    "start_time": "2024-10-14T21:54:18.817Z"
   },
   {
    "duration": 155,
    "start_time": "2024-10-14T21:54:18.836Z"
   },
   {
    "duration": 118,
    "start_time": "2024-10-14T21:54:18.994Z"
   },
   {
    "duration": 145,
    "start_time": "2024-10-14T21:54:19.114Z"
   },
   {
    "duration": 204,
    "start_time": "2024-10-14T21:54:19.261Z"
   },
   {
    "duration": 104,
    "start_time": "2024-10-14T21:54:19.468Z"
   },
   {
    "duration": 25,
    "start_time": "2024-10-14T21:54:19.576Z"
   },
   {
    "duration": 151,
    "start_time": "2024-10-14T21:54:19.608Z"
   },
   {
    "duration": 19,
    "start_time": "2024-10-14T21:54:19.761Z"
   },
   {
    "duration": 8,
    "start_time": "2024-10-14T21:54:19.782Z"
   },
   {
    "duration": 197,
    "start_time": "2024-10-14T21:54:19.792Z"
   },
   {
    "duration": 7,
    "start_time": "2024-10-14T21:54:19.991Z"
   },
   {
    "duration": 10,
    "start_time": "2024-10-14T21:54:20.009Z"
   },
   {
    "duration": 7,
    "start_time": "2024-10-14T21:54:20.021Z"
   },
   {
    "duration": 15,
    "start_time": "2024-10-14T21:54:20.030Z"
   },
   {
    "duration": 3,
    "start_time": "2024-10-14T21:54:20.048Z"
   },
   {
    "duration": 7,
    "start_time": "2024-10-14T21:54:20.053Z"
   },
   {
    "duration": 48,
    "start_time": "2024-10-14T21:54:20.062Z"
   },
   {
    "duration": 5,
    "start_time": "2024-10-14T21:54:20.112Z"
   },
   {
    "duration": 3,
    "start_time": "2024-10-14T21:54:20.120Z"
   },
   {
    "duration": 7,
    "start_time": "2024-10-14T21:54:20.125Z"
   },
   {
    "duration": 75,
    "start_time": "2024-10-14T21:54:20.134Z"
   },
   {
    "duration": 5,
    "start_time": "2024-10-14T21:54:20.211Z"
   },
   {
    "duration": 3,
    "start_time": "2024-10-14T21:54:36.952Z"
   },
   {
    "duration": 1427,
    "start_time": "2024-10-14T21:54:36.958Z"
   },
   {
    "duration": 465,
    "start_time": "2024-10-14T21:54:38.387Z"
   },
   {
    "duration": 41,
    "start_time": "2024-10-14T21:54:38.854Z"
   },
   {
    "duration": 15,
    "start_time": "2024-10-14T21:54:38.898Z"
   },
   {
    "duration": 8,
    "start_time": "2024-10-14T21:54:38.914Z"
   },
   {
    "duration": 6,
    "start_time": "2024-10-14T21:54:38.924Z"
   },
   {
    "duration": 7,
    "start_time": "2024-10-14T21:54:38.932Z"
   },
   {
    "duration": 317,
    "start_time": "2024-10-14T21:54:38.941Z"
   },
   {
    "duration": 204,
    "start_time": "2024-10-14T21:54:39.260Z"
   },
   {
    "duration": 347,
    "start_time": "2024-10-14T21:54:39.466Z"
   },
   {
    "duration": 34,
    "start_time": "2024-10-14T21:54:39.815Z"
   },
   {
    "duration": 130,
    "start_time": "2024-10-14T21:54:39.851Z"
   },
   {
    "duration": 332,
    "start_time": "2024-10-14T21:54:39.985Z"
   },
   {
    "duration": 15,
    "start_time": "2024-10-14T21:54:40.319Z"
   },
   {
    "duration": 20,
    "start_time": "2024-10-14T21:54:40.335Z"
   },
   {
    "duration": 166,
    "start_time": "2024-10-14T21:54:40.357Z"
   },
   {
    "duration": 102,
    "start_time": "2024-10-14T21:54:40.525Z"
   },
   {
    "duration": 148,
    "start_time": "2024-10-14T21:54:40.629Z"
   },
   {
    "duration": 202,
    "start_time": "2024-10-14T21:54:40.779Z"
   },
   {
    "duration": 95,
    "start_time": "2024-10-14T21:54:40.983Z"
   },
   {
    "duration": 30,
    "start_time": "2024-10-14T21:54:41.079Z"
   },
   {
    "duration": 153,
    "start_time": "2024-10-14T21:54:41.111Z"
   },
   {
    "duration": 14,
    "start_time": "2024-10-14T21:54:41.266Z"
   },
   {
    "duration": 8,
    "start_time": "2024-10-14T21:54:41.282Z"
   },
   {
    "duration": 203,
    "start_time": "2024-10-14T21:54:41.309Z"
   },
   {
    "duration": 7,
    "start_time": "2024-10-14T21:54:41.513Z"
   },
   {
    "duration": 8,
    "start_time": "2024-10-14T21:54:41.522Z"
   },
   {
    "duration": 5,
    "start_time": "2024-10-14T21:54:41.531Z"
   },
   {
    "duration": 13,
    "start_time": "2024-10-14T21:54:41.538Z"
   },
   {
    "duration": 3,
    "start_time": "2024-10-14T21:54:41.552Z"
   },
   {
    "duration": 8,
    "start_time": "2024-10-14T21:54:41.557Z"
   },
   {
    "duration": 52,
    "start_time": "2024-10-14T21:54:41.566Z"
   },
   {
    "duration": 5,
    "start_time": "2024-10-14T21:54:41.620Z"
   },
   {
    "duration": 3,
    "start_time": "2024-10-14T21:54:41.627Z"
   },
   {
    "duration": 8,
    "start_time": "2024-10-14T21:54:41.631Z"
   },
   {
    "duration": 78,
    "start_time": "2024-10-14T21:54:41.641Z"
   },
   {
    "duration": 5,
    "start_time": "2024-10-14T21:54:41.721Z"
   },
   {
    "duration": 3,
    "start_time": "2024-10-14T21:55:21.547Z"
   },
   {
    "duration": 1453,
    "start_time": "2024-10-14T21:55:21.553Z"
   },
   {
    "duration": 513,
    "start_time": "2024-10-14T21:55:23.008Z"
   },
   {
    "duration": 47,
    "start_time": "2024-10-14T21:55:23.523Z"
   },
   {
    "duration": 7,
    "start_time": "2024-10-14T21:55:23.574Z"
   },
   {
    "duration": 29,
    "start_time": "2024-10-14T21:55:23.583Z"
   },
   {
    "duration": 6,
    "start_time": "2024-10-14T21:55:23.615Z"
   },
   {
    "duration": 7,
    "start_time": "2024-10-14T21:55:23.623Z"
   },
   {
    "duration": 284,
    "start_time": "2024-10-14T21:55:23.632Z"
   },
   {
    "duration": 198,
    "start_time": "2024-10-14T21:55:23.918Z"
   },
   {
    "duration": 352,
    "start_time": "2024-10-14T21:55:24.118Z"
   },
   {
    "duration": 44,
    "start_time": "2024-10-14T21:55:24.472Z"
   },
   {
    "duration": 124,
    "start_time": "2024-10-14T21:55:24.521Z"
   },
   {
    "duration": 328,
    "start_time": "2024-10-14T21:55:24.647Z"
   },
   {
    "duration": 13,
    "start_time": "2024-10-14T21:55:24.977Z"
   },
   {
    "duration": 30,
    "start_time": "2024-10-14T21:55:24.992Z"
   },
   {
    "duration": 152,
    "start_time": "2024-10-14T21:55:25.024Z"
   },
   {
    "duration": 112,
    "start_time": "2024-10-14T21:55:25.178Z"
   },
   {
    "duration": 158,
    "start_time": "2024-10-14T21:55:25.292Z"
   },
   {
    "duration": 315,
    "start_time": "2024-10-14T21:55:25.452Z"
   },
   {
    "duration": 100,
    "start_time": "2024-10-14T21:55:25.769Z"
   },
   {
    "duration": 23,
    "start_time": "2024-10-14T21:55:25.871Z"
   },
   {
    "duration": 167,
    "start_time": "2024-10-14T21:55:25.895Z"
   },
   {
    "duration": 14,
    "start_time": "2024-10-14T21:55:26.064Z"
   },
   {
    "duration": 8,
    "start_time": "2024-10-14T21:55:26.079Z"
   },
   {
    "duration": 199,
    "start_time": "2024-10-14T21:55:26.088Z"
   },
   {
    "duration": 7,
    "start_time": "2024-10-14T21:55:26.289Z"
   },
   {
    "duration": 9,
    "start_time": "2024-10-14T21:55:26.310Z"
   },
   {
    "duration": 7,
    "start_time": "2024-10-14T21:55:26.321Z"
   },
   {
    "duration": 14,
    "start_time": "2024-10-14T21:55:26.330Z"
   },
   {
    "duration": 3,
    "start_time": "2024-10-14T21:55:26.346Z"
   },
   {
    "duration": 7,
    "start_time": "2024-10-14T21:55:26.351Z"
   },
   {
    "duration": 15,
    "start_time": "2024-10-14T21:55:26.359Z"
   },
   {
    "duration": 6,
    "start_time": "2024-10-14T21:55:26.408Z"
   },
   {
    "duration": 3,
    "start_time": "2024-10-14T21:55:26.417Z"
   },
   {
    "duration": 9,
    "start_time": "2024-10-14T21:55:26.421Z"
   },
   {
    "duration": 75,
    "start_time": "2024-10-14T21:55:26.434Z"
   },
   {
    "duration": 5,
    "start_time": "2024-10-14T21:55:26.510Z"
   },
   {
    "duration": 9,
    "start_time": "2024-10-14T21:55:59.775Z"
   },
   {
    "duration": 1349,
    "start_time": "2024-10-14T21:56:15.721Z"
   },
   {
    "duration": 501,
    "start_time": "2024-10-14T21:56:17.072Z"
   },
   {
    "duration": 46,
    "start_time": "2024-10-14T21:56:17.904Z"
   },
   {
    "duration": 8,
    "start_time": "2024-10-14T21:56:19.252Z"
   },
   {
    "duration": 8,
    "start_time": "2024-10-14T21:56:20.131Z"
   },
   {
    "duration": 6,
    "start_time": "2024-10-14T21:56:23.997Z"
   },
   {
    "duration": 7,
    "start_time": "2024-10-14T21:56:24.808Z"
   },
   {
    "duration": 262,
    "start_time": "2024-10-14T21:56:28.713Z"
   },
   {
    "duration": 194,
    "start_time": "2024-10-14T21:56:29.339Z"
   },
   {
    "duration": 336,
    "start_time": "2024-10-14T21:56:29.996Z"
   },
   {
    "duration": 39,
    "start_time": "2024-10-14T21:56:32.452Z"
   },
   {
    "duration": 113,
    "start_time": "2024-10-14T21:56:33.497Z"
   },
   {
    "duration": 306,
    "start_time": "2024-10-14T21:56:36.039Z"
   },
   {
    "duration": 13,
    "start_time": "2024-10-14T21:56:36.713Z"
   },
   {
    "duration": 22,
    "start_time": "2024-10-14T21:56:37.279Z"
   },
   {
    "duration": 142,
    "start_time": "2024-10-14T21:56:38.649Z"
   },
   {
    "duration": 96,
    "start_time": "2024-10-14T21:56:39.237Z"
   },
   {
    "duration": 156,
    "start_time": "2024-10-14T21:56:39.973Z"
   },
   {
    "duration": 192,
    "start_time": "2024-10-14T21:56:40.558Z"
   },
   {
    "duration": 91,
    "start_time": "2024-10-14T21:56:42.376Z"
   },
   {
    "duration": 30,
    "start_time": "2024-10-14T21:56:43.157Z"
   },
   {
    "duration": 149,
    "start_time": "2024-10-14T21:56:44.166Z"
   },
   {
    "duration": 16,
    "start_time": "2024-10-14T21:56:45.411Z"
   },
   {
    "duration": 10,
    "start_time": "2024-10-14T21:56:46.360Z"
   },
   {
    "duration": 175,
    "start_time": "2024-10-14T21:56:48.810Z"
   },
   {
    "duration": 7,
    "start_time": "2024-10-14T21:56:50.286Z"
   },
   {
    "duration": 9,
    "start_time": "2024-10-14T21:56:53.189Z"
   },
   {
    "duration": 7,
    "start_time": "2024-10-14T21:56:57.979Z"
   },
   {
    "duration": 16,
    "start_time": "2024-10-14T21:57:00.408Z"
   },
   {
    "duration": 4,
    "start_time": "2024-10-14T21:57:03.195Z"
   },
   {
    "duration": 7,
    "start_time": "2024-10-14T21:57:06.222Z"
   },
   {
    "duration": 15,
    "start_time": "2024-10-14T21:57:07.624Z"
   },
   {
    "duration": 6,
    "start_time": "2024-10-14T21:57:28.788Z"
   },
   {
    "duration": 3,
    "start_time": "2024-10-14T21:57:53.210Z"
   },
   {
    "duration": 7,
    "start_time": "2024-10-14T21:57:59.731Z"
   },
   {
    "duration": 59,
    "start_time": "2024-10-14T21:58:12.197Z"
   },
   {
    "duration": 56,
    "start_time": "2024-10-14T21:58:39.325Z"
   },
   {
    "duration": 8,
    "start_time": "2024-10-14T21:59:22.389Z"
   },
   {
    "duration": 3,
    "start_time": "2024-10-14T21:59:29.295Z"
   },
   {
    "duration": 3,
    "start_time": "2024-10-14T22:00:00.956Z"
   },
   {
    "duration": 3,
    "start_time": "2024-10-14T22:00:53.237Z"
   },
   {
    "duration": 3,
    "start_time": "2024-10-14T22:00:56.681Z"
   },
   {
    "duration": 2,
    "start_time": "2024-10-14T22:01:13.959Z"
   },
   {
    "duration": 1430,
    "start_time": "2024-10-14T22:01:13.964Z"
   },
   {
    "duration": 491,
    "start_time": "2024-10-14T22:01:15.396Z"
   },
   {
    "duration": 57,
    "start_time": "2024-10-14T22:01:15.889Z"
   },
   {
    "duration": 8,
    "start_time": "2024-10-14T22:01:15.948Z"
   },
   {
    "duration": 5,
    "start_time": "2024-10-14T22:01:15.959Z"
   },
   {
    "duration": 5,
    "start_time": "2024-10-14T22:01:15.966Z"
   },
   {
    "duration": 5,
    "start_time": "2024-10-14T22:01:15.973Z"
   },
   {
    "duration": 341,
    "start_time": "2024-10-14T22:01:15.980Z"
   },
   {
    "duration": 198,
    "start_time": "2024-10-14T22:01:16.324Z"
   },
   {
    "duration": 337,
    "start_time": "2024-10-14T22:01:16.524Z"
   },
   {
    "duration": 35,
    "start_time": "2024-10-14T22:01:16.864Z"
   },
   {
    "duration": 116,
    "start_time": "2024-10-14T22:01:16.909Z"
   },
   {
    "duration": 392,
    "start_time": "2024-10-14T22:01:17.029Z"
   },
   {
    "duration": 12,
    "start_time": "2024-10-14T22:01:17.423Z"
   },
   {
    "duration": 17,
    "start_time": "2024-10-14T22:01:17.437Z"
   },
   {
    "duration": 163,
    "start_time": "2024-10-14T22:01:17.455Z"
   },
   {
    "duration": 105,
    "start_time": "2024-10-14T22:01:17.620Z"
   },
   {
    "duration": 155,
    "start_time": "2024-10-14T22:01:17.727Z"
   },
   {
    "duration": 210,
    "start_time": "2024-10-14T22:01:17.884Z"
   },
   {
    "duration": 100,
    "start_time": "2024-10-14T22:01:18.096Z"
   },
   {
    "duration": 33,
    "start_time": "2024-10-14T22:01:18.199Z"
   },
   {
    "duration": 154,
    "start_time": "2024-10-14T22:01:18.235Z"
   },
   {
    "duration": 25,
    "start_time": "2024-10-14T22:01:18.391Z"
   },
   {
    "duration": 10,
    "start_time": "2024-10-14T22:01:18.420Z"
   },
   {
    "duration": 180,
    "start_time": "2024-10-14T22:01:18.432Z"
   },
   {
    "duration": 6,
    "start_time": "2024-10-14T22:01:18.614Z"
   },
   {
    "duration": 8,
    "start_time": "2024-10-14T22:01:18.621Z"
   },
   {
    "duration": 6,
    "start_time": "2024-10-14T22:01:18.630Z"
   },
   {
    "duration": 13,
    "start_time": "2024-10-14T22:01:18.637Z"
   },
   {
    "duration": 3,
    "start_time": "2024-10-14T22:01:18.652Z"
   },
   {
    "duration": 7,
    "start_time": "2024-10-14T22:01:18.657Z"
   },
   {
    "duration": 51,
    "start_time": "2024-10-14T22:01:18.665Z"
   },
   {
    "duration": 355,
    "start_time": "2024-10-14T22:01:18.719Z"
   },
   {
    "duration": 0,
    "start_time": "2024-10-14T22:01:19.076Z"
   },
   {
    "duration": 0,
    "start_time": "2024-10-14T22:01:19.077Z"
   },
   {
    "duration": 0,
    "start_time": "2024-10-14T22:01:19.079Z"
   },
   {
    "duration": 4,
    "start_time": "2024-10-14T22:02:58.435Z"
   },
   {
    "duration": 7,
    "start_time": "2024-10-14T22:03:06.812Z"
   },
   {
    "duration": 4,
    "start_time": "2024-10-14T22:03:29.254Z"
   },
   {
    "duration": 4,
    "start_time": "2024-10-14T22:04:02.089Z"
   },
   {
    "duration": 54,
    "start_time": "2024-10-14T22:06:08.006Z"
   },
   {
    "duration": 324,
    "start_time": "2024-10-14T22:21:16.891Z"
   },
   {
    "duration": 36,
    "start_time": "2024-10-14T22:21:47.341Z"
   },
   {
    "duration": 14,
    "start_time": "2024-10-14T22:22:02.898Z"
   },
   {
    "duration": 13,
    "start_time": "2024-10-14T22:23:32.917Z"
   },
   {
    "duration": 131,
    "start_time": "2024-10-14T22:26:30.534Z"
   },
   {
    "duration": 154,
    "start_time": "2024-10-14T22:27:03.648Z"
   },
   {
    "duration": 136,
    "start_time": "2024-10-14T22:28:40.715Z"
   },
   {
    "duration": 3,
    "start_time": "2024-10-14T22:54:25.850Z"
   },
   {
    "duration": 577,
    "start_time": "2024-10-14T22:54:26.530Z"
   },
   {
    "duration": 60,
    "start_time": "2024-10-14T22:54:29.897Z"
   },
   {
    "duration": 8,
    "start_time": "2024-10-14T22:54:38.029Z"
   },
   {
    "duration": 2,
    "start_time": "2024-10-14T23:08:51.205Z"
   },
   {
    "duration": 528,
    "start_time": "2024-10-14T23:08:51.210Z"
   },
   {
    "duration": 39,
    "start_time": "2024-10-14T23:08:51.740Z"
   },
   {
    "duration": 7,
    "start_time": "2024-10-14T23:08:51.781Z"
   },
   {
    "duration": 19,
    "start_time": "2024-10-14T23:08:51.791Z"
   },
   {
    "duration": 5,
    "start_time": "2024-10-14T23:08:51.812Z"
   },
   {
    "duration": 4,
    "start_time": "2024-10-14T23:08:51.819Z"
   },
   {
    "duration": 5,
    "start_time": "2024-10-14T23:08:51.824Z"
   },
   {
    "duration": 98,
    "start_time": "2024-10-14T23:08:51.830Z"
   },
   {
    "duration": 202,
    "start_time": "2024-10-14T23:08:51.930Z"
   },
   {
    "duration": 146,
    "start_time": "2024-10-14T23:08:52.134Z"
   },
   {
    "duration": 45,
    "start_time": "2024-10-14T23:08:52.282Z"
   },
   {
    "duration": 49,
    "start_time": "2024-10-14T23:08:52.330Z"
   },
   {
    "duration": 302,
    "start_time": "2024-10-14T23:08:52.381Z"
   },
   {
    "duration": 12,
    "start_time": "2024-10-14T23:08:52.686Z"
   },
   {
    "duration": 16,
    "start_time": "2024-10-14T23:08:52.708Z"
   },
   {
    "duration": 132,
    "start_time": "2024-10-14T23:08:52.726Z"
   },
   {
    "duration": 26,
    "start_time": "2024-10-14T23:08:52.860Z"
   },
   {
    "duration": 132,
    "start_time": "2024-10-14T23:08:52.888Z"
   },
   {
    "duration": 157,
    "start_time": "2024-10-14T23:08:53.022Z"
   },
   {
    "duration": 31,
    "start_time": "2024-10-14T23:08:53.182Z"
   },
   {
    "duration": 17,
    "start_time": "2024-10-14T23:08:53.215Z"
   },
   {
    "duration": 140,
    "start_time": "2024-10-14T23:08:53.234Z"
   },
   {
    "duration": 19,
    "start_time": "2024-10-14T23:08:53.378Z"
   },
   {
    "duration": 15,
    "start_time": "2024-10-14T23:08:53.399Z"
   },
   {
    "duration": 200,
    "start_time": "2024-10-14T23:08:53.417Z"
   },
   {
    "duration": 6,
    "start_time": "2024-10-14T23:08:53.619Z"
   },
   {
    "duration": 7,
    "start_time": "2024-10-14T23:08:53.627Z"
   },
   {
    "duration": 5,
    "start_time": "2024-10-14T23:08:53.636Z"
   },
   {
    "duration": 13,
    "start_time": "2024-10-14T23:08:53.643Z"
   },
   {
    "duration": 3,
    "start_time": "2024-10-14T23:08:53.658Z"
   },
   {
    "duration": 6,
    "start_time": "2024-10-14T23:08:53.663Z"
   },
   {
    "duration": 14,
    "start_time": "2024-10-14T23:08:53.709Z"
   },
   {
    "duration": 3,
    "start_time": "2024-10-14T23:08:53.724Z"
   },
   {
    "duration": 792,
    "start_time": "2024-10-14T23:09:25.834Z"
   },
   {
    "duration": 526,
    "start_time": "2024-10-14T23:09:26.628Z"
   },
   {
    "duration": 50,
    "start_time": "2024-10-14T23:09:27.155Z"
   },
   {
    "duration": 9,
    "start_time": "2024-10-14T23:09:27.209Z"
   },
   {
    "duration": 7,
    "start_time": "2024-10-14T23:09:27.222Z"
   },
   {
    "duration": 6,
    "start_time": "2024-10-14T23:09:27.230Z"
   },
   {
    "duration": 5,
    "start_time": "2024-10-14T23:09:27.237Z"
   },
   {
    "duration": 5,
    "start_time": "2024-10-14T23:09:27.243Z"
   },
   {
    "duration": 142,
    "start_time": "2024-10-14T23:09:27.249Z"
   },
   {
    "duration": 218,
    "start_time": "2024-10-14T23:09:27.393Z"
   },
   {
    "duration": 191,
    "start_time": "2024-10-14T23:09:27.613Z"
   },
   {
    "duration": 42,
    "start_time": "2024-10-14T23:09:27.805Z"
   },
   {
    "duration": 73,
    "start_time": "2024-10-14T23:09:27.849Z"
   },
   {
    "duration": 211,
    "start_time": "2024-10-14T23:09:27.926Z"
   },
   {
    "duration": 12,
    "start_time": "2024-10-14T23:09:28.139Z"
   },
   {
    "duration": 19,
    "start_time": "2024-10-14T23:09:28.153Z"
   },
   {
    "duration": 154,
    "start_time": "2024-10-14T23:09:28.173Z"
   },
   {
    "duration": 25,
    "start_time": "2024-10-14T23:09:28.329Z"
   },
   {
    "duration": 132,
    "start_time": "2024-10-14T23:09:28.356Z"
   },
   {
    "duration": 165,
    "start_time": "2024-10-14T23:09:28.490Z"
   },
   {
    "duration": 23,
    "start_time": "2024-10-14T23:09:28.657Z"
   },
   {
    "duration": 30,
    "start_time": "2024-10-14T23:09:28.682Z"
   },
   {
    "duration": 156,
    "start_time": "2024-10-14T23:09:28.713Z"
   },
   {
    "duration": 14,
    "start_time": "2024-10-14T23:09:28.871Z"
   },
   {
    "duration": 8,
    "start_time": "2024-10-14T23:09:28.886Z"
   },
   {
    "duration": 209,
    "start_time": "2024-10-14T23:09:28.910Z"
   },
   {
    "duration": 9,
    "start_time": "2024-10-14T23:09:29.121Z"
   },
   {
    "duration": 9,
    "start_time": "2024-10-14T23:09:29.132Z"
   },
   {
    "duration": 5,
    "start_time": "2024-10-14T23:09:29.142Z"
   },
   {
    "duration": 247,
    "start_time": "2024-10-14T23:09:29.149Z"
   },
   {
    "duration": 0,
    "start_time": "2024-10-14T23:09:29.397Z"
   },
   {
    "duration": 0,
    "start_time": "2024-10-14T23:09:29.399Z"
   },
   {
    "duration": 0,
    "start_time": "2024-10-14T23:09:29.400Z"
   },
   {
    "duration": 0,
    "start_time": "2024-10-14T23:09:29.408Z"
   },
   {
    "duration": 0,
    "start_time": "2024-10-14T23:09:29.410Z"
   },
   {
    "duration": 0,
    "start_time": "2024-10-14T23:09:29.410Z"
   },
   {
    "duration": 15,
    "start_time": "2024-10-14T23:10:12.298Z"
   },
   {
    "duration": 3,
    "start_time": "2024-10-14T23:11:17.608Z"
   },
   {
    "duration": 465,
    "start_time": "2024-10-14T23:11:17.614Z"
   },
   {
    "duration": 43,
    "start_time": "2024-10-14T23:11:18.080Z"
   },
   {
    "duration": 7,
    "start_time": "2024-10-14T23:11:18.126Z"
   },
   {
    "duration": 7,
    "start_time": "2024-10-14T23:11:18.136Z"
   },
   {
    "duration": 6,
    "start_time": "2024-10-14T23:11:18.144Z"
   },
   {
    "duration": 5,
    "start_time": "2024-10-14T23:11:18.151Z"
   },
   {
    "duration": 5,
    "start_time": "2024-10-14T23:11:18.158Z"
   },
   {
    "duration": 114,
    "start_time": "2024-10-14T23:11:18.166Z"
   },
   {
    "duration": 202,
    "start_time": "2024-10-14T23:11:18.282Z"
   },
   {
    "duration": 149,
    "start_time": "2024-10-14T23:11:18.486Z"
   },
   {
    "duration": 38,
    "start_time": "2024-10-14T23:11:18.637Z"
   },
   {
    "duration": 66,
    "start_time": "2024-10-14T23:11:18.677Z"
   },
   {
    "duration": 203,
    "start_time": "2024-10-14T23:11:18.747Z"
   },
   {
    "duration": 12,
    "start_time": "2024-10-14T23:11:18.951Z"
   },
   {
    "duration": 18,
    "start_time": "2024-10-14T23:11:18.965Z"
   },
   {
    "duration": 147,
    "start_time": "2024-10-14T23:11:18.985Z"
   },
   {
    "duration": 32,
    "start_time": "2024-10-14T23:11:19.134Z"
   },
   {
    "duration": 134,
    "start_time": "2024-10-14T23:11:19.168Z"
   },
   {
    "duration": 161,
    "start_time": "2024-10-14T23:11:19.304Z"
   },
   {
    "duration": 22,
    "start_time": "2024-10-14T23:11:19.466Z"
   },
   {
    "duration": 29,
    "start_time": "2024-10-14T23:11:19.489Z"
   },
   {
    "duration": 129,
    "start_time": "2024-10-14T23:11:19.520Z"
   },
   {
    "duration": 14,
    "start_time": "2024-10-14T23:11:19.651Z"
   },
   {
    "duration": 9,
    "start_time": "2024-10-14T23:11:19.666Z"
   },
   {
    "duration": 233,
    "start_time": "2024-10-14T23:11:19.676Z"
   },
   {
    "duration": 6,
    "start_time": "2024-10-14T23:11:19.911Z"
   },
   {
    "duration": 9,
    "start_time": "2024-10-14T23:11:19.919Z"
   },
   {
    "duration": 6,
    "start_time": "2024-10-14T23:11:19.929Z"
   },
   {
    "duration": 13,
    "start_time": "2024-10-14T23:11:19.936Z"
   },
   {
    "duration": 3,
    "start_time": "2024-10-14T23:11:19.951Z"
   },
   {
    "duration": 7,
    "start_time": "2024-10-14T23:11:19.956Z"
   },
   {
    "duration": 51,
    "start_time": "2024-10-14T23:11:19.965Z"
   },
   {
    "duration": 5,
    "start_time": "2024-10-14T23:11:20.017Z"
   },
   {
    "duration": 788,
    "start_time": "2024-10-14T23:12:57.140Z"
   },
   {
    "duration": 534,
    "start_time": "2024-10-14T23:12:57.930Z"
   },
   {
    "duration": 38,
    "start_time": "2024-10-14T23:12:58.465Z"
   },
   {
    "duration": 7,
    "start_time": "2024-10-14T23:12:58.505Z"
   },
   {
    "duration": 7,
    "start_time": "2024-10-14T23:12:58.514Z"
   },
   {
    "duration": 5,
    "start_time": "2024-10-14T23:12:58.523Z"
   },
   {
    "duration": 5,
    "start_time": "2024-10-14T23:12:58.530Z"
   },
   {
    "duration": 4,
    "start_time": "2024-10-14T23:12:58.537Z"
   },
   {
    "duration": 136,
    "start_time": "2024-10-14T23:12:58.543Z"
   },
   {
    "duration": 208,
    "start_time": "2024-10-14T23:12:58.681Z"
   },
   {
    "duration": 188,
    "start_time": "2024-10-14T23:12:58.891Z"
   },
   {
    "duration": 43,
    "start_time": "2024-10-14T23:12:59.081Z"
   },
   {
    "duration": 61,
    "start_time": "2024-10-14T23:12:59.126Z"
   },
   {
    "duration": 224,
    "start_time": "2024-10-14T23:12:59.191Z"
   },
   {
    "duration": 16,
    "start_time": "2024-10-14T23:12:59.417Z"
   },
   {
    "duration": 18,
    "start_time": "2024-10-14T23:12:59.435Z"
   },
   {
    "duration": 145,
    "start_time": "2024-10-14T23:12:59.454Z"
   },
   {
    "duration": 28,
    "start_time": "2024-10-14T23:12:59.602Z"
   },
   {
    "duration": 136,
    "start_time": "2024-10-14T23:12:59.631Z"
   },
   {
    "duration": 159,
    "start_time": "2024-10-14T23:12:59.769Z"
   },
   {
    "duration": 23,
    "start_time": "2024-10-14T23:12:59.930Z"
   },
   {
    "duration": 17,
    "start_time": "2024-10-14T23:12:59.954Z"
   },
   {
    "duration": 167,
    "start_time": "2024-10-14T23:12:59.972Z"
   },
   {
    "duration": 14,
    "start_time": "2024-10-14T23:13:00.141Z"
   },
   {
    "duration": 8,
    "start_time": "2024-10-14T23:13:00.156Z"
   },
   {
    "duration": 230,
    "start_time": "2024-10-14T23:13:00.166Z"
   },
   {
    "duration": 11,
    "start_time": "2024-10-14T23:13:00.398Z"
   },
   {
    "duration": 8,
    "start_time": "2024-10-14T23:13:00.411Z"
   },
   {
    "duration": 6,
    "start_time": "2024-10-14T23:13:00.420Z"
   },
   {
    "duration": 16,
    "start_time": "2024-10-14T23:13:00.428Z"
   },
   {
    "duration": 3,
    "start_time": "2024-10-14T23:13:00.446Z"
   },
   {
    "duration": 8,
    "start_time": "2024-10-14T23:13:00.451Z"
   },
   {
    "duration": 49,
    "start_time": "2024-10-14T23:13:00.461Z"
   },
   {
    "duration": 4,
    "start_time": "2024-10-14T23:13:00.511Z"
   },
   {
    "duration": 803,
    "start_time": "2024-10-14T23:16:44.710Z"
   },
   {
    "duration": 536,
    "start_time": "2024-10-14T23:16:45.642Z"
   },
   {
    "duration": 36,
    "start_time": "2024-10-14T23:16:49.442Z"
   },
   {
    "duration": 8,
    "start_time": "2024-10-14T23:16:56.259Z"
   },
   {
    "duration": 8,
    "start_time": "2024-10-14T23:17:00.229Z"
   },
   {
    "duration": 7,
    "start_time": "2024-10-14T23:17:22.527Z"
   },
   {
    "duration": 5,
    "start_time": "2024-10-14T23:17:25.120Z"
   },
   {
    "duration": 4,
    "start_time": "2024-10-14T23:17:34.240Z"
   },
   {
    "duration": 117,
    "start_time": "2024-10-14T23:17:43.024Z"
   },
   {
    "duration": 211,
    "start_time": "2024-10-14T23:17:49.642Z"
   },
   {
    "duration": 187,
    "start_time": "2024-10-14T23:17:53.650Z"
   },
   {
    "duration": 44,
    "start_time": "2024-10-14T23:18:02.239Z"
   },
   {
    "duration": 39,
    "start_time": "2024-10-14T23:19:11.398Z"
   },
   {
    "duration": 69,
    "start_time": "2024-10-14T23:19:19.199Z"
   },
   {
    "duration": 205,
    "start_time": "2024-10-14T23:20:23.757Z"
   },
   {
    "duration": 14,
    "start_time": "2024-10-14T23:20:41.195Z"
   },
   {
    "duration": 27,
    "start_time": "2024-10-14T23:20:46.310Z"
   },
   {
    "duration": 169,
    "start_time": "2024-10-14T23:21:49.976Z"
   },
   {
    "duration": 31,
    "start_time": "2024-10-14T23:21:56.020Z"
   },
   {
    "duration": 23,
    "start_time": "2024-10-14T23:22:29.259Z"
   },
   {
    "duration": 20,
    "start_time": "2024-10-14T23:22:35.169Z"
   },
   {
    "duration": 135,
    "start_time": "2024-10-14T23:22:51.868Z"
   },
   {
    "duration": 15,
    "start_time": "2024-10-14T23:22:58.931Z"
   },
   {
    "duration": 25,
    "start_time": "2024-10-14T23:23:08.804Z"
   },
   {
    "duration": 10,
    "start_time": "2024-10-14T23:23:14.363Z"
   },
   {
    "duration": 9,
    "start_time": "2024-10-14T23:23:23.891Z"
   },
   {
    "duration": 8,
    "start_time": "2024-10-14T23:25:10.883Z"
   },
   {
    "duration": 8,
    "start_time": "2024-10-14T23:25:39.009Z"
   },
   {
    "duration": 9,
    "start_time": "2024-10-14T23:26:00.546Z"
   },
   {
    "duration": 8,
    "start_time": "2024-10-14T23:26:21.062Z"
   },
   {
    "duration": 9,
    "start_time": "2024-10-14T23:27:57.828Z"
   },
   {
    "duration": 209,
    "start_time": "2024-10-14T23:28:01.054Z"
   },
   {
    "duration": 210,
    "start_time": "2024-10-14T23:28:56.777Z"
   },
   {
    "duration": 9,
    "start_time": "2024-10-14T23:29:04.498Z"
   },
   {
    "duration": 8,
    "start_time": "2024-10-14T23:29:38.876Z"
   },
   {
    "duration": 9,
    "start_time": "2024-10-14T23:30:05.062Z"
   },
   {
    "duration": 6,
    "start_time": "2024-10-14T23:30:10.348Z"
   },
   {
    "duration": 17,
    "start_time": "2024-10-14T23:30:26.070Z"
   },
   {
    "duration": 3,
    "start_time": "2024-10-14T23:30:31.960Z"
   },
   {
    "duration": 6,
    "start_time": "2024-10-14T23:30:34.703Z"
   },
   {
    "duration": 15,
    "start_time": "2024-10-14T23:30:43.208Z"
   },
   {
    "duration": 21,
    "start_time": "2024-10-14T23:31:10.361Z"
   },
   {
    "duration": 17,
    "start_time": "2024-10-14T23:42:28.256Z"
   },
   {
    "duration": 8,
    "start_time": "2024-10-14T23:42:43.210Z"
   },
   {
    "duration": 21,
    "start_time": "2024-10-14T23:42:48.097Z"
   },
   {
    "duration": 16,
    "start_time": "2024-10-14T23:45:24.366Z"
   },
   {
    "duration": 4,
    "start_time": "2024-10-14T23:45:33.676Z"
   },
   {
    "duration": 799,
    "start_time": "2024-10-14T23:55:40.742Z"
   },
   {
    "duration": 552,
    "start_time": "2024-10-14T23:55:41.543Z"
   },
   {
    "duration": 62,
    "start_time": "2024-10-14T23:55:42.099Z"
   },
   {
    "duration": 8,
    "start_time": "2024-10-14T23:55:42.164Z"
   },
   {
    "duration": 7,
    "start_time": "2024-10-14T23:55:42.176Z"
   },
   {
    "duration": 25,
    "start_time": "2024-10-14T23:55:42.185Z"
   },
   {
    "duration": 6,
    "start_time": "2024-10-14T23:55:42.213Z"
   },
   {
    "duration": 7,
    "start_time": "2024-10-14T23:55:42.220Z"
   },
   {
    "duration": 123,
    "start_time": "2024-10-14T23:55:42.229Z"
   },
   {
    "duration": 219,
    "start_time": "2024-10-14T23:55:42.354Z"
   },
   {
    "duration": 182,
    "start_time": "2024-10-14T23:55:42.574Z"
   },
   {
    "duration": 51,
    "start_time": "2024-10-14T23:55:42.758Z"
   },
   {
    "duration": 87,
    "start_time": "2024-10-14T23:55:42.811Z"
   },
   {
    "duration": 217,
    "start_time": "2024-10-14T23:55:42.902Z"
   },
   {
    "duration": 14,
    "start_time": "2024-10-14T23:55:43.120Z"
   },
   {
    "duration": 22,
    "start_time": "2024-10-14T23:55:43.136Z"
   },
   {
    "duration": 167,
    "start_time": "2024-10-14T23:55:43.160Z"
   },
   {
    "duration": 27,
    "start_time": "2024-10-14T23:55:43.328Z"
   },
   {
    "duration": 178,
    "start_time": "2024-10-14T23:55:43.358Z"
   },
   {
    "duration": 159,
    "start_time": "2024-10-14T23:55:43.537Z"
   },
   {
    "duration": 27,
    "start_time": "2024-10-14T23:55:43.698Z"
   },
   {
    "duration": 17,
    "start_time": "2024-10-14T23:55:43.728Z"
   },
   {
    "duration": 160,
    "start_time": "2024-10-14T23:55:43.747Z"
   },
   {
    "duration": 14,
    "start_time": "2024-10-14T23:55:43.909Z"
   },
   {
    "duration": 10,
    "start_time": "2024-10-14T23:55:43.925Z"
   },
   {
    "duration": 255,
    "start_time": "2024-10-14T23:55:43.936Z"
   },
   {
    "duration": 17,
    "start_time": "2024-10-14T23:55:44.193Z"
   },
   {
    "duration": 9,
    "start_time": "2024-10-14T23:55:44.211Z"
   },
   {
    "duration": 5,
    "start_time": "2024-10-14T23:55:44.222Z"
   },
   {
    "duration": 14,
    "start_time": "2024-10-14T23:55:44.230Z"
   },
   {
    "duration": 4,
    "start_time": "2024-10-14T23:55:44.246Z"
   },
   {
    "duration": 7,
    "start_time": "2024-10-14T23:55:44.251Z"
   },
   {
    "duration": 12,
    "start_time": "2024-10-14T23:55:44.260Z"
   },
   {
    "duration": 36,
    "start_time": "2024-10-14T23:55:44.274Z"
   },
   {
    "duration": 968,
    "start_time": "2024-10-15T00:06:20.241Z"
   },
   {
    "duration": 697,
    "start_time": "2024-10-15T00:06:21.214Z"
   },
   {
    "duration": 60,
    "start_time": "2024-10-15T00:06:21.912Z"
   },
   {
    "duration": 8,
    "start_time": "2024-10-15T00:06:21.974Z"
   },
   {
    "duration": 8,
    "start_time": "2024-10-15T00:06:21.985Z"
   },
   {
    "duration": 5,
    "start_time": "2024-10-15T00:06:22.009Z"
   },
   {
    "duration": 5,
    "start_time": "2024-10-15T00:06:22.016Z"
   },
   {
    "duration": 5,
    "start_time": "2024-10-15T00:06:22.022Z"
   },
   {
    "duration": 143,
    "start_time": "2024-10-15T00:06:22.028Z"
   },
   {
    "duration": 320,
    "start_time": "2024-10-15T00:06:22.173Z"
   },
   {
    "duration": 265,
    "start_time": "2024-10-15T00:06:22.495Z"
   },
   {
    "duration": 64,
    "start_time": "2024-10-15T00:06:22.762Z"
   },
   {
    "duration": 91,
    "start_time": "2024-10-15T00:06:22.829Z"
   },
   {
    "duration": 292,
    "start_time": "2024-10-15T00:06:22.925Z"
   },
   {
    "duration": 16,
    "start_time": "2024-10-15T00:06:23.221Z"
   },
   {
    "duration": 25,
    "start_time": "2024-10-15T00:06:23.239Z"
   },
   {
    "duration": 271,
    "start_time": "2024-10-15T00:06:23.266Z"
   },
   {
    "duration": 32,
    "start_time": "2024-10-15T00:06:23.539Z"
   },
   {
    "duration": 159,
    "start_time": "2024-10-15T00:06:23.573Z"
   },
   {
    "duration": 192,
    "start_time": "2024-10-15T00:06:23.734Z"
   },
   {
    "duration": 23,
    "start_time": "2024-10-15T00:06:23.929Z"
   },
   {
    "duration": 18,
    "start_time": "2024-10-15T00:06:23.955Z"
   },
   {
    "duration": 172,
    "start_time": "2024-10-15T00:06:23.975Z"
   },
   {
    "duration": 19,
    "start_time": "2024-10-15T00:06:24.149Z"
   },
   {
    "duration": 9,
    "start_time": "2024-10-15T00:06:24.170Z"
   },
   {
    "duration": 248,
    "start_time": "2024-10-15T00:06:24.181Z"
   },
   {
    "duration": 8,
    "start_time": "2024-10-15T00:06:24.431Z"
   },
   {
    "duration": 9,
    "start_time": "2024-10-15T00:06:24.441Z"
   },
   {
    "duration": 5,
    "start_time": "2024-10-15T00:06:24.451Z"
   },
   {
    "duration": 17,
    "start_time": "2024-10-15T00:06:24.458Z"
   },
   {
    "duration": 35,
    "start_time": "2024-10-15T00:06:24.477Z"
   },
   {
    "duration": 6,
    "start_time": "2024-10-15T00:06:24.514Z"
   },
   {
    "duration": 15,
    "start_time": "2024-10-15T00:06:24.522Z"
   },
   {
    "duration": 5,
    "start_time": "2024-10-15T00:06:24.538Z"
   },
   {
    "duration": 857,
    "start_time": "2024-10-15T00:09:46.931Z"
   },
   {
    "duration": 591,
    "start_time": "2024-10-15T00:09:47.790Z"
   },
   {
    "duration": 59,
    "start_time": "2024-10-15T00:09:48.383Z"
   },
   {
    "duration": 8,
    "start_time": "2024-10-15T00:09:48.443Z"
   },
   {
    "duration": 8,
    "start_time": "2024-10-15T00:09:48.455Z"
   },
   {
    "duration": 6,
    "start_time": "2024-10-15T00:09:48.464Z"
   },
   {
    "duration": 4,
    "start_time": "2024-10-15T00:09:48.472Z"
   },
   {
    "duration": 5,
    "start_time": "2024-10-15T00:09:48.478Z"
   },
   {
    "duration": 138,
    "start_time": "2024-10-15T00:09:48.509Z"
   },
   {
    "duration": 209,
    "start_time": "2024-10-15T00:09:48.649Z"
   },
   {
    "duration": 193,
    "start_time": "2024-10-15T00:09:48.860Z"
   },
   {
    "duration": 40,
    "start_time": "2024-10-15T00:09:49.054Z"
   },
   {
    "duration": 90,
    "start_time": "2024-10-15T00:09:49.096Z"
   },
   {
    "duration": 236,
    "start_time": "2024-10-15T00:09:49.190Z"
   },
   {
    "duration": 13,
    "start_time": "2024-10-15T00:09:49.428Z"
   },
   {
    "duration": 20,
    "start_time": "2024-10-15T00:09:49.443Z"
   },
   {
    "duration": 155,
    "start_time": "2024-10-15T00:09:49.465Z"
   },
   {
    "duration": 24,
    "start_time": "2024-10-15T00:09:49.622Z"
   },
   {
    "duration": 144,
    "start_time": "2024-10-15T00:09:49.648Z"
   },
   {
    "duration": 161,
    "start_time": "2024-10-15T00:09:49.794Z"
   },
   {
    "duration": 30,
    "start_time": "2024-10-15T00:09:49.957Z"
   },
   {
    "duration": 26,
    "start_time": "2024-10-15T00:09:49.990Z"
   },
   {
    "duration": 163,
    "start_time": "2024-10-15T00:09:50.018Z"
   },
   {
    "duration": 16,
    "start_time": "2024-10-15T00:09:50.183Z"
   },
   {
    "duration": 11,
    "start_time": "2024-10-15T00:09:50.208Z"
   },
   {
    "duration": 232,
    "start_time": "2024-10-15T00:09:50.221Z"
   },
   {
    "duration": 7,
    "start_time": "2024-10-15T00:09:50.455Z"
   },
   {
    "duration": 8,
    "start_time": "2024-10-15T00:09:50.464Z"
   },
   {
    "duration": 6,
    "start_time": "2024-10-15T00:09:50.474Z"
   },
   {
    "duration": 38,
    "start_time": "2024-10-15T00:09:50.482Z"
   },
   {
    "duration": 5,
    "start_time": "2024-10-15T00:09:50.522Z"
   },
   {
    "duration": 8,
    "start_time": "2024-10-15T00:09:50.529Z"
   },
   {
    "duration": 15,
    "start_time": "2024-10-15T00:09:50.538Z"
   },
   {
    "duration": 5,
    "start_time": "2024-10-15T00:09:50.554Z"
   },
   {
    "duration": 776,
    "start_time": "2024-10-15T00:16:21.750Z"
   },
   {
    "duration": 557,
    "start_time": "2024-10-15T00:16:22.575Z"
   },
   {
    "duration": 40,
    "start_time": "2024-10-15T00:16:25.912Z"
   },
   {
    "duration": 8,
    "start_time": "2024-10-15T00:16:28.827Z"
   },
   {
    "duration": 9,
    "start_time": "2024-10-15T00:16:31.588Z"
   },
   {
    "duration": 6,
    "start_time": "2024-10-15T00:16:36.237Z"
   },
   {
    "duration": 5,
    "start_time": "2024-10-15T00:16:36.978Z"
   },
   {
    "duration": 6,
    "start_time": "2024-10-15T00:16:38.136Z"
   },
   {
    "duration": 107,
    "start_time": "2024-10-15T00:16:44.283Z"
   },
   {
    "duration": 5,
    "start_time": "2024-10-15T00:17:06.152Z"
   },
   {
    "duration": 794,
    "start_time": "2024-10-15T00:18:38.544Z"
   },
   {
    "duration": 533,
    "start_time": "2024-10-15T00:18:39.340Z"
   },
   {
    "duration": 37,
    "start_time": "2024-10-15T00:18:39.874Z"
   },
   {
    "duration": 7,
    "start_time": "2024-10-15T00:18:39.913Z"
   },
   {
    "duration": 7,
    "start_time": "2024-10-15T00:18:39.922Z"
   },
   {
    "duration": 5,
    "start_time": "2024-10-15T00:18:39.931Z"
   },
   {
    "duration": 4,
    "start_time": "2024-10-15T00:18:39.938Z"
   },
   {
    "duration": 4,
    "start_time": "2024-10-15T00:18:39.944Z"
   },
   {
    "duration": 138,
    "start_time": "2024-10-15T00:18:39.950Z"
   },
   {
    "duration": 206,
    "start_time": "2024-10-15T00:18:40.091Z"
   },
   {
    "duration": 185,
    "start_time": "2024-10-15T00:18:40.299Z"
   },
   {
    "duration": 47,
    "start_time": "2024-10-15T00:18:40.486Z"
   },
   {
    "duration": 61,
    "start_time": "2024-10-15T00:18:40.535Z"
   },
   {
    "duration": 213,
    "start_time": "2024-10-15T00:18:40.598Z"
   },
   {
    "duration": 13,
    "start_time": "2024-10-15T00:18:40.813Z"
   },
   {
    "duration": 17,
    "start_time": "2024-10-15T00:18:40.828Z"
   },
   {
    "duration": 156,
    "start_time": "2024-10-15T00:18:40.847Z"
   },
   {
    "duration": 24,
    "start_time": "2024-10-15T00:18:41.009Z"
   },
   {
    "duration": 132,
    "start_time": "2024-10-15T00:18:41.035Z"
   },
   {
    "duration": 157,
    "start_time": "2024-10-15T00:18:41.169Z"
   },
   {
    "duration": 22,
    "start_time": "2024-10-15T00:18:41.329Z"
   },
   {
    "duration": 17,
    "start_time": "2024-10-15T00:18:41.354Z"
   },
   {
    "duration": 162,
    "start_time": "2024-10-15T00:18:41.372Z"
   },
   {
    "duration": 14,
    "start_time": "2024-10-15T00:18:41.536Z"
   },
   {
    "duration": 7,
    "start_time": "2024-10-15T00:18:41.552Z"
   },
   {
    "duration": 208,
    "start_time": "2024-10-15T00:18:41.561Z"
   },
   {
    "duration": 8,
    "start_time": "2024-10-15T00:18:41.771Z"
   },
   {
    "duration": 8,
    "start_time": "2024-10-15T00:18:41.783Z"
   },
   {
    "duration": 6,
    "start_time": "2024-10-15T00:18:41.809Z"
   },
   {
    "duration": 14,
    "start_time": "2024-10-15T00:18:41.816Z"
   },
   {
    "duration": 3,
    "start_time": "2024-10-15T00:18:41.832Z"
   },
   {
    "duration": 6,
    "start_time": "2024-10-15T00:18:41.838Z"
   },
   {
    "duration": 13,
    "start_time": "2024-10-15T00:18:41.846Z"
   },
   {
    "duration": 4,
    "start_time": "2024-10-15T00:18:41.861Z"
   },
   {
    "duration": 320,
    "start_time": "2024-10-15T00:18:56.390Z"
   },
   {
    "duration": 3,
    "start_time": "2024-10-15T00:51:03.974Z"
   },
   {
    "duration": 485,
    "start_time": "2024-10-15T00:51:06.715Z"
   },
   {
    "duration": 38,
    "start_time": "2024-10-15T00:51:10.657Z"
   },
   {
    "duration": 8,
    "start_time": "2024-10-15T00:51:18.386Z"
   },
   {
    "duration": 9,
    "start_time": "2024-10-15T00:51:21.057Z"
   },
   {
    "duration": 22,
    "start_time": "2024-10-15T00:57:47.443Z"
   },
   {
    "duration": 5,
    "start_time": "2024-10-15T00:58:01.625Z"
   },
   {
    "duration": 833,
    "start_time": "2024-10-15T00:58:31.594Z"
   },
   {
    "duration": 530,
    "start_time": "2024-10-15T00:58:32.430Z"
   },
   {
    "duration": 59,
    "start_time": "2024-10-15T00:58:32.962Z"
   },
   {
    "duration": 8,
    "start_time": "2024-10-15T00:58:33.023Z"
   },
   {
    "duration": 7,
    "start_time": "2024-10-15T00:58:33.034Z"
   },
   {
    "duration": 6,
    "start_time": "2024-10-15T00:58:33.043Z"
   },
   {
    "duration": 6,
    "start_time": "2024-10-15T00:58:33.050Z"
   },
   {
    "duration": 4,
    "start_time": "2024-10-15T00:58:33.057Z"
   },
   {
    "duration": 135,
    "start_time": "2024-10-15T00:58:33.063Z"
   },
   {
    "duration": 228,
    "start_time": "2024-10-15T00:58:33.200Z"
   },
   {
    "duration": 186,
    "start_time": "2024-10-15T00:58:33.430Z"
   },
   {
    "duration": 40,
    "start_time": "2024-10-15T00:58:33.618Z"
   },
   {
    "duration": 81,
    "start_time": "2024-10-15T00:58:33.659Z"
   },
   {
    "duration": 213,
    "start_time": "2024-10-15T00:58:33.743Z"
   },
   {
    "duration": 15,
    "start_time": "2024-10-15T00:58:33.959Z"
   },
   {
    "duration": 37,
    "start_time": "2024-10-15T00:58:33.975Z"
   },
   {
    "duration": 152,
    "start_time": "2024-10-15T00:58:34.014Z"
   },
   {
    "duration": 31,
    "start_time": "2024-10-15T00:58:34.167Z"
   },
   {
    "duration": 142,
    "start_time": "2024-10-15T00:58:34.208Z"
   },
   {
    "duration": 160,
    "start_time": "2024-10-15T00:58:34.352Z"
   },
   {
    "duration": 25,
    "start_time": "2024-10-15T00:58:34.514Z"
   },
   {
    "duration": 20,
    "start_time": "2024-10-15T00:58:34.541Z"
   },
   {
    "duration": 173,
    "start_time": "2024-10-15T00:58:34.563Z"
   },
   {
    "duration": 16,
    "start_time": "2024-10-15T00:58:34.738Z"
   },
   {
    "duration": 10,
    "start_time": "2024-10-15T00:58:34.756Z"
   },
   {
    "duration": 231,
    "start_time": "2024-10-15T00:58:34.768Z"
   },
   {
    "duration": 14,
    "start_time": "2024-10-15T00:58:35.001Z"
   },
   {
    "duration": 9,
    "start_time": "2024-10-15T00:58:35.018Z"
   },
   {
    "duration": 7,
    "start_time": "2024-10-15T00:58:35.029Z"
   },
   {
    "duration": 18,
    "start_time": "2024-10-15T00:58:35.038Z"
   },
   {
    "duration": 4,
    "start_time": "2024-10-15T00:58:35.059Z"
   },
   {
    "duration": 8,
    "start_time": "2024-10-15T00:58:35.065Z"
   },
   {
    "duration": 44,
    "start_time": "2024-10-15T00:58:35.074Z"
   },
   {
    "duration": 6,
    "start_time": "2024-10-15T00:58:35.120Z"
   },
   {
    "duration": 5,
    "start_time": "2024-10-15T01:00:02.839Z"
   },
   {
    "duration": 7,
    "start_time": "2024-10-15T01:01:02.016Z"
   },
   {
    "duration": 5,
    "start_time": "2024-10-15T01:01:12.152Z"
   },
   {
    "duration": 91,
    "start_time": "2024-10-15T01:10:18.732Z"
   },
   {
    "duration": 92,
    "start_time": "2024-10-15T01:10:57.232Z"
   },
   {
    "duration": 58,
    "start_time": "2024-10-15T01:11:16.101Z"
   },
   {
    "duration": 127,
    "start_time": "2024-10-15T01:13:57.802Z"
   },
   {
    "duration": 89,
    "start_time": "2024-10-15T01:15:47.318Z"
   },
   {
    "duration": 59,
    "start_time": "2024-10-15T01:15:58.567Z"
   },
   {
    "duration": 58,
    "start_time": "2024-10-15T01:16:12.410Z"
   },
   {
    "duration": 56,
    "start_time": "2024-10-15T01:16:38.819Z"
   },
   {
    "duration": 61,
    "start_time": "2024-10-15T01:27:27.242Z"
   },
   {
    "duration": 303,
    "start_time": "2024-10-15T01:27:46.696Z"
   },
   {
    "duration": 67,
    "start_time": "2024-10-15T01:29:56.586Z"
   },
   {
    "duration": 277,
    "start_time": "2024-10-15T01:30:37.872Z"
   },
   {
    "duration": 78,
    "start_time": "2024-10-15T01:30:53.439Z"
   },
   {
    "duration": 67,
    "start_time": "2024-10-15T01:31:12.378Z"
   },
   {
    "duration": 335,
    "start_time": "2024-10-15T01:34:16.075Z"
   },
   {
    "duration": 303,
    "start_time": "2024-10-15T01:37:03.198Z"
   },
   {
    "duration": 6,
    "start_time": "2024-10-15T01:41:27.671Z"
   },
   {
    "duration": 75,
    "start_time": "2024-10-15T01:50:29.285Z"
   },
   {
    "duration": 69,
    "start_time": "2024-10-15T01:52:09.522Z"
   },
   {
    "duration": 67,
    "start_time": "2024-10-15T01:52:18.400Z"
   },
   {
    "duration": 77,
    "start_time": "2024-10-15T01:53:29.635Z"
   },
   {
    "duration": 3,
    "start_time": "2024-10-15T01:54:23.831Z"
   },
   {
    "duration": 522,
    "start_time": "2024-10-15T01:54:23.839Z"
   },
   {
    "duration": 37,
    "start_time": "2024-10-15T01:54:24.363Z"
   },
   {
    "duration": 13,
    "start_time": "2024-10-15T01:54:24.402Z"
   },
   {
    "duration": 7,
    "start_time": "2024-10-15T01:54:24.418Z"
   },
   {
    "duration": 5,
    "start_time": "2024-10-15T01:54:24.428Z"
   },
   {
    "duration": 5,
    "start_time": "2024-10-15T01:54:24.434Z"
   },
   {
    "duration": 4,
    "start_time": "2024-10-15T01:54:24.442Z"
   },
   {
    "duration": 114,
    "start_time": "2024-10-15T01:54:24.448Z"
   },
   {
    "duration": 199,
    "start_time": "2024-10-15T01:54:24.564Z"
   },
   {
    "duration": 152,
    "start_time": "2024-10-15T01:54:24.765Z"
   },
   {
    "duration": 40,
    "start_time": "2024-10-15T01:54:24.919Z"
   },
   {
    "duration": 87,
    "start_time": "2024-10-15T01:54:24.961Z"
   },
   {
    "duration": 227,
    "start_time": "2024-10-15T01:54:25.051Z"
   },
   {
    "duration": 13,
    "start_time": "2024-10-15T01:54:25.283Z"
   },
   {
    "duration": 28,
    "start_time": "2024-10-15T01:54:25.298Z"
   },
   {
    "duration": 140,
    "start_time": "2024-10-15T01:54:25.328Z"
   },
   {
    "duration": 42,
    "start_time": "2024-10-15T01:54:25.471Z"
   },
   {
    "duration": 124,
    "start_time": "2024-10-15T01:54:25.516Z"
   },
   {
    "duration": 226,
    "start_time": "2024-10-15T01:54:25.641Z"
   },
   {
    "duration": 30,
    "start_time": "2024-10-15T01:54:25.869Z"
   },
   {
    "duration": 21,
    "start_time": "2024-10-15T01:54:25.900Z"
   },
   {
    "duration": 156,
    "start_time": "2024-10-15T01:54:25.923Z"
   },
   {
    "duration": 14,
    "start_time": "2024-10-15T01:54:26.081Z"
   },
   {
    "duration": 18,
    "start_time": "2024-10-15T01:54:26.097Z"
   },
   {
    "duration": 275,
    "start_time": "2024-10-15T01:54:26.117Z"
   },
   {
    "duration": 17,
    "start_time": "2024-10-15T01:54:26.393Z"
   },
   {
    "duration": 9,
    "start_time": "2024-10-15T01:54:26.411Z"
   },
   {
    "duration": 6,
    "start_time": "2024-10-15T01:54:26.421Z"
   },
   {
    "duration": 19,
    "start_time": "2024-10-15T01:54:26.429Z"
   },
   {
    "duration": 6,
    "start_time": "2024-10-15T01:54:26.450Z"
   },
   {
    "duration": 10,
    "start_time": "2024-10-15T01:54:26.459Z"
   },
   {
    "duration": 45,
    "start_time": "2024-10-15T01:54:26.471Z"
   },
   {
    "duration": 6,
    "start_time": "2024-10-15T01:54:26.518Z"
   },
   {
    "duration": 6,
    "start_time": "2024-10-15T01:54:26.525Z"
   },
   {
    "duration": 115,
    "start_time": "2024-10-15T01:54:26.533Z"
   },
   {
    "duration": 0,
    "start_time": "2024-10-15T01:54:26.649Z"
   },
   {
    "duration": 51,
    "start_time": "2024-10-15T01:54:42.557Z"
   },
   {
    "duration": 82,
    "start_time": "2024-10-15T01:57:32.542Z"
   },
   {
    "duration": 47,
    "start_time": "2024-10-15T01:57:51.247Z"
   },
   {
    "duration": 322,
    "start_time": "2024-10-15T01:57:54.704Z"
   },
   {
    "duration": 6,
    "start_time": "2024-10-15T02:01:22.658Z"
   },
   {
    "duration": 58,
    "start_time": "2024-10-15T02:01:56.667Z"
   },
   {
    "duration": 50,
    "start_time": "2024-10-15T02:02:26.499Z"
   },
   {
    "duration": 48,
    "start_time": "2024-10-15T02:02:46.282Z"
   },
   {
    "duration": 8,
    "start_time": "2024-10-15T02:03:42.370Z"
   },
   {
    "duration": 4,
    "start_time": "2024-10-15T02:04:12.750Z"
   },
   {
    "duration": 50,
    "start_time": "2024-10-15T02:05:12.097Z"
   },
   {
    "duration": 54,
    "start_time": "2024-10-15T02:05:24.130Z"
   },
   {
    "duration": 56,
    "start_time": "2024-10-15T02:05:57.408Z"
   },
   {
    "duration": 271,
    "start_time": "2024-10-15T02:06:02.606Z"
   },
   {
    "duration": 3,
    "start_time": "2024-10-15T02:25:36.113Z"
   },
   {
    "duration": 50,
    "start_time": "2024-10-15T02:45:41.411Z"
   },
   {
    "duration": 6,
    "start_time": "2024-10-15T02:45:46.684Z"
   },
   {
    "duration": 10,
    "start_time": "2024-10-15T02:46:04.854Z"
   },
   {
    "duration": 10,
    "start_time": "2024-10-15T02:46:38.892Z"
   },
   {
    "duration": 9,
    "start_time": "2024-10-15T02:47:20.564Z"
   },
   {
    "duration": 9,
    "start_time": "2024-10-15T02:49:32.315Z"
   },
   {
    "duration": 11,
    "start_time": "2024-10-15T02:49:59.434Z"
   },
   {
    "duration": 695,
    "start_time": "2024-10-15T03:03:30.372Z"
   },
   {
    "duration": 221,
    "start_time": "2024-10-15T03:03:45.409Z"
   },
   {
    "duration": 220,
    "start_time": "2024-10-15T03:05:03.307Z"
   },
   {
    "duration": 173,
    "start_time": "2024-10-15T03:05:26.782Z"
   },
   {
    "duration": 284,
    "start_time": "2024-10-15T03:07:34.562Z"
   },
   {
    "duration": 202,
    "start_time": "2024-10-15T03:07:48.927Z"
   },
   {
    "duration": 350,
    "start_time": "2024-10-15T03:10:27.500Z"
   },
   {
    "duration": 318,
    "start_time": "2024-10-15T03:11:06.871Z"
   },
   {
    "duration": 6,
    "start_time": "2024-10-15T03:11:21.304Z"
   },
   {
    "duration": 324,
    "start_time": "2024-10-15T03:11:32.980Z"
   },
   {
    "duration": 322,
    "start_time": "2024-10-15T03:12:14.565Z"
   },
   {
    "duration": 308,
    "start_time": "2024-10-15T03:13:02.624Z"
   },
   {
    "duration": 343,
    "start_time": "2024-10-15T03:13:58.386Z"
   },
   {
    "duration": 422,
    "start_time": "2024-10-15T03:14:12.204Z"
   },
   {
    "duration": 2583,
    "start_time": "2024-10-15T19:06:40.917Z"
   },
   {
    "duration": 574,
    "start_time": "2024-10-15T19:06:43.502Z"
   },
   {
    "duration": 38,
    "start_time": "2024-10-15T19:06:44.077Z"
   },
   {
    "duration": 8,
    "start_time": "2024-10-15T19:06:44.117Z"
   },
   {
    "duration": 7,
    "start_time": "2024-10-15T19:06:44.127Z"
   },
   {
    "duration": 6,
    "start_time": "2024-10-15T19:06:44.136Z"
   },
   {
    "duration": 4,
    "start_time": "2024-10-15T19:06:44.146Z"
   },
   {
    "duration": 5,
    "start_time": "2024-10-15T19:06:44.152Z"
   },
   {
    "duration": 137,
    "start_time": "2024-10-15T19:06:44.159Z"
   },
   {
    "duration": 208,
    "start_time": "2024-10-15T19:06:44.299Z"
   },
   {
    "duration": 185,
    "start_time": "2024-10-15T19:06:44.511Z"
   },
   {
    "duration": 47,
    "start_time": "2024-10-15T19:06:44.698Z"
   },
   {
    "duration": 80,
    "start_time": "2024-10-15T19:06:44.746Z"
   },
   {
    "duration": 173,
    "start_time": "2024-10-15T19:06:44.828Z"
   },
   {
    "duration": 20,
    "start_time": "2024-10-15T19:06:45.003Z"
   },
   {
    "duration": 20,
    "start_time": "2024-10-15T19:06:45.026Z"
   },
   {
    "duration": 150,
    "start_time": "2024-10-15T19:06:45.048Z"
   },
   {
    "duration": 34,
    "start_time": "2024-10-15T19:06:45.201Z"
   },
   {
    "duration": 154,
    "start_time": "2024-10-15T19:06:45.237Z"
   },
   {
    "duration": 159,
    "start_time": "2024-10-15T19:06:45.393Z"
   },
   {
    "duration": 23,
    "start_time": "2024-10-15T19:06:45.555Z"
   },
   {
    "duration": 34,
    "start_time": "2024-10-15T19:06:45.580Z"
   },
   {
    "duration": 164,
    "start_time": "2024-10-15T19:06:45.616Z"
   },
   {
    "duration": 70,
    "start_time": "2024-10-15T19:06:45.782Z"
   },
   {
    "duration": 12,
    "start_time": "2024-10-15T19:06:45.854Z"
   },
   {
    "duration": 214,
    "start_time": "2024-10-15T19:06:45.868Z"
   },
   {
    "duration": 8,
    "start_time": "2024-10-15T19:06:46.085Z"
   },
   {
    "duration": 8,
    "start_time": "2024-10-15T19:06:46.111Z"
   },
   {
    "duration": 5,
    "start_time": "2024-10-15T19:06:46.120Z"
   },
   {
    "duration": 13,
    "start_time": "2024-10-15T19:06:46.127Z"
   },
   {
    "duration": 3,
    "start_time": "2024-10-15T19:06:46.142Z"
   },
   {
    "duration": 6,
    "start_time": "2024-10-15T19:06:46.147Z"
   },
   {
    "duration": 13,
    "start_time": "2024-10-15T19:06:46.154Z"
   },
   {
    "duration": 3,
    "start_time": "2024-10-15T19:06:46.168Z"
   },
   {
    "duration": 5,
    "start_time": "2024-10-15T19:06:46.212Z"
   },
   {
    "duration": 59,
    "start_time": "2024-10-15T19:06:46.219Z"
   },
   {
    "duration": 10,
    "start_time": "2024-10-15T19:06:46.281Z"
   },
   {
    "duration": 346,
    "start_time": "2024-10-15T19:06:46.293Z"
   },
   {
    "duration": 262,
    "start_time": "2024-10-15T19:06:46.641Z"
   },
   {
    "duration": 2784,
    "start_time": "2024-10-16T02:01:41.392Z"
   },
   {
    "duration": 639,
    "start_time": "2024-10-16T02:01:44.179Z"
   },
   {
    "duration": 54,
    "start_time": "2024-10-16T02:01:44.819Z"
   },
   {
    "duration": 8,
    "start_time": "2024-10-16T02:01:44.875Z"
   },
   {
    "duration": 7,
    "start_time": "2024-10-16T02:01:44.886Z"
   },
   {
    "duration": 7,
    "start_time": "2024-10-16T02:01:44.895Z"
   },
   {
    "duration": 5,
    "start_time": "2024-10-16T02:01:44.903Z"
   },
   {
    "duration": 29,
    "start_time": "2024-10-16T02:01:44.910Z"
   },
   {
    "duration": 135,
    "start_time": "2024-10-16T02:01:44.941Z"
   },
   {
    "duration": 223,
    "start_time": "2024-10-16T02:01:45.078Z"
   },
   {
    "duration": 222,
    "start_time": "2024-10-16T02:01:45.303Z"
   },
   {
    "duration": 47,
    "start_time": "2024-10-16T02:01:45.531Z"
   },
   {
    "duration": 79,
    "start_time": "2024-10-16T02:01:45.581Z"
   },
   {
    "duration": 194,
    "start_time": "2024-10-16T02:01:45.664Z"
   },
   {
    "duration": 12,
    "start_time": "2024-10-16T02:01:45.860Z"
   },
   {
    "duration": 18,
    "start_time": "2024-10-16T02:01:45.874Z"
   },
   {
    "duration": 150,
    "start_time": "2024-10-16T02:01:45.893Z"
   },
   {
    "duration": 27,
    "start_time": "2024-10-16T02:01:46.045Z"
   },
   {
    "duration": 202,
    "start_time": "2024-10-16T02:01:46.074Z"
   },
   {
    "duration": 167,
    "start_time": "2024-10-16T02:01:46.279Z"
   },
   {
    "duration": 30,
    "start_time": "2024-10-16T02:01:46.448Z"
   },
   {
    "duration": 19,
    "start_time": "2024-10-16T02:01:46.479Z"
   },
   {
    "duration": 184,
    "start_time": "2024-10-16T02:01:46.500Z"
   },
   {
    "duration": 14,
    "start_time": "2024-10-16T02:01:46.686Z"
   },
   {
    "duration": 9,
    "start_time": "2024-10-16T02:01:46.701Z"
   },
   {
    "duration": 253,
    "start_time": "2024-10-16T02:01:46.712Z"
   },
   {
    "duration": 8,
    "start_time": "2024-10-16T02:01:46.967Z"
   },
   {
    "duration": 8,
    "start_time": "2024-10-16T02:01:46.977Z"
   },
   {
    "duration": 5,
    "start_time": "2024-10-16T02:01:46.987Z"
   },
   {
    "duration": 15,
    "start_time": "2024-10-16T02:01:46.993Z"
   },
   {
    "duration": 40,
    "start_time": "2024-10-16T02:01:47.010Z"
   },
   {
    "duration": 8,
    "start_time": "2024-10-16T02:01:47.056Z"
   },
   {
    "duration": 13,
    "start_time": "2024-10-16T02:01:47.066Z"
   },
   {
    "duration": 3,
    "start_time": "2024-10-16T02:01:47.081Z"
   },
   {
    "duration": 4,
    "start_time": "2024-10-16T02:01:47.086Z"
   },
   {
    "duration": 85,
    "start_time": "2024-10-16T02:01:47.092Z"
   },
   {
    "duration": 10,
    "start_time": "2024-10-16T02:01:47.180Z"
   },
   {
    "duration": 352,
    "start_time": "2024-10-16T02:01:47.191Z"
   },
   {
    "duration": 316,
    "start_time": "2024-10-16T02:01:47.547Z"
   },
   {
    "duration": 949,
    "start_time": "2024-10-16T03:02:18.284Z"
   },
   {
    "duration": 110,
    "start_time": "2024-10-16T03:02:46.683Z"
   },
   {
    "duration": 126,
    "start_time": "2024-10-16T03:03:27.919Z"
   },
   {
    "duration": 91,
    "start_time": "2024-10-16T03:04:03.020Z"
   },
   {
    "duration": 3,
    "start_time": "2024-10-16T03:04:11.830Z"
   },
   {
    "duration": 547,
    "start_time": "2024-10-16T03:04:11.835Z"
   },
   {
    "duration": 39,
    "start_time": "2024-10-16T03:04:12.384Z"
   },
   {
    "duration": 8,
    "start_time": "2024-10-16T03:04:12.430Z"
   },
   {
    "duration": 8,
    "start_time": "2024-10-16T03:04:12.440Z"
   },
   {
    "duration": 6,
    "start_time": "2024-10-16T03:04:12.449Z"
   },
   {
    "duration": 4,
    "start_time": "2024-10-16T03:04:12.457Z"
   },
   {
    "duration": 5,
    "start_time": "2024-10-16T03:04:12.463Z"
   },
   {
    "duration": 126,
    "start_time": "2024-10-16T03:04:12.469Z"
   },
   {
    "duration": 225,
    "start_time": "2024-10-16T03:04:12.599Z"
   },
   {
    "duration": 150,
    "start_time": "2024-10-16T03:04:12.826Z"
   },
   {
    "duration": 103,
    "start_time": "2024-10-16T03:04:12.978Z"
   },
   {
    "duration": 0,
    "start_time": "2024-10-16T03:04:13.084Z"
   },
   {
    "duration": 0,
    "start_time": "2024-10-16T03:04:13.086Z"
   },
   {
    "duration": 0,
    "start_time": "2024-10-16T03:04:13.087Z"
   },
   {
    "duration": 0,
    "start_time": "2024-10-16T03:04:13.089Z"
   },
   {
    "duration": 0,
    "start_time": "2024-10-16T03:04:13.090Z"
   },
   {
    "duration": 0,
    "start_time": "2024-10-16T03:04:13.091Z"
   },
   {
    "duration": 0,
    "start_time": "2024-10-16T03:04:13.092Z"
   },
   {
    "duration": 0,
    "start_time": "2024-10-16T03:04:13.094Z"
   },
   {
    "duration": 0,
    "start_time": "2024-10-16T03:04:13.096Z"
   },
   {
    "duration": 0,
    "start_time": "2024-10-16T03:04:13.097Z"
   },
   {
    "duration": 0,
    "start_time": "2024-10-16T03:04:13.099Z"
   },
   {
    "duration": 0,
    "start_time": "2024-10-16T03:04:13.100Z"
   },
   {
    "duration": 0,
    "start_time": "2024-10-16T03:04:13.101Z"
   },
   {
    "duration": 0,
    "start_time": "2024-10-16T03:04:13.102Z"
   },
   {
    "duration": 0,
    "start_time": "2024-10-16T03:04:13.103Z"
   },
   {
    "duration": 0,
    "start_time": "2024-10-16T03:04:13.104Z"
   },
   {
    "duration": 0,
    "start_time": "2024-10-16T03:04:13.132Z"
   },
   {
    "duration": 0,
    "start_time": "2024-10-16T03:04:13.133Z"
   },
   {
    "duration": 0,
    "start_time": "2024-10-16T03:04:13.135Z"
   },
   {
    "duration": 0,
    "start_time": "2024-10-16T03:04:13.136Z"
   },
   {
    "duration": 0,
    "start_time": "2024-10-16T03:04:13.137Z"
   },
   {
    "duration": 0,
    "start_time": "2024-10-16T03:04:13.139Z"
   },
   {
    "duration": 0,
    "start_time": "2024-10-16T03:04:13.140Z"
   },
   {
    "duration": 0,
    "start_time": "2024-10-16T03:04:13.142Z"
   },
   {
    "duration": 0,
    "start_time": "2024-10-16T03:04:13.143Z"
   },
   {
    "duration": 0,
    "start_time": "2024-10-16T03:04:13.145Z"
   },
   {
    "duration": 0,
    "start_time": "2024-10-16T03:04:13.146Z"
   },
   {
    "duration": 0,
    "start_time": "2024-10-16T03:04:13.147Z"
   },
   {
    "duration": 505,
    "start_time": "2024-10-16T03:06:28.290Z"
   },
   {
    "duration": 20,
    "start_time": "2024-10-16T03:09:27.081Z"
   },
   {
    "duration": 374,
    "start_time": "2024-10-16T03:13:00.743Z"
   },
   {
    "duration": 175,
    "start_time": "2024-10-16T03:13:28.252Z"
   },
   {
    "duration": 1783,
    "start_time": "2024-10-16T03:16:43.163Z"
   },
   {
    "duration": 1819,
    "start_time": "2024-10-16T03:17:50.740Z"
   },
   {
    "duration": 3,
    "start_time": "2024-10-16T03:34:25.379Z"
   },
   {
    "duration": 511,
    "start_time": "2024-10-16T03:34:25.385Z"
   },
   {
    "duration": 46,
    "start_time": "2024-10-16T03:34:25.898Z"
   },
   {
    "duration": 16,
    "start_time": "2024-10-16T03:34:25.945Z"
   },
   {
    "duration": 7,
    "start_time": "2024-10-16T03:34:25.965Z"
   },
   {
    "duration": 6,
    "start_time": "2024-10-16T03:34:25.974Z"
   },
   {
    "duration": 6,
    "start_time": "2024-10-16T03:34:25.982Z"
   },
   {
    "duration": 5,
    "start_time": "2024-10-16T03:34:25.990Z"
   },
   {
    "duration": 117,
    "start_time": "2024-10-16T03:34:25.996Z"
   },
   {
    "duration": 214,
    "start_time": "2024-10-16T03:34:26.115Z"
   },
   {
    "duration": 222,
    "start_time": "2024-10-16T03:34:26.332Z"
   },
   {
    "duration": 1930,
    "start_time": "2024-10-16T03:34:26.560Z"
   },
   {
    "duration": 51,
    "start_time": "2024-10-16T03:34:28.492Z"
   },
   {
    "duration": 68,
    "start_time": "2024-10-16T03:34:28.548Z"
   },
   {
    "duration": 191,
    "start_time": "2024-10-16T03:34:28.618Z"
   },
   {
    "duration": 13,
    "start_time": "2024-10-16T03:34:28.811Z"
   },
   {
    "duration": 23,
    "start_time": "2024-10-16T03:34:28.839Z"
   },
   {
    "duration": 141,
    "start_time": "2024-10-16T03:34:28.864Z"
   },
   {
    "duration": 53,
    "start_time": "2024-10-16T03:34:29.007Z"
   },
   {
    "duration": 134,
    "start_time": "2024-10-16T03:34:29.062Z"
   },
   {
    "duration": 169,
    "start_time": "2024-10-16T03:34:29.198Z"
   },
   {
    "duration": 25,
    "start_time": "2024-10-16T03:34:29.371Z"
   },
   {
    "duration": 19,
    "start_time": "2024-10-16T03:34:29.398Z"
   },
   {
    "duration": 162,
    "start_time": "2024-10-16T03:34:29.419Z"
   },
   {
    "duration": 16,
    "start_time": "2024-10-16T03:34:29.583Z"
   },
   {
    "duration": 9,
    "start_time": "2024-10-16T03:34:29.601Z"
   },
   {
    "duration": 260,
    "start_time": "2024-10-16T03:34:29.612Z"
   },
   {
    "duration": 7,
    "start_time": "2024-10-16T03:34:29.874Z"
   },
   {
    "duration": 9,
    "start_time": "2024-10-16T03:34:29.882Z"
   },
   {
    "duration": 5,
    "start_time": "2024-10-16T03:34:29.893Z"
   },
   {
    "duration": 45,
    "start_time": "2024-10-16T03:34:29.900Z"
   },
   {
    "duration": 4,
    "start_time": "2024-10-16T03:34:29.960Z"
   },
   {
    "duration": 7,
    "start_time": "2024-10-16T03:34:29.966Z"
   },
   {
    "duration": 14,
    "start_time": "2024-10-16T03:34:29.975Z"
   },
   {
    "duration": 3,
    "start_time": "2024-10-16T03:34:29.991Z"
   },
   {
    "duration": 4,
    "start_time": "2024-10-16T03:34:29.996Z"
   },
   {
    "duration": 81,
    "start_time": "2024-10-16T03:34:30.002Z"
   },
   {
    "duration": 14,
    "start_time": "2024-10-16T03:34:30.085Z"
   },
   {
    "duration": 362,
    "start_time": "2024-10-16T03:34:30.101Z"
   },
   {
    "duration": 252,
    "start_time": "2024-10-16T03:34:30.465Z"
   },
   {
    "duration": 17,
    "start_time": "2024-10-16T04:09:18.282Z"
   },
   {
    "duration": 5,
    "start_time": "2024-10-16T04:09:29.244Z"
   },
   {
    "duration": 525,
    "start_time": "2024-10-16T04:09:29.252Z"
   },
   {
    "duration": 46,
    "start_time": "2024-10-16T04:09:29.779Z"
   },
   {
    "duration": 33,
    "start_time": "2024-10-16T04:09:29.829Z"
   },
   {
    "duration": 13,
    "start_time": "2024-10-16T04:09:29.872Z"
   },
   {
    "duration": 7,
    "start_time": "2024-10-16T04:09:29.887Z"
   },
   {
    "duration": 7,
    "start_time": "2024-10-16T04:09:29.897Z"
   },
   {
    "duration": 7,
    "start_time": "2024-10-16T04:09:29.906Z"
   },
   {
    "duration": 129,
    "start_time": "2024-10-16T04:09:29.915Z"
   },
   {
    "duration": 233,
    "start_time": "2024-10-16T04:09:30.045Z"
   },
   {
    "duration": 168,
    "start_time": "2024-10-16T04:09:30.282Z"
   },
   {
    "duration": 1933,
    "start_time": "2024-10-16T04:09:30.451Z"
   },
   {
    "duration": 56,
    "start_time": "2024-10-16T04:09:32.386Z"
   },
   {
    "duration": 61,
    "start_time": "2024-10-16T04:09:32.449Z"
   },
   {
    "duration": 360,
    "start_time": "2024-10-16T04:09:32.512Z"
   },
   {
    "duration": 13,
    "start_time": "2024-10-16T04:09:32.874Z"
   },
   {
    "duration": 20,
    "start_time": "2024-10-16T04:09:32.889Z"
   },
   {
    "duration": 197,
    "start_time": "2024-10-16T04:09:32.911Z"
   },
   {
    "duration": 56,
    "start_time": "2024-10-16T04:09:33.110Z"
   },
   {
    "duration": 126,
    "start_time": "2024-10-16T04:09:33.168Z"
   },
   {
    "duration": 194,
    "start_time": "2024-10-16T04:09:33.296Z"
   },
   {
    "duration": 32,
    "start_time": "2024-10-16T04:09:33.494Z"
   },
   {
    "duration": 34,
    "start_time": "2024-10-16T04:09:33.541Z"
   },
   {
    "duration": 146,
    "start_time": "2024-10-16T04:09:33.577Z"
   },
   {
    "duration": 41,
    "start_time": "2024-10-16T04:09:33.725Z"
   },
   {
    "duration": 18,
    "start_time": "2024-10-16T04:09:33.772Z"
   },
   {
    "duration": 0,
    "start_time": "2024-10-16T04:09:33.792Z"
   },
   {
    "duration": 0,
    "start_time": "2024-10-16T04:09:33.794Z"
   },
   {
    "duration": 0,
    "start_time": "2024-10-16T04:09:33.796Z"
   },
   {
    "duration": 0,
    "start_time": "2024-10-16T04:09:33.797Z"
   },
   {
    "duration": 0,
    "start_time": "2024-10-16T04:09:33.798Z"
   },
   {
    "duration": 0,
    "start_time": "2024-10-16T04:09:33.799Z"
   },
   {
    "duration": 0,
    "start_time": "2024-10-16T04:09:33.801Z"
   },
   {
    "duration": 0,
    "start_time": "2024-10-16T04:09:33.802Z"
   },
   {
    "duration": 0,
    "start_time": "2024-10-16T04:09:33.803Z"
   },
   {
    "duration": 0,
    "start_time": "2024-10-16T04:09:33.805Z"
   },
   {
    "duration": 0,
    "start_time": "2024-10-16T04:09:33.806Z"
   },
   {
    "duration": 0,
    "start_time": "2024-10-16T04:09:33.807Z"
   },
   {
    "duration": 0,
    "start_time": "2024-10-16T04:09:33.809Z"
   },
   {
    "duration": 0,
    "start_time": "2024-10-16T04:09:33.810Z"
   },
   {
    "duration": 12,
    "start_time": "2024-10-16T04:09:46.846Z"
   },
   {
    "duration": 148,
    "start_time": "2024-10-16T04:11:27.039Z"
   },
   {
    "duration": 46,
    "start_time": "2024-10-16T04:11:44.778Z"
   },
   {
    "duration": 9,
    "start_time": "2024-10-16T04:13:55.887Z"
   },
   {
    "duration": 19,
    "start_time": "2024-10-16T04:14:27.547Z"
   },
   {
    "duration": 26,
    "start_time": "2024-10-16T04:19:00.969Z"
   },
   {
    "duration": 10,
    "start_time": "2024-10-16T04:19:31.473Z"
   },
   {
    "duration": 33,
    "start_time": "2024-10-16T04:21:04.625Z"
   },
   {
    "duration": 196,
    "start_time": "2024-10-16T04:21:53.004Z"
   },
   {
    "duration": 22,
    "start_time": "2024-10-16T04:22:16.606Z"
   },
   {
    "duration": 209,
    "start_time": "2024-10-16T04:22:18.299Z"
   },
   {
    "duration": 74,
    "start_time": "2024-10-16T04:23:19.182Z"
   },
   {
    "duration": 85,
    "start_time": "2024-10-16T04:23:47.519Z"
   },
   {
    "duration": 22,
    "start_time": "2024-10-16T04:23:52.392Z"
   },
   {
    "duration": 43,
    "start_time": "2024-10-16T04:23:55.776Z"
   },
   {
    "duration": 65,
    "start_time": "2024-10-16T04:25:04.031Z"
   },
   {
    "duration": 8,
    "start_time": "2024-10-16T04:25:09.555Z"
   },
   {
    "duration": 558,
    "start_time": "2024-10-16T04:25:09.567Z"
   },
   {
    "duration": 58,
    "start_time": "2024-10-16T04:25:10.127Z"
   },
   {
    "duration": 9,
    "start_time": "2024-10-16T04:25:10.188Z"
   },
   {
    "duration": 8,
    "start_time": "2024-10-16T04:25:10.201Z"
   },
   {
    "duration": 31,
    "start_time": "2024-10-16T04:25:10.211Z"
   },
   {
    "duration": 7,
    "start_time": "2024-10-16T04:25:10.255Z"
   },
   {
    "duration": 7,
    "start_time": "2024-10-16T04:25:10.263Z"
   },
   {
    "duration": 98,
    "start_time": "2024-10-16T04:25:10.272Z"
   },
   {
    "duration": 241,
    "start_time": "2024-10-16T04:25:10.374Z"
   },
   {
    "duration": 179,
    "start_time": "2024-10-16T04:25:10.618Z"
   },
   {
    "duration": 1872,
    "start_time": "2024-10-16T04:25:10.799Z"
   },
   {
    "duration": 39,
    "start_time": "2024-10-16T04:25:12.673Z"
   },
   {
    "duration": 72,
    "start_time": "2024-10-16T04:25:12.717Z"
   },
   {
    "duration": 188,
    "start_time": "2024-10-16T04:25:12.791Z"
   },
   {
    "duration": 13,
    "start_time": "2024-10-16T04:25:12.981Z"
   },
   {
    "duration": 20,
    "start_time": "2024-10-16T04:25:12.996Z"
   },
   {
    "duration": 154,
    "start_time": "2024-10-16T04:25:13.034Z"
   },
   {
    "duration": 55,
    "start_time": "2024-10-16T04:25:13.190Z"
   },
   {
    "duration": 149,
    "start_time": "2024-10-16T04:25:13.250Z"
   },
   {
    "duration": 172,
    "start_time": "2024-10-16T04:25:13.401Z"
   },
   {
    "duration": 27,
    "start_time": "2024-10-16T04:25:13.579Z"
   },
   {
    "duration": 69,
    "start_time": "2024-10-16T04:25:13.608Z"
   },
   {
    "duration": 0,
    "start_time": "2024-10-16T04:25:13.679Z"
   },
   {
    "duration": 0,
    "start_time": "2024-10-16T04:25:13.680Z"
   },
   {
    "duration": 0,
    "start_time": "2024-10-16T04:25:13.681Z"
   },
   {
    "duration": 0,
    "start_time": "2024-10-16T04:25:13.682Z"
   },
   {
    "duration": 0,
    "start_time": "2024-10-16T04:25:13.683Z"
   },
   {
    "duration": 0,
    "start_time": "2024-10-16T04:25:13.684Z"
   },
   {
    "duration": 0,
    "start_time": "2024-10-16T04:25:13.685Z"
   },
   {
    "duration": 0,
    "start_time": "2024-10-16T04:25:13.686Z"
   },
   {
    "duration": 0,
    "start_time": "2024-10-16T04:25:13.687Z"
   },
   {
    "duration": 0,
    "start_time": "2024-10-16T04:25:13.689Z"
   },
   {
    "duration": 0,
    "start_time": "2024-10-16T04:25:13.690Z"
   },
   {
    "duration": 0,
    "start_time": "2024-10-16T04:25:13.691Z"
   },
   {
    "duration": 0,
    "start_time": "2024-10-16T04:25:13.692Z"
   },
   {
    "duration": 0,
    "start_time": "2024-10-16T04:25:13.693Z"
   },
   {
    "duration": 0,
    "start_time": "2024-10-16T04:25:13.694Z"
   },
   {
    "duration": 0,
    "start_time": "2024-10-16T04:25:13.696Z"
   },
   {
    "duration": 0,
    "start_time": "2024-10-16T04:25:13.697Z"
   },
   {
    "duration": 20,
    "start_time": "2024-10-16T04:26:06.106Z"
   },
   {
    "duration": 22,
    "start_time": "2024-10-16T04:26:23.659Z"
   },
   {
    "duration": 30,
    "start_time": "2024-10-16T04:26:32.229Z"
   },
   {
    "duration": 597,
    "start_time": "2024-10-16T04:26:58.965Z"
   },
   {
    "duration": 32,
    "start_time": "2024-10-16T04:27:13.944Z"
   },
   {
    "duration": 30,
    "start_time": "2024-10-16T04:27:49.816Z"
   },
   {
    "duration": 111,
    "start_time": "2024-10-16T04:28:55.202Z"
   },
   {
    "duration": 133,
    "start_time": "2024-10-16T04:29:35.692Z"
   },
   {
    "duration": 26,
    "start_time": "2024-10-16T04:29:54.574Z"
   },
   {
    "duration": 126,
    "start_time": "2024-10-16T04:30:20.081Z"
   },
   {
    "duration": 15,
    "start_time": "2024-10-16T04:30:37.686Z"
   },
   {
    "duration": 79,
    "start_time": "2024-10-16T04:30:48.267Z"
   },
   {
    "duration": 146,
    "start_time": "2024-10-16T04:31:36.873Z"
   },
   {
    "duration": 149,
    "start_time": "2024-10-16T04:31:57.664Z"
   },
   {
    "duration": 19,
    "start_time": "2024-10-16T04:32:11.464Z"
   },
   {
    "duration": 17,
    "start_time": "2024-10-16T04:32:38.569Z"
   },
   {
    "duration": 9,
    "start_time": "2024-10-16T04:32:45.756Z"
   },
   {
    "duration": 223,
    "start_time": "2024-10-16T04:33:26.058Z"
   },
   {
    "duration": 25,
    "start_time": "2024-10-16T04:33:59.147Z"
   },
   {
    "duration": 23,
    "start_time": "2024-10-16T04:35:57.259Z"
   },
   {
    "duration": 22,
    "start_time": "2024-10-16T04:36:27.355Z"
   },
   {
    "duration": 171,
    "start_time": "2024-10-16T04:36:37.775Z"
   },
   {
    "duration": 22,
    "start_time": "2024-10-16T04:36:46.497Z"
   },
   {
    "duration": 26,
    "start_time": "2024-10-16T04:36:50.220Z"
   },
   {
    "duration": 63,
    "start_time": "2024-10-16T04:37:09.993Z"
   },
   {
    "duration": 177,
    "start_time": "2024-10-16T04:38:24.082Z"
   },
   {
    "duration": 22,
    "start_time": "2024-10-16T04:39:45.485Z"
   },
   {
    "duration": 175,
    "start_time": "2024-10-16T04:40:19.699Z"
   },
   {
    "duration": 23,
    "start_time": "2024-10-16T04:40:35.495Z"
   },
   {
    "duration": 28,
    "start_time": "2024-10-16T04:40:42.314Z"
   },
   {
    "duration": 19,
    "start_time": "2024-10-16T04:41:09.494Z"
   },
   {
    "duration": 145,
    "start_time": "2024-10-16T04:41:19.563Z"
   },
   {
    "duration": 40,
    "start_time": "2024-10-16T04:41:36.117Z"
   },
   {
    "duration": 22,
    "start_time": "2024-10-16T04:41:59.406Z"
   },
   {
    "duration": 44,
    "start_time": "2024-10-16T04:42:09.951Z"
   },
   {
    "duration": 208,
    "start_time": "2024-10-16T04:42:18.997Z"
   },
   {
    "duration": 3,
    "start_time": "2024-10-16T12:48:02.360Z"
   },
   {
    "duration": 445,
    "start_time": "2024-10-16T12:48:02.365Z"
   },
   {
    "duration": 38,
    "start_time": "2024-10-16T12:48:02.812Z"
   },
   {
    "duration": 8,
    "start_time": "2024-10-16T12:48:02.852Z"
   },
   {
    "duration": 7,
    "start_time": "2024-10-16T12:48:02.863Z"
   },
   {
    "duration": 6,
    "start_time": "2024-10-16T12:48:02.872Z"
   },
   {
    "duration": 5,
    "start_time": "2024-10-16T12:48:02.879Z"
   },
   {
    "duration": 5,
    "start_time": "2024-10-16T12:48:02.885Z"
   },
   {
    "duration": 126,
    "start_time": "2024-10-16T12:48:02.892Z"
   },
   {
    "duration": 209,
    "start_time": "2024-10-16T12:48:03.020Z"
   },
   {
    "duration": 145,
    "start_time": "2024-10-16T12:48:03.233Z"
   },
   {
    "duration": 1735,
    "start_time": "2024-10-16T12:48:03.381Z"
   },
   {
    "duration": 280,
    "start_time": "2024-10-16T12:48:05.117Z"
   },
   {
    "duration": 65,
    "start_time": "2024-10-16T12:48:05.399Z"
   },
   {
    "duration": 171,
    "start_time": "2024-10-16T12:48:05.466Z"
   },
   {
    "duration": 13,
    "start_time": "2024-10-16T12:48:05.639Z"
   },
   {
    "duration": 18,
    "start_time": "2024-10-16T12:48:05.654Z"
   },
   {
    "duration": 144,
    "start_time": "2024-10-16T12:48:05.674Z"
   },
   {
    "duration": 37,
    "start_time": "2024-10-16T12:48:05.820Z"
   },
   {
    "duration": 137,
    "start_time": "2024-10-16T12:48:05.859Z"
   },
   {
    "duration": 160,
    "start_time": "2024-10-16T12:48:05.998Z"
   },
   {
    "duration": 23,
    "start_time": "2024-10-16T12:48:06.160Z"
   },
   {
    "duration": 21,
    "start_time": "2024-10-16T12:48:06.185Z"
   },
   {
    "duration": 152,
    "start_time": "2024-10-16T12:48:06.208Z"
   },
   {
    "duration": 16,
    "start_time": "2024-10-16T12:48:06.363Z"
   },
   {
    "duration": 21,
    "start_time": "2024-10-16T12:48:06.381Z"
   },
   {
    "duration": 197,
    "start_time": "2024-10-16T12:48:06.403Z"
   },
   {
    "duration": 7,
    "start_time": "2024-10-16T12:48:06.602Z"
   },
   {
    "duration": 21,
    "start_time": "2024-10-16T12:48:06.613Z"
   },
   {
    "duration": 52,
    "start_time": "2024-10-16T12:48:06.635Z"
   },
   {
    "duration": 0,
    "start_time": "2024-10-16T12:48:06.689Z"
   },
   {
    "duration": 0,
    "start_time": "2024-10-16T12:48:06.691Z"
   },
   {
    "duration": 0,
    "start_time": "2024-10-16T12:48:06.692Z"
   },
   {
    "duration": 0,
    "start_time": "2024-10-16T12:48:06.693Z"
   },
   {
    "duration": 0,
    "start_time": "2024-10-16T12:48:06.695Z"
   },
   {
    "duration": 0,
    "start_time": "2024-10-16T12:48:06.696Z"
   },
   {
    "duration": 0,
    "start_time": "2024-10-16T12:48:06.697Z"
   },
   {
    "duration": 0,
    "start_time": "2024-10-16T12:48:06.699Z"
   },
   {
    "duration": 0,
    "start_time": "2024-10-16T12:48:06.700Z"
   },
   {
    "duration": 1,
    "start_time": "2024-10-16T12:48:06.701Z"
   },
   {
    "duration": 5,
    "start_time": "2024-10-16T13:13:47.981Z"
   },
   {
    "duration": 7,
    "start_time": "2024-10-16T13:14:02.784Z"
   },
   {
    "duration": 91,
    "start_time": "2024-10-16T14:13:30.885Z"
   },
   {
    "duration": 2478,
    "start_time": "2024-10-16T14:16:15.112Z"
   },
   {
    "duration": 50,
    "start_time": "2024-10-16T14:17:43.667Z"
   },
   {
    "duration": 3,
    "start_time": "2024-10-16T14:18:10.982Z"
   },
   {
    "duration": 52,
    "start_time": "2024-10-16T14:18:50.802Z"
   },
   {
    "duration": 21,
    "start_time": "2024-10-16T14:20:17.178Z"
   },
   {
    "duration": 25,
    "start_time": "2024-10-16T14:21:07.649Z"
   },
   {
    "duration": 68,
    "start_time": "2024-10-16T14:21:35.179Z"
   },
   {
    "duration": 2417,
    "start_time": "2024-10-16T14:23:00.269Z"
   },
   {
    "duration": 52,
    "start_time": "2024-10-16T14:23:08.949Z"
   },
   {
    "duration": 27,
    "start_time": "2024-10-16T14:23:19.527Z"
   },
   {
    "duration": 113,
    "start_time": "2024-10-16T14:24:10.917Z"
   },
   {
    "duration": 48,
    "start_time": "2024-10-16T14:28:14.083Z"
   },
   {
    "duration": 26,
    "start_time": "2024-10-16T14:28:25.252Z"
   },
   {
    "duration": 902,
    "start_time": "2024-10-16T14:28:29.729Z"
   },
   {
    "duration": 133,
    "start_time": "2024-10-16T14:28:56.514Z"
   },
   {
    "duration": 57,
    "start_time": "2024-10-16T14:29:14.966Z"
   },
   {
    "duration": 50,
    "start_time": "2024-10-16T14:29:31.291Z"
   },
   {
    "duration": 866,
    "start_time": "2024-10-16T14:31:22.020Z"
   },
   {
    "duration": 821,
    "start_time": "2024-10-16T14:33:06.206Z"
   },
   {
    "duration": 865,
    "start_time": "2024-10-16T14:33:18.038Z"
   },
   {
    "duration": 796,
    "start_time": "2024-10-16T14:33:29.957Z"
   },
   {
    "duration": 1014,
    "start_time": "2024-10-16T14:33:40.702Z"
   },
   {
    "duration": 827,
    "start_time": "2024-10-16T14:33:54.996Z"
   },
   {
    "duration": 843,
    "start_time": "2024-10-16T14:34:11.509Z"
   },
   {
    "duration": 876,
    "start_time": "2024-10-16T14:35:21.041Z"
   },
   {
    "duration": 835,
    "start_time": "2024-10-16T14:35:32.456Z"
   },
   {
    "duration": 178,
    "start_time": "2024-10-16T14:36:01.446Z"
   },
   {
    "duration": 4,
    "start_time": "2024-10-16T14:36:43.035Z"
   },
   {
    "duration": 8,
    "start_time": "2024-10-16T14:38:29.454Z"
   },
   {
    "duration": 10,
    "start_time": "2024-10-16T14:38:35.545Z"
   },
   {
    "duration": 46,
    "start_time": "2024-10-16T14:38:41.852Z"
   },
   {
    "duration": 4,
    "start_time": "2024-10-16T14:38:48.244Z"
   },
   {
    "duration": 48,
    "start_time": "2024-10-16T14:40:23.907Z"
   },
   {
    "duration": 11,
    "start_time": "2024-10-16T14:40:42.524Z"
   },
   {
    "duration": 63,
    "start_time": "2024-10-16T14:41:12.257Z"
   },
   {
    "duration": 11,
    "start_time": "2024-10-16T14:43:53.261Z"
   },
   {
    "duration": 3,
    "start_time": "2024-10-16T14:43:57.335Z"
   },
   {
    "duration": 9,
    "start_time": "2024-10-16T14:44:06.456Z"
   },
   {
    "duration": 4,
    "start_time": "2024-10-16T14:44:11.775Z"
   },
   {
    "duration": 4,
    "start_time": "2024-10-16T14:44:25.030Z"
   },
   {
    "duration": 4,
    "start_time": "2024-10-16T14:47:37.524Z"
   },
   {
    "duration": 3,
    "start_time": "2024-10-16T14:47:38.764Z"
   },
   {
    "duration": 13,
    "start_time": "2024-10-16T14:47:40.228Z"
   },
   {
    "duration": 4,
    "start_time": "2024-10-16T14:49:45.919Z"
   },
   {
    "duration": 60,
    "start_time": "2024-10-16T14:49:52.309Z"
   },
   {
    "duration": 59,
    "start_time": "2024-10-16T14:50:02.601Z"
   },
   {
    "duration": 59,
    "start_time": "2024-10-16T14:50:15.150Z"
   },
   {
    "duration": 73,
    "start_time": "2024-10-16T14:50:27.642Z"
   },
   {
    "duration": 58,
    "start_time": "2024-10-16T14:55:49.468Z"
   },
   {
    "duration": 9,
    "start_time": "2024-10-16T14:57:03.588Z"
   },
   {
    "duration": 59,
    "start_time": "2024-10-16T14:57:12.338Z"
   },
   {
    "duration": 3,
    "start_time": "2024-10-16T14:57:39.710Z"
   },
   {
    "duration": 5,
    "start_time": "2024-10-16T14:57:40.910Z"
   },
   {
    "duration": 52,
    "start_time": "2024-10-16T14:57:42.161Z"
   },
   {
    "duration": 11,
    "start_time": "2024-10-16T14:57:43.544Z"
   },
   {
    "duration": 328,
    "start_time": "2024-10-16T14:57:44.914Z"
   },
   {
    "duration": 262,
    "start_time": "2024-10-16T14:57:47.482Z"
   },
   {
    "duration": 59,
    "start_time": "2024-10-16T15:03:23.048Z"
   },
   {
    "duration": 48,
    "start_time": "2024-10-16T15:05:21.335Z"
   },
   {
    "duration": 10,
    "start_time": "2024-10-16T15:05:40.520Z"
   },
   {
    "duration": 9,
    "start_time": "2024-10-16T15:07:06.795Z"
   },
   {
    "duration": 66,
    "start_time": "2024-10-16T15:08:06.315Z"
   },
   {
    "duration": 9,
    "start_time": "2024-10-16T15:16:22.552Z"
   },
   {
    "duration": 43,
    "start_time": "2024-10-16T15:19:33.858Z"
   },
   {
    "duration": 67,
    "start_time": "2024-10-16T15:22:12.095Z"
   },
   {
    "duration": 40,
    "start_time": "2024-10-16T15:24:17.768Z"
   },
   {
    "duration": 55,
    "start_time": "2024-10-16T15:24:32.106Z"
   },
   {
    "duration": 2,
    "start_time": "2024-10-16T15:24:44.795Z"
   },
   {
    "duration": 483,
    "start_time": "2024-10-16T15:24:44.800Z"
   },
   {
    "duration": 37,
    "start_time": "2024-10-16T15:24:45.285Z"
   },
   {
    "duration": 10,
    "start_time": "2024-10-16T15:24:45.324Z"
   },
   {
    "duration": 6,
    "start_time": "2024-10-16T15:24:45.337Z"
   },
   {
    "duration": 5,
    "start_time": "2024-10-16T15:24:45.345Z"
   },
   {
    "duration": 4,
    "start_time": "2024-10-16T15:24:45.352Z"
   },
   {
    "duration": 5,
    "start_time": "2024-10-16T15:24:45.358Z"
   },
   {
    "duration": 106,
    "start_time": "2024-10-16T15:24:45.364Z"
   },
   {
    "duration": 204,
    "start_time": "2024-10-16T15:24:45.472Z"
   },
   {
    "duration": 148,
    "start_time": "2024-10-16T15:24:45.678Z"
   },
   {
    "duration": 1733,
    "start_time": "2024-10-16T15:24:45.831Z"
   },
   {
    "duration": 39,
    "start_time": "2024-10-16T15:24:47.567Z"
   },
   {
    "duration": 72,
    "start_time": "2024-10-16T15:24:47.610Z"
   },
   {
    "duration": 380,
    "start_time": "2024-10-16T15:24:47.684Z"
   },
   {
    "duration": 13,
    "start_time": "2024-10-16T15:24:48.067Z"
   },
   {
    "duration": 18,
    "start_time": "2024-10-16T15:24:48.082Z"
   },
   {
    "duration": 150,
    "start_time": "2024-10-16T15:24:48.101Z"
   },
   {
    "duration": 33,
    "start_time": "2024-10-16T15:24:48.254Z"
   },
   {
    "duration": 139,
    "start_time": "2024-10-16T15:24:48.288Z"
   },
   {
    "duration": 161,
    "start_time": "2024-10-16T15:24:48.432Z"
   },
   {
    "duration": 109,
    "start_time": "2024-10-16T15:24:48.595Z"
   },
   {
    "duration": 2588,
    "start_time": "2024-10-16T15:24:48.706Z"
   },
   {
    "duration": 66,
    "start_time": "2024-10-16T15:24:51.296Z"
   },
   {
    "duration": 24,
    "start_time": "2024-10-16T15:24:51.364Z"
   },
   {
    "duration": 857,
    "start_time": "2024-10-16T15:24:51.390Z"
   },
   {
    "duration": 3,
    "start_time": "2024-10-16T15:24:52.249Z"
   },
   {
    "duration": 9,
    "start_time": "2024-10-16T15:24:52.254Z"
   },
   {
    "duration": 5,
    "start_time": "2024-10-16T15:24:52.265Z"
   },
   {
    "duration": 72,
    "start_time": "2024-10-16T15:24:52.271Z"
   },
   {
    "duration": 0,
    "start_time": "2024-10-16T15:24:52.345Z"
   },
   {
    "duration": 0,
    "start_time": "2024-10-16T15:24:52.347Z"
   },
   {
    "duration": 0,
    "start_time": "2024-10-16T15:24:52.348Z"
   },
   {
    "duration": 0,
    "start_time": "2024-10-16T15:24:52.349Z"
   },
   {
    "duration": 0,
    "start_time": "2024-10-16T15:24:52.350Z"
   },
   {
    "duration": 0,
    "start_time": "2024-10-16T15:24:52.351Z"
   },
   {
    "duration": 0,
    "start_time": "2024-10-16T15:24:52.352Z"
   },
   {
    "duration": 0,
    "start_time": "2024-10-16T15:24:52.353Z"
   },
   {
    "duration": 0,
    "start_time": "2024-10-16T15:24:52.354Z"
   },
   {
    "duration": 3,
    "start_time": "2024-10-16T15:25:41.737Z"
   },
   {
    "duration": 4,
    "start_time": "2024-10-16T15:25:42.514Z"
   },
   {
    "duration": 15,
    "start_time": "2024-10-16T15:25:43.190Z"
   },
   {
    "duration": 43,
    "start_time": "2024-10-16T15:25:59.438Z"
   },
   {
    "duration": 4,
    "start_time": "2024-10-16T15:26:28.042Z"
   },
   {
    "duration": 3,
    "start_time": "2024-10-16T15:26:37.745Z"
   },
   {
    "duration": 5,
    "start_time": "2024-10-16T15:26:38.665Z"
   },
   {
    "duration": 51,
    "start_time": "2024-10-16T15:26:40.231Z"
   },
   {
    "duration": 11,
    "start_time": "2024-10-16T15:26:44.308Z"
   },
   {
    "duration": 339,
    "start_time": "2024-10-16T15:26:45.204Z"
   },
   {
    "duration": 297,
    "start_time": "2024-10-16T15:26:46.306Z"
   },
   {
    "duration": 57,
    "start_time": "2024-10-16T15:28:56.009Z"
   },
   {
    "duration": 3,
    "start_time": "2024-10-16T15:29:03.126Z"
   },
   {
    "duration": 428,
    "start_time": "2024-10-16T15:29:03.131Z"
   },
   {
    "duration": 37,
    "start_time": "2024-10-16T15:29:03.561Z"
   },
   {
    "duration": 8,
    "start_time": "2024-10-16T15:29:03.600Z"
   },
   {
    "duration": 23,
    "start_time": "2024-10-16T15:29:03.611Z"
   },
   {
    "duration": 5,
    "start_time": "2024-10-16T15:29:03.636Z"
   },
   {
    "duration": 5,
    "start_time": "2024-10-16T15:29:03.643Z"
   },
   {
    "duration": 6,
    "start_time": "2024-10-16T15:29:03.649Z"
   },
   {
    "duration": 110,
    "start_time": "2024-10-16T15:29:03.657Z"
   },
   {
    "duration": 209,
    "start_time": "2024-10-16T15:29:03.768Z"
   },
   {
    "duration": 152,
    "start_time": "2024-10-16T15:29:03.979Z"
   },
   {
    "duration": 1572,
    "start_time": "2024-10-16T15:29:04.133Z"
   },
   {
    "duration": 48,
    "start_time": "2024-10-16T15:29:05.710Z"
   },
   {
    "duration": 56,
    "start_time": "2024-10-16T15:29:05.760Z"
   },
   {
    "duration": 155,
    "start_time": "2024-10-16T15:29:05.830Z"
   },
   {
    "duration": 14,
    "start_time": "2024-10-16T15:29:05.986Z"
   },
   {
    "duration": 30,
    "start_time": "2024-10-16T15:29:06.002Z"
   },
   {
    "duration": 130,
    "start_time": "2024-10-16T15:29:06.034Z"
   },
   {
    "duration": 25,
    "start_time": "2024-10-16T15:29:06.167Z"
   },
   {
    "duration": 129,
    "start_time": "2024-10-16T15:29:06.193Z"
   },
   {
    "duration": 162,
    "start_time": "2024-10-16T15:29:06.324Z"
   },
   {
    "duration": 102,
    "start_time": "2024-10-16T15:29:06.488Z"
   },
   {
    "duration": 2651,
    "start_time": "2024-10-16T15:29:06.591Z"
   },
   {
    "duration": 59,
    "start_time": "2024-10-16T15:29:09.244Z"
   },
   {
    "duration": 41,
    "start_time": "2024-10-16T15:29:09.305Z"
   },
   {
    "duration": 873,
    "start_time": "2024-10-16T15:29:09.348Z"
   },
   {
    "duration": 4,
    "start_time": "2024-10-16T15:29:10.231Z"
   },
   {
    "duration": 9,
    "start_time": "2024-10-16T15:29:10.236Z"
   },
   {
    "duration": 4,
    "start_time": "2024-10-16T15:29:10.247Z"
   },
   {
    "duration": 47,
    "start_time": "2024-10-16T15:29:10.253Z"
   },
   {
    "duration": 0,
    "start_time": "2024-10-16T15:29:10.302Z"
   },
   {
    "duration": 0,
    "start_time": "2024-10-16T15:29:10.303Z"
   },
   {
    "duration": 0,
    "start_time": "2024-10-16T15:29:10.305Z"
   },
   {
    "duration": 0,
    "start_time": "2024-10-16T15:29:10.331Z"
   },
   {
    "duration": 0,
    "start_time": "2024-10-16T15:29:10.332Z"
   },
   {
    "duration": 0,
    "start_time": "2024-10-16T15:29:10.333Z"
   },
   {
    "duration": 0,
    "start_time": "2024-10-16T15:29:10.335Z"
   },
   {
    "duration": 0,
    "start_time": "2024-10-16T15:29:10.336Z"
   },
   {
    "duration": 0,
    "start_time": "2024-10-16T15:29:10.337Z"
   },
   {
    "duration": 18,
    "start_time": "2024-10-16T15:31:55.329Z"
   },
   {
    "duration": 3,
    "start_time": "2024-10-16T15:32:03.346Z"
   },
   {
    "duration": 465,
    "start_time": "2024-10-16T15:32:03.351Z"
   },
   {
    "duration": 47,
    "start_time": "2024-10-16T15:32:03.818Z"
   },
   {
    "duration": 8,
    "start_time": "2024-10-16T15:32:03.866Z"
   },
   {
    "duration": 7,
    "start_time": "2024-10-16T15:32:03.877Z"
   },
   {
    "duration": 5,
    "start_time": "2024-10-16T15:32:03.886Z"
   },
   {
    "duration": 4,
    "start_time": "2024-10-16T15:32:03.893Z"
   },
   {
    "duration": 33,
    "start_time": "2024-10-16T15:32:03.899Z"
   },
   {
    "duration": 80,
    "start_time": "2024-10-16T15:32:03.934Z"
   },
   {
    "duration": 210,
    "start_time": "2024-10-16T15:32:04.016Z"
   },
   {
    "duration": 145,
    "start_time": "2024-10-16T15:32:04.228Z"
   },
   {
    "duration": 1530,
    "start_time": "2024-10-16T15:32:04.375Z"
   },
   {
    "duration": 42,
    "start_time": "2024-10-16T15:32:05.909Z"
   },
   {
    "duration": 50,
    "start_time": "2024-10-16T15:32:05.953Z"
   },
   {
    "duration": 179,
    "start_time": "2024-10-16T15:32:06.005Z"
   },
   {
    "duration": 13,
    "start_time": "2024-10-16T15:32:06.186Z"
   },
   {
    "duration": 32,
    "start_time": "2024-10-16T15:32:06.201Z"
   },
   {
    "duration": 135,
    "start_time": "2024-10-16T15:32:06.235Z"
   },
   {
    "duration": 26,
    "start_time": "2024-10-16T15:32:06.372Z"
   },
   {
    "duration": 136,
    "start_time": "2024-10-16T15:32:06.400Z"
   },
   {
    "duration": 168,
    "start_time": "2024-10-16T15:32:06.538Z"
   },
   {
    "duration": 98,
    "start_time": "2024-10-16T15:32:06.708Z"
   },
   {
    "duration": 2657,
    "start_time": "2024-10-16T15:32:06.808Z"
   },
   {
    "duration": 68,
    "start_time": "2024-10-16T15:32:09.468Z"
   },
   {
    "duration": 25,
    "start_time": "2024-10-16T15:32:09.538Z"
   },
   {
    "duration": 866,
    "start_time": "2024-10-16T15:32:09.565Z"
   },
   {
    "duration": 4,
    "start_time": "2024-10-16T15:32:10.433Z"
   },
   {
    "duration": 9,
    "start_time": "2024-10-16T15:32:10.440Z"
   },
   {
    "duration": 4,
    "start_time": "2024-10-16T15:32:10.451Z"
   },
   {
    "duration": 15,
    "start_time": "2024-10-16T15:32:10.457Z"
   },
   {
    "duration": 0,
    "start_time": "2024-10-16T15:32:10.474Z"
   },
   {
    "duration": 0,
    "start_time": "2024-10-16T15:32:10.475Z"
   },
   {
    "duration": 0,
    "start_time": "2024-10-16T15:32:10.477Z"
   },
   {
    "duration": 0,
    "start_time": "2024-10-16T15:32:10.479Z"
   },
   {
    "duration": 0,
    "start_time": "2024-10-16T15:32:10.480Z"
   },
   {
    "duration": 0,
    "start_time": "2024-10-16T15:32:10.482Z"
   },
   {
    "duration": 0,
    "start_time": "2024-10-16T15:32:10.483Z"
   },
   {
    "duration": 0,
    "start_time": "2024-10-16T15:32:10.531Z"
   },
   {
    "duration": 1,
    "start_time": "2024-10-16T15:32:10.532Z"
   },
   {
    "duration": 16,
    "start_time": "2024-10-16T15:32:52.017Z"
   },
   {
    "duration": 3,
    "start_time": "2024-10-16T15:33:06.849Z"
   },
   {
    "duration": 439,
    "start_time": "2024-10-16T15:33:06.854Z"
   },
   {
    "duration": 46,
    "start_time": "2024-10-16T15:33:07.295Z"
   },
   {
    "duration": 8,
    "start_time": "2024-10-16T15:33:07.343Z"
   },
   {
    "duration": 8,
    "start_time": "2024-10-16T15:33:07.353Z"
   },
   {
    "duration": 5,
    "start_time": "2024-10-16T15:33:07.363Z"
   },
   {
    "duration": 4,
    "start_time": "2024-10-16T15:33:07.370Z"
   },
   {
    "duration": 5,
    "start_time": "2024-10-16T15:33:07.376Z"
   },
   {
    "duration": 115,
    "start_time": "2024-10-16T15:33:07.383Z"
   },
   {
    "duration": 212,
    "start_time": "2024-10-16T15:33:07.500Z"
   },
   {
    "duration": 156,
    "start_time": "2024-10-16T15:33:07.715Z"
   },
   {
    "duration": 1562,
    "start_time": "2024-10-16T15:33:07.874Z"
   },
   {
    "duration": 294,
    "start_time": "2024-10-16T15:33:09.438Z"
   },
   {
    "duration": 52,
    "start_time": "2024-10-16T15:33:09.734Z"
   },
   {
    "duration": 164,
    "start_time": "2024-10-16T15:33:09.788Z"
   },
   {
    "duration": 13,
    "start_time": "2024-10-16T15:33:09.954Z"
   },
   {
    "duration": 18,
    "start_time": "2024-10-16T15:33:09.969Z"
   },
   {
    "duration": 146,
    "start_time": "2024-10-16T15:33:09.989Z"
   },
   {
    "duration": 24,
    "start_time": "2024-10-16T15:33:10.137Z"
   },
   {
    "duration": 137,
    "start_time": "2024-10-16T15:33:10.163Z"
   },
   {
    "duration": 169,
    "start_time": "2024-10-16T15:33:10.302Z"
   },
   {
    "duration": 109,
    "start_time": "2024-10-16T15:33:10.473Z"
   },
   {
    "duration": 2673,
    "start_time": "2024-10-16T15:33:10.584Z"
   },
   {
    "duration": 63,
    "start_time": "2024-10-16T15:33:13.259Z"
   },
   {
    "duration": 26,
    "start_time": "2024-10-16T15:33:13.332Z"
   },
   {
    "duration": 879,
    "start_time": "2024-10-16T15:33:13.360Z"
   },
   {
    "duration": 4,
    "start_time": "2024-10-16T15:33:14.241Z"
   },
   {
    "duration": 9,
    "start_time": "2024-10-16T15:33:14.246Z"
   },
   {
    "duration": 4,
    "start_time": "2024-10-16T15:33:14.259Z"
   },
   {
    "duration": 15,
    "start_time": "2024-10-16T15:33:14.264Z"
   },
   {
    "duration": 0,
    "start_time": "2024-10-16T15:33:14.281Z"
   },
   {
    "duration": 0,
    "start_time": "2024-10-16T15:33:14.282Z"
   },
   {
    "duration": 0,
    "start_time": "2024-10-16T15:33:14.283Z"
   },
   {
    "duration": 0,
    "start_time": "2024-10-16T15:33:14.284Z"
   },
   {
    "duration": 0,
    "start_time": "2024-10-16T15:33:14.285Z"
   },
   {
    "duration": 0,
    "start_time": "2024-10-16T15:33:14.286Z"
   },
   {
    "duration": 0,
    "start_time": "2024-10-16T15:33:14.288Z"
   },
   {
    "duration": 0,
    "start_time": "2024-10-16T15:33:14.289Z"
   },
   {
    "duration": 0,
    "start_time": "2024-10-16T15:33:14.290Z"
   },
   {
    "duration": 14,
    "start_time": "2024-10-16T15:35:09.732Z"
   },
   {
    "duration": 4,
    "start_time": "2024-10-16T15:35:17.972Z"
   },
   {
    "duration": 3,
    "start_time": "2024-10-16T15:35:25.827Z"
   },
   {
    "duration": 6,
    "start_time": "2024-10-16T15:35:29.899Z"
   },
   {
    "duration": 14,
    "start_time": "2024-10-16T15:35:38.843Z"
   },
   {
    "duration": 3,
    "start_time": "2024-10-16T15:35:56.932Z"
   },
   {
    "duration": 6,
    "start_time": "2024-10-16T15:35:59.063Z"
   },
   {
    "duration": 51,
    "start_time": "2024-10-16T15:36:00.540Z"
   },
   {
    "duration": 12,
    "start_time": "2024-10-16T15:36:01.552Z"
   },
   {
    "duration": 302,
    "start_time": "2024-10-16T15:36:02.547Z"
   },
   {
    "duration": 231,
    "start_time": "2024-10-16T15:36:03.776Z"
   },
   {
    "duration": 3,
    "start_time": "2024-10-16T15:52:56.106Z"
   },
   {
    "duration": 458,
    "start_time": "2024-10-16T15:52:56.111Z"
   },
   {
    "duration": 43,
    "start_time": "2024-10-16T15:52:56.571Z"
   },
   {
    "duration": 17,
    "start_time": "2024-10-16T15:52:56.616Z"
   },
   {
    "duration": 8,
    "start_time": "2024-10-16T15:52:56.636Z"
   },
   {
    "duration": 6,
    "start_time": "2024-10-16T15:52:56.645Z"
   },
   {
    "duration": 5,
    "start_time": "2024-10-16T15:52:56.652Z"
   },
   {
    "duration": 5,
    "start_time": "2024-10-16T15:52:56.659Z"
   },
   {
    "duration": 113,
    "start_time": "2024-10-16T15:52:56.666Z"
   },
   {
    "duration": 327,
    "start_time": "2024-10-16T15:52:56.781Z"
   },
   {
    "duration": 169,
    "start_time": "2024-10-16T15:52:57.112Z"
   },
   {
    "duration": 1638,
    "start_time": "2024-10-16T15:52:57.283Z"
   },
   {
    "duration": 40,
    "start_time": "2024-10-16T15:52:58.923Z"
   },
   {
    "duration": 66,
    "start_time": "2024-10-16T15:52:58.965Z"
   },
   {
    "duration": 152,
    "start_time": "2024-10-16T15:52:59.035Z"
   },
   {
    "duration": 12,
    "start_time": "2024-10-16T15:52:59.189Z"
   },
   {
    "duration": 34,
    "start_time": "2024-10-16T15:52:59.203Z"
   },
   {
    "duration": 131,
    "start_time": "2024-10-16T15:52:59.239Z"
   },
   {
    "duration": 26,
    "start_time": "2024-10-16T15:52:59.373Z"
   },
   {
    "duration": 142,
    "start_time": "2024-10-16T15:52:59.401Z"
   },
   {
    "duration": 231,
    "start_time": "2024-10-16T15:52:59.545Z"
   },
   {
    "duration": 112,
    "start_time": "2024-10-16T15:52:59.779Z"
   },
   {
    "duration": 2726,
    "start_time": "2024-10-16T15:52:59.893Z"
   },
   {
    "duration": 66,
    "start_time": "2024-10-16T15:53:02.621Z"
   },
   {
    "duration": 48,
    "start_time": "2024-10-16T15:53:02.689Z"
   },
   {
    "duration": 971,
    "start_time": "2024-10-16T15:53:02.739Z"
   },
   {
    "duration": 4,
    "start_time": "2024-10-16T15:53:03.712Z"
   },
   {
    "duration": 21,
    "start_time": "2024-10-16T15:53:03.718Z"
   },
   {
    "duration": 4,
    "start_time": "2024-10-16T15:53:03.743Z"
   },
   {
    "duration": 16,
    "start_time": "2024-10-16T15:53:03.749Z"
   },
   {
    "duration": 4,
    "start_time": "2024-10-16T15:53:03.767Z"
   },
   {
    "duration": 8,
    "start_time": "2024-10-16T15:53:03.777Z"
   },
   {
    "duration": 53,
    "start_time": "2024-10-16T15:53:03.787Z"
   },
   {
    "duration": 4,
    "start_time": "2024-10-16T15:53:03.842Z"
   },
   {
    "duration": 6,
    "start_time": "2024-10-16T15:53:03.848Z"
   },
   {
    "duration": 80,
    "start_time": "2024-10-16T15:53:03.856Z"
   },
   {
    "duration": 11,
    "start_time": "2024-10-16T15:53:03.938Z"
   },
   {
    "duration": 337,
    "start_time": "2024-10-16T15:53:03.951Z"
   },
   {
    "duration": 358,
    "start_time": "2024-10-16T15:53:04.291Z"
   },
   {
    "duration": 940,
    "start_time": "2024-10-16T15:58:15.266Z"
   },
   {
    "duration": 520,
    "start_time": "2024-10-16T16:01:09.311Z"
   },
   {
    "duration": 8450,
    "start_time": "2024-10-16T16:02:29.428Z"
   },
   {
    "duration": 697,
    "start_time": "2024-10-16T16:12:05.205Z"
   },
   {
    "duration": 408,
    "start_time": "2024-10-16T16:16:20.185Z"
   },
   {
    "duration": 427,
    "start_time": "2024-10-16T16:16:49.066Z"
   },
   {
    "duration": 477,
    "start_time": "2024-10-16T16:33:52.830Z"
   },
   {
    "duration": 594,
    "start_time": "2024-10-16T16:42:03.984Z"
   },
   {
    "duration": 377,
    "start_time": "2024-10-16T16:49:06.200Z"
   },
   {
    "duration": 336,
    "start_time": "2024-10-16T16:49:33.997Z"
   },
   {
    "duration": 341,
    "start_time": "2024-10-16T16:52:59.694Z"
   },
   {
    "duration": 333,
    "start_time": "2024-10-16T16:53:21.275Z"
   },
   {
    "duration": 327,
    "start_time": "2024-10-16T16:58:25.515Z"
   },
   {
    "duration": 606,
    "start_time": "2024-10-16T18:05:59.972Z"
   },
   {
    "duration": 3,
    "start_time": "2024-10-16T18:06:29.515Z"
   },
   {
    "duration": 465,
    "start_time": "2024-10-16T18:06:29.521Z"
   },
   {
    "duration": 40,
    "start_time": "2024-10-16T18:06:29.988Z"
   },
   {
    "duration": 8,
    "start_time": "2024-10-16T18:06:30.032Z"
   },
   {
    "duration": 7,
    "start_time": "2024-10-16T18:06:30.042Z"
   },
   {
    "duration": 6,
    "start_time": "2024-10-16T18:06:30.051Z"
   },
   {
    "duration": 5,
    "start_time": "2024-10-16T18:06:30.059Z"
   },
   {
    "duration": 4,
    "start_time": "2024-10-16T18:06:30.066Z"
   },
   {
    "duration": 117,
    "start_time": "2024-10-16T18:06:30.071Z"
   },
   {
    "duration": 210,
    "start_time": "2024-10-16T18:06:30.190Z"
   },
   {
    "duration": 163,
    "start_time": "2024-10-16T18:06:30.402Z"
   },
   {
    "duration": 1933,
    "start_time": "2024-10-16T18:06:30.567Z"
   },
   {
    "duration": 41,
    "start_time": "2024-10-16T18:06:32.504Z"
   },
   {
    "duration": 50,
    "start_time": "2024-10-16T18:06:32.548Z"
   },
   {
    "duration": 156,
    "start_time": "2024-10-16T18:06:32.600Z"
   },
   {
    "duration": 13,
    "start_time": "2024-10-16T18:06:32.758Z"
   },
   {
    "duration": 16,
    "start_time": "2024-10-16T18:06:32.773Z"
   },
   {
    "duration": 150,
    "start_time": "2024-10-16T18:06:32.791Z"
   },
   {
    "duration": 24,
    "start_time": "2024-10-16T18:06:32.943Z"
   },
   {
    "duration": 136,
    "start_time": "2024-10-16T18:06:32.969Z"
   },
   {
    "duration": 159,
    "start_time": "2024-10-16T18:06:33.107Z"
   },
   {
    "duration": 101,
    "start_time": "2024-10-16T18:06:33.268Z"
   },
   {
    "duration": 2838,
    "start_time": "2024-10-16T18:06:33.371Z"
   },
   {
    "duration": 67,
    "start_time": "2024-10-16T18:06:36.211Z"
   },
   {
    "duration": 25,
    "start_time": "2024-10-16T18:06:36.280Z"
   },
   {
    "duration": 896,
    "start_time": "2024-10-16T18:06:36.308Z"
   },
   {
    "duration": 5,
    "start_time": "2024-10-16T18:06:37.206Z"
   },
   {
    "duration": 329,
    "start_time": "2024-10-16T18:06:37.213Z"
   },
   {
    "duration": 10,
    "start_time": "2024-10-16T18:06:37.545Z"
   },
   {
    "duration": 4,
    "start_time": "2024-10-16T18:06:37.557Z"
   },
   {
    "duration": 14,
    "start_time": "2024-10-16T18:06:37.563Z"
   },
   {
    "duration": 3,
    "start_time": "2024-10-16T18:06:37.579Z"
   },
   {
    "duration": 7,
    "start_time": "2024-10-16T18:06:37.584Z"
   },
   {
    "duration": 578,
    "start_time": "2024-10-16T18:06:37.593Z"
   },
   {
    "duration": 14,
    "start_time": "2024-10-16T18:06:38.173Z"
   },
   {
    "duration": 451,
    "start_time": "2024-10-16T18:06:38.189Z"
   },
   {
    "duration": 3,
    "start_time": "2024-10-16T18:06:38.644Z"
   },
   {
    "duration": 5,
    "start_time": "2024-10-16T18:06:38.649Z"
   },
   {
    "duration": 50,
    "start_time": "2024-10-16T18:06:38.656Z"
   },
   {
    "duration": 33,
    "start_time": "2024-10-16T18:06:38.708Z"
   },
   {
    "duration": 316,
    "start_time": "2024-10-16T18:06:38.743Z"
   },
   {
    "duration": 264,
    "start_time": "2024-10-16T18:06:39.061Z"
   },
   {
    "duration": 2579,
    "start_time": "2024-12-23T21:30:42.191Z"
   },
   {
    "duration": 557,
    "start_time": "2024-12-23T21:30:44.772Z"
   },
   {
    "duration": 38,
    "start_time": "2024-12-23T21:30:45.330Z"
   },
   {
    "duration": 8,
    "start_time": "2024-12-23T21:30:45.371Z"
   },
   {
    "duration": 7,
    "start_time": "2024-12-23T21:30:45.381Z"
   },
   {
    "duration": 6,
    "start_time": "2024-12-23T21:30:45.390Z"
   },
   {
    "duration": 5,
    "start_time": "2024-12-23T21:30:45.397Z"
   },
   {
    "duration": 4,
    "start_time": "2024-12-23T21:30:45.432Z"
   },
   {
    "duration": 111,
    "start_time": "2024-12-23T21:30:45.438Z"
   },
   {
    "duration": 205,
    "start_time": "2024-12-23T21:30:45.552Z"
   },
   {
    "duration": 183,
    "start_time": "2024-12-23T21:30:45.758Z"
   },
   {
    "duration": 1621,
    "start_time": "2024-12-23T21:30:45.943Z"
   },
   {
    "duration": 41,
    "start_time": "2024-12-23T21:30:47.566Z"
   },
   {
    "duration": 70,
    "start_time": "2024-12-23T21:30:47.609Z"
   },
   {
    "duration": 265,
    "start_time": "2024-12-23T21:30:47.682Z"
   },
   {
    "duration": 12,
    "start_time": "2024-12-23T21:30:47.949Z"
   },
   {
    "duration": 19,
    "start_time": "2024-12-23T21:30:47.963Z"
   },
   {
    "duration": 158,
    "start_time": "2024-12-23T21:30:47.984Z"
   },
   {
    "duration": 24,
    "start_time": "2024-12-23T21:30:48.144Z"
   },
   {
    "duration": 126,
    "start_time": "2024-12-23T21:30:48.170Z"
   },
   {
    "duration": 171,
    "start_time": "2024-12-23T21:30:48.298Z"
   },
   {
    "duration": 89,
    "start_time": "2024-12-23T21:30:48.471Z"
   },
   {
    "duration": 2400,
    "start_time": "2024-12-23T21:30:48.562Z"
   },
   {
    "duration": 69,
    "start_time": "2024-12-23T21:30:50.963Z"
   },
   {
    "duration": 25,
    "start_time": "2024-12-23T21:30:51.034Z"
   },
   {
    "duration": 6,
    "start_time": "2024-12-23T21:30:51.060Z"
   },
   {
    "duration": 0,
    "start_time": "2024-12-23T21:30:51.068Z"
   },
   {
    "duration": 0,
    "start_time": "2024-12-23T21:30:51.070Z"
   },
   {
    "duration": 0,
    "start_time": "2024-12-23T21:30:51.071Z"
   },
   {
    "duration": 0,
    "start_time": "2024-12-23T21:30:51.072Z"
   },
   {
    "duration": 0,
    "start_time": "2024-12-23T21:30:51.072Z"
   },
   {
    "duration": 0,
    "start_time": "2024-12-23T21:30:51.073Z"
   },
   {
    "duration": 0,
    "start_time": "2024-12-23T21:30:51.075Z"
   },
   {
    "duration": 0,
    "start_time": "2024-12-23T21:30:51.075Z"
   },
   {
    "duration": 0,
    "start_time": "2024-12-23T21:30:51.077Z"
   },
   {
    "duration": 0,
    "start_time": "2024-12-23T21:30:51.078Z"
   },
   {
    "duration": 0,
    "start_time": "2024-12-23T21:30:51.078Z"
   },
   {
    "duration": 0,
    "start_time": "2024-12-23T21:30:51.079Z"
   },
   {
    "duration": 0,
    "start_time": "2024-12-23T21:30:51.080Z"
   },
   {
    "duration": 0,
    "start_time": "2024-12-23T21:30:51.082Z"
   },
   {
    "duration": 0,
    "start_time": "2024-12-23T21:30:51.083Z"
   },
   {
    "duration": 0,
    "start_time": "2024-12-23T21:30:51.084Z"
   },
   {
    "duration": 220,
    "start_time": "2024-12-23T21:31:36.664Z"
   },
   {
    "duration": 3,
    "start_time": "2024-12-23T21:31:45.508Z"
   },
   {
    "duration": 442,
    "start_time": "2024-12-23T21:31:45.519Z"
   },
   {
    "duration": 37,
    "start_time": "2024-12-23T21:31:45.963Z"
   },
   {
    "duration": 8,
    "start_time": "2024-12-23T21:31:46.002Z"
   },
   {
    "duration": 20,
    "start_time": "2024-12-23T21:31:46.012Z"
   },
   {
    "duration": 5,
    "start_time": "2024-12-23T21:31:46.034Z"
   },
   {
    "duration": 4,
    "start_time": "2024-12-23T21:31:46.040Z"
   },
   {
    "duration": 5,
    "start_time": "2024-12-23T21:31:46.046Z"
   },
   {
    "duration": 112,
    "start_time": "2024-12-23T21:31:46.052Z"
   },
   {
    "duration": 196,
    "start_time": "2024-12-23T21:31:46.166Z"
   },
   {
    "duration": 148,
    "start_time": "2024-12-23T21:31:46.365Z"
   },
   {
    "duration": 1563,
    "start_time": "2024-12-23T21:31:46.515Z"
   },
   {
    "duration": 38,
    "start_time": "2024-12-23T21:31:48.080Z"
   },
   {
    "duration": 60,
    "start_time": "2024-12-23T21:31:48.120Z"
   },
   {
    "duration": 160,
    "start_time": "2024-12-23T21:31:48.182Z"
   },
   {
    "duration": 13,
    "start_time": "2024-12-23T21:31:48.344Z"
   },
   {
    "duration": 17,
    "start_time": "2024-12-23T21:31:48.359Z"
   },
   {
    "duration": 140,
    "start_time": "2024-12-23T21:31:48.377Z"
   },
   {
    "duration": 32,
    "start_time": "2024-12-23T21:31:48.518Z"
   },
   {
    "duration": 128,
    "start_time": "2024-12-23T21:31:48.552Z"
   },
   {
    "duration": 160,
    "start_time": "2024-12-23T21:31:48.682Z"
   },
   {
    "duration": 104,
    "start_time": "2024-12-23T21:31:48.844Z"
   },
   {
    "duration": 2422,
    "start_time": "2024-12-23T21:31:48.950Z"
   },
   {
    "duration": 66,
    "start_time": "2024-12-23T21:31:51.374Z"
   },
   {
    "duration": 25,
    "start_time": "2024-12-23T21:31:51.442Z"
   },
   {
    "duration": 4,
    "start_time": "2024-12-23T21:31:51.469Z"
   },
   {
    "duration": 0,
    "start_time": "2024-12-23T21:31:51.476Z"
   },
   {
    "duration": 0,
    "start_time": "2024-12-23T21:31:51.477Z"
   },
   {
    "duration": 0,
    "start_time": "2024-12-23T21:31:51.478Z"
   },
   {
    "duration": 0,
    "start_time": "2024-12-23T21:31:51.479Z"
   },
   {
    "duration": 0,
    "start_time": "2024-12-23T21:31:51.481Z"
   },
   {
    "duration": 0,
    "start_time": "2024-12-23T21:31:51.481Z"
   },
   {
    "duration": 0,
    "start_time": "2024-12-23T21:31:51.482Z"
   },
   {
    "duration": 0,
    "start_time": "2024-12-23T21:31:51.483Z"
   },
   {
    "duration": 0,
    "start_time": "2024-12-23T21:31:51.484Z"
   },
   {
    "duration": 0,
    "start_time": "2024-12-23T21:31:51.485Z"
   },
   {
    "duration": 0,
    "start_time": "2024-12-23T21:31:51.486Z"
   },
   {
    "duration": 0,
    "start_time": "2024-12-23T21:31:51.487Z"
   },
   {
    "duration": 0,
    "start_time": "2024-12-23T21:31:51.488Z"
   },
   {
    "duration": 0,
    "start_time": "2024-12-23T21:31:51.489Z"
   },
   {
    "duration": 0,
    "start_time": "2024-12-23T21:31:51.490Z"
   },
   {
    "duration": 0,
    "start_time": "2024-12-23T21:31:51.491Z"
   },
   {
    "duration": 886,
    "start_time": "2024-12-23T21:35:03.538Z"
   },
   {
    "duration": 17,
    "start_time": "2024-12-23T21:35:35.265Z"
   },
   {
    "duration": 13,
    "start_time": "2024-12-23T21:35:41.657Z"
   },
   {
    "duration": 4,
    "start_time": "2024-12-23T21:35:45.233Z"
   },
   {
    "duration": 6,
    "start_time": "2024-12-23T21:35:46.491Z"
   },
   {
    "duration": 539,
    "start_time": "2024-12-23T21:35:49.134Z"
   },
   {
    "duration": 15,
    "start_time": "2024-12-23T21:35:53.470Z"
   },
   {
    "duration": 455,
    "start_time": "2024-12-23T21:35:59.928Z"
   },
   {
    "duration": 4,
    "start_time": "2024-12-23T21:36:12.724Z"
   },
   {
    "duration": 5,
    "start_time": "2024-12-23T21:36:13.907Z"
   },
   {
    "duration": 51,
    "start_time": "2024-12-23T21:36:16.926Z"
   },
   {
    "duration": 11,
    "start_time": "2024-12-23T21:36:19.528Z"
   },
   {
    "duration": 318,
    "start_time": "2024-12-23T21:36:21.675Z"
   },
   {
    "duration": 269,
    "start_time": "2024-12-23T21:36:26.298Z"
   }
  ],
  "kernelspec": {
   "display_name": "Python 3 (ipykernel)",
   "language": "python",
   "name": "python3"
  },
  "language_info": {
   "codemirror_mode": {
    "name": "ipython",
    "version": 3
   },
   "file_extension": ".py",
   "mimetype": "text/x-python",
   "name": "python",
   "nbconvert_exporter": "python",
   "pygments_lexer": "ipython3",
   "version": "3.9.19"
  },
  "toc": {
   "base_numbering": 1,
   "nav_menu": {},
   "number_sections": true,
   "sideBar": true,
   "skip_h1_title": true,
   "title_cell": "Table of Contents",
   "title_sidebar": "Contents",
   "toc_cell": false,
   "toc_position": {},
   "toc_section_display": true,
   "toc_window_display": false
  }
 },
 "nbformat": 4,
 "nbformat_minor": 2
}
